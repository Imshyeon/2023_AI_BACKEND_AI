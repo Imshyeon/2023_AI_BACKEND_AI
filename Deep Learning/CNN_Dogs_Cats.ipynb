{
  "nbformat": 4,
  "nbformat_minor": 0,
  "metadata": {
    "colab": {
      "provenance": [],
      "gpuType": "T4",
      "authorship_tag": "ABX9TyMFMaVoWKSOE37x8uJfGPAV",
      "include_colab_link": true
    },
    "kernelspec": {
      "name": "python3",
      "display_name": "Python 3"
    },
    "language_info": {
      "name": "python"
    },
    "accelerator": "GPU"
  },
  "cells": [
    {
      "cell_type": "markdown",
      "metadata": {
        "id": "view-in-github",
        "colab_type": "text"
      },
      "source": [
        "<a href=\"https://colab.research.google.com/github/Imshyeon/2023_AI_BACKEND_AI/blob/master/Deep%20Learning/CNN_Dogs_Cats.ipynb\" target=\"_parent\"><img src=\"https://colab.research.google.com/assets/colab-badge.svg\" alt=\"Open In Colab\"/></a>"
      ]
    },
    {
      "cell_type": "code",
      "execution_count": 1,
      "metadata": {
        "id": "3ubC9JbgcsDO"
      },
      "outputs": [],
      "source": [
        "import warnings\n",
        "warnings.filterwarnings('ignore')"
      ]
    },
    {
      "cell_type": "code",
      "source": [
        "import tensorflow as tf\n",
        "tf.__version__"
      ],
      "metadata": {
        "colab": {
          "base_uri": "https://localhost:8080/",
          "height": 56
        },
        "id": "0KW842dbc3ji",
        "outputId": "25753f3d-16ce-41a8-97b5-bad72ecede51"
      },
      "execution_count": 2,
      "outputs": [
        {
          "output_type": "execute_result",
          "data": {
            "text/plain": [
              "'2.13.0'"
            ],
            "application/vnd.google.colaboratory.intrinsic+json": {
              "type": "string"
            }
          },
          "metadata": {},
          "execution_count": 2
        }
      ]
    },
    {
      "cell_type": "code",
      "source": [
        "from google.colab import drive\n",
        "\n",
        "drive.mount('/content/drive')"
      ],
      "metadata": {
        "colab": {
          "base_uri": "https://localhost:8080/"
        },
        "id": "06ueAz8ec7HF",
        "outputId": "b2cac50d-5d1c-4219-f963-ddf6ee578aac"
      },
      "execution_count": 4,
      "outputs": [
        {
          "output_type": "stream",
          "name": "stdout",
          "text": [
            "Mounted at /content/drive\n"
          ]
        }
      ]
    },
    {
      "cell_type": "code",
      "source": [
        "!mkdir -p '/content/drive/My Drive/Colab Notebooks/datasets'"
      ],
      "metadata": {
        "id": "PJ4iMnjcc_qh"
      },
      "execution_count": 5,
      "outputs": []
    },
    {
      "cell_type": "code",
      "source": [
        "!ls -l '/content/drive/My Drive/Colab Notebooks/datasets/dogs_and_cats_small.zip'"
      ],
      "metadata": {
        "colab": {
          "base_uri": "https://localhost:8080/"
        },
        "id": "EOibjkqNdJQ5",
        "outputId": "483f78c1-c660-44bc-d152-9f8e60e9ae00"
      },
      "execution_count": 13,
      "outputs": [
        {
          "output_type": "stream",
          "name": "stdout",
          "text": [
            "-rw------- 1 root root 90618980 Oct 13 00:49 '/content/drive/My Drive/Colab Notebooks/datasets/dogs_and_cats_small.zip'\n"
          ]
        }
      ]
    },
    {
      "cell_type": "markdown",
      "source": [
        "# Data Preprocessing"
      ],
      "metadata": {
        "id": "516y9HIogtGX"
      }
    },
    {
      "cell_type": "code",
      "source": [
        "!unzip -q '/content/drive/My Drive/Colab Notebooks/datasets/dogs_and_cats_small.zip'"
      ],
      "metadata": {
        "id": "zFEOGqw3gChJ"
      },
      "execution_count": 18,
      "outputs": []
    },
    {
      "cell_type": "code",
      "source": [
        "!ls -l"
      ],
      "metadata": {
        "colab": {
          "base_uri": "https://localhost:8080/"
        },
        "id": "b9emai_Og20o",
        "outputId": "158c9b34-437e-4f35-e020-dfaf252ce5e9"
      },
      "execution_count": 20,
      "outputs": [
        {
          "output_type": "stream",
          "name": "stdout",
          "text": [
            "total 20\n",
            "drwx------ 5 root root 4096 Oct 13 00:33 drive\n",
            "drwxr-xr-x 1 root root 4096 Oct 11 13:23 sample_data\n",
            "drwxr-xr-x 4 root root 4096 Oct 13 00:52 test\n",
            "drwxr-xr-x 4 root root 4096 Oct 13 00:52 train\n",
            "drwxr-xr-x 4 root root 4096 Oct 13 00:52 validation\n"
          ]
        }
      ]
    },
    {
      "cell_type": "code",
      "source": [
        "train_dir = '/content/train'\n",
        "valid_dir = '/content/validation'\n",
        "test_dir = '/content/test'"
      ],
      "metadata": {
        "id": "QGZBPRb9hSOQ"
      },
      "execution_count": 22,
      "outputs": []
    },
    {
      "cell_type": "code",
      "source": [
        "from tensorflow.keras.preprocessing.image import ImageDataGenerator\n",
        "\n",
        "train_datagen = ImageDataGenerator(rescale = 1./255)\n",
        "valid_datagen = ImageDataGenerator(rescale = 1./255)\n",
        "\n",
        "train_generator = train_datagen.flow_from_directory(\n",
        "    train_dir,\n",
        "    target_size = (150, 150),\n",
        "    batch_size = 20,\n",
        "    class_mode = 'binary'\n",
        ")\n",
        "\n",
        "valid_generator = valid_datagen.flow_from_directory(\n",
        "    valid_dir,\n",
        "    target_size = (150, 150),\n",
        "    batch_size = 20,\n",
        "    class_mode = 'binary'\n",
        ")"
      ],
      "metadata": {
        "colab": {
          "base_uri": "https://localhost:8080/"
        },
        "id": "wL8YoG36ip3m",
        "outputId": "56791af3-6dae-45ac-f7da-a176c2d3ac86"
      },
      "execution_count": 24,
      "outputs": [
        {
          "output_type": "stream",
          "name": "stdout",
          "text": [
            "Found 2000 images belonging to 2 classes.\n",
            "Found 1000 images belonging to 2 classes.\n"
          ]
        }
      ]
    },
    {
      "cell_type": "code",
      "source": [
        "for data_batch, labels_batch in train_generator:\n",
        "  print('배치 데이터 크기:', data_batch.shape)\n",
        "  print('배치 레이블 크기:', labels_batch.shape)\n",
        "  break"
      ],
      "metadata": {
        "colab": {
          "base_uri": "https://localhost:8080/"
        },
        "id": "I2xiVfdajNkz",
        "outputId": "353a0ea7-5911-4d54-97bc-348085542ae7"
      },
      "execution_count": 25,
      "outputs": [
        {
          "output_type": "stream",
          "name": "stdout",
          "text": [
            "배치 데이터 크기: (20, 150, 150, 3)\n",
            "배치 레이블 크기: (20,)\n"
          ]
        }
      ]
    },
    {
      "cell_type": "code",
      "source": [
        "labels_batch"
      ],
      "metadata": {
        "colab": {
          "base_uri": "https://localhost:8080/"
        },
        "id": "nMpuQbgTjfA2",
        "outputId": "d1da170b-ac26-401e-84eb-9213f8b40af7"
      },
      "execution_count": 26,
      "outputs": [
        {
          "output_type": "execute_result",
          "data": {
            "text/plain": [
              "array([1., 1., 0., 0., 1., 0., 1., 1., 0., 0., 1., 0., 1., 1., 1., 1., 1.,\n",
              "       1., 1., 1.], dtype=float32)"
            ]
          },
          "metadata": {},
          "execution_count": 26
        }
      ]
    },
    {
      "cell_type": "markdown",
      "source": [
        "# CNN Keras Modeling"
      ],
      "metadata": {
        "id": "VTC9WO9fjiKh"
      }
    },
    {
      "cell_type": "code",
      "source": [
        "from tensorflow.keras import layers\n",
        "from tensorflow.keras import models\n",
        "\n",
        "model = models.Sequential()\n",
        "model.add(layers.Conv2D(32, (3,3), activation = 'relu', input_shape = (150,150,3)))\n",
        "model.add(layers.MaxPooling2D((2,2)))\n",
        "model.add(layers.Conv2D(64, (3,3), activation = 'relu'))\n",
        "model.add(layers.MaxPooling2D((2,2)))\n",
        "model.add(layers.Conv2D(128, (3,3), activation = 'relu'))\n",
        "model.add(layers.MaxPooling2D((2,2)))\n",
        "model.add(layers.Conv2D(128, (3,3), activation = 'relu'))\n",
        "model.add(layers.MaxPooling2D((2,2)))\n",
        "\n",
        "model.add(layers.Flatten())\n",
        "model.add(layers.Dense(512, activation = 'relu'))\n",
        "model.add(layers.Dense(1, activation = 'sigmoid'))"
      ],
      "metadata": {
        "id": "3Og-LTJbjgH8"
      },
      "execution_count": 27,
      "outputs": []
    },
    {
      "cell_type": "code",
      "source": [
        "model.summary()"
      ],
      "metadata": {
        "colab": {
          "base_uri": "https://localhost:8080/"
        },
        "id": "fUg20KvtkVdo",
        "outputId": "7069e9f5-9533-40b6-8fc5-38c2214fb61c"
      },
      "execution_count": 28,
      "outputs": [
        {
          "output_type": "stream",
          "name": "stdout",
          "text": [
            "Model: \"sequential\"\n",
            "_________________________________________________________________\n",
            " Layer (type)                Output Shape              Param #   \n",
            "=================================================================\n",
            " conv2d (Conv2D)             (None, 148, 148, 32)      896       \n",
            "                                                                 \n",
            " max_pooling2d (MaxPooling2  (None, 74, 74, 32)        0         \n",
            " D)                                                              \n",
            "                                                                 \n",
            " conv2d_1 (Conv2D)           (None, 72, 72, 64)        18496     \n",
            "                                                                 \n",
            " max_pooling2d_1 (MaxPoolin  (None, 36, 36, 64)        0         \n",
            " g2D)                                                            \n",
            "                                                                 \n",
            " conv2d_2 (Conv2D)           (None, 34, 34, 128)       73856     \n",
            "                                                                 \n",
            " max_pooling2d_2 (MaxPoolin  (None, 17, 17, 128)       0         \n",
            " g2D)                                                            \n",
            "                                                                 \n",
            " conv2d_3 (Conv2D)           (None, 15, 15, 128)       147584    \n",
            "                                                                 \n",
            " max_pooling2d_3 (MaxPoolin  (None, 7, 7, 128)         0         \n",
            " g2D)                                                            \n",
            "                                                                 \n",
            " flatten (Flatten)           (None, 6272)              0         \n",
            "                                                                 \n",
            " dense (Dense)               (None, 512)               3211776   \n",
            "                                                                 \n",
            " dense_1 (Dense)             (None, 1)                 513       \n",
            "                                                                 \n",
            "=================================================================\n",
            "Total params: 3453121 (13.17 MB)\n",
            "Trainable params: 3453121 (13.17 MB)\n",
            "Non-trainable params: 0 (0.00 Byte)\n",
            "_________________________________________________________________\n"
          ]
        }
      ]
    },
    {
      "cell_type": "code",
      "source": [
        "model.compile(loss = 'binary_crossentropy',\n",
        "              optimizer = 'adam',\n",
        "              metrics = ['accuracy'])"
      ],
      "metadata": {
        "id": "LjYA_W4TkWNf"
      },
      "execution_count": 29,
      "outputs": []
    },
    {
      "cell_type": "code",
      "source": [
        "%%time\n",
        "\n",
        "Hist_dandc = model.fit(train_generator,\n",
        "                       steps_per_epoch = 100,\n",
        "                       epochs = 60,\n",
        "                       validation_data = valid_generator,\n",
        "                       validation_steps = 50)"
      ],
      "metadata": {
        "colab": {
          "base_uri": "https://localhost:8080/"
        },
        "id": "fMmCpMsgkgx-",
        "outputId": "246c4dae-e9b7-452e-bd56-2ece522a4e58"
      },
      "execution_count": 30,
      "outputs": [
        {
          "output_type": "stream",
          "name": "stdout",
          "text": [
            "Epoch 1/60\n",
            "100/100 [==============================] - 22s 70ms/step - loss: 0.6992 - accuracy: 0.5035 - val_loss: 0.6850 - val_accuracy: 0.5420\n",
            "Epoch 2/60\n",
            "100/100 [==============================] - 7s 69ms/step - loss: 0.6908 - accuracy: 0.5200 - val_loss: 0.6748 - val_accuracy: 0.5920\n",
            "Epoch 3/60\n",
            "100/100 [==============================] - 10s 97ms/step - loss: 0.6614 - accuracy: 0.5985 - val_loss: 0.6791 - val_accuracy: 0.5620\n",
            "Epoch 4/60\n",
            "100/100 [==============================] - 15s 152ms/step - loss: 0.6291 - accuracy: 0.6360 - val_loss: 0.6419 - val_accuracy: 0.6430\n",
            "Epoch 5/60\n",
            "100/100 [==============================] - 13s 132ms/step - loss: 0.6029 - accuracy: 0.6720 - val_loss: 0.6552 - val_accuracy: 0.6090\n",
            "Epoch 6/60\n",
            "100/100 [==============================] - 10s 104ms/step - loss: 0.5653 - accuracy: 0.6950 - val_loss: 0.7488 - val_accuracy: 0.5970\n",
            "Epoch 7/60\n",
            "100/100 [==============================] - 10s 101ms/step - loss: 0.5229 - accuracy: 0.7445 - val_loss: 0.6026 - val_accuracy: 0.7000\n",
            "Epoch 8/60\n",
            "100/100 [==============================] - 7s 75ms/step - loss: 0.4621 - accuracy: 0.7845 - val_loss: 0.6212 - val_accuracy: 0.6950\n",
            "Epoch 9/60\n",
            "100/100 [==============================] - 8s 83ms/step - loss: 0.4044 - accuracy: 0.8065 - val_loss: 0.6814 - val_accuracy: 0.6930\n",
            "Epoch 10/60\n",
            "100/100 [==============================] - 8s 77ms/step - loss: 0.3572 - accuracy: 0.8270 - val_loss: 0.7818 - val_accuracy: 0.6700\n",
            "Epoch 11/60\n",
            "100/100 [==============================] - 7s 67ms/step - loss: 0.2827 - accuracy: 0.8705 - val_loss: 0.7557 - val_accuracy: 0.7000\n",
            "Epoch 12/60\n",
            "100/100 [==============================] - 9s 87ms/step - loss: 0.2087 - accuracy: 0.9245 - val_loss: 0.9510 - val_accuracy: 0.6710\n",
            "Epoch 13/60\n",
            "100/100 [==============================] - 10s 102ms/step - loss: 0.1644 - accuracy: 0.9310 - val_loss: 1.0539 - val_accuracy: 0.6830\n",
            "Epoch 14/60\n",
            "100/100 [==============================] - 8s 77ms/step - loss: 0.1200 - accuracy: 0.9540 - val_loss: 1.3198 - val_accuracy: 0.6980\n",
            "Epoch 15/60\n",
            "100/100 [==============================] - 10s 95ms/step - loss: 0.1095 - accuracy: 0.9555 - val_loss: 1.3024 - val_accuracy: 0.6670\n",
            "Epoch 16/60\n",
            "100/100 [==============================] - 8s 83ms/step - loss: 0.0568 - accuracy: 0.9805 - val_loss: 1.6620 - val_accuracy: 0.6850\n",
            "Epoch 17/60\n",
            "100/100 [==============================] - 7s 72ms/step - loss: 0.1094 - accuracy: 0.9640 - val_loss: 1.4097 - val_accuracy: 0.6700\n",
            "Epoch 18/60\n",
            "100/100 [==============================] - 11s 111ms/step - loss: 0.0412 - accuracy: 0.9865 - val_loss: 1.6512 - val_accuracy: 0.6900\n",
            "Epoch 19/60\n",
            "100/100 [==============================] - 6s 62ms/step - loss: 0.0121 - accuracy: 0.9975 - val_loss: 2.0613 - val_accuracy: 0.7000\n",
            "Epoch 20/60\n",
            "100/100 [==============================] - 7s 75ms/step - loss: 0.0047 - accuracy: 0.9995 - val_loss: 2.2276 - val_accuracy: 0.7060\n",
            "Epoch 21/60\n",
            "100/100 [==============================] - 10s 102ms/step - loss: 0.0018 - accuracy: 1.0000 - val_loss: 2.3880 - val_accuracy: 0.7020\n",
            "Epoch 22/60\n",
            "100/100 [==============================] - 8s 75ms/step - loss: 7.5461e-04 - accuracy: 1.0000 - val_loss: 2.5163 - val_accuracy: 0.7100\n",
            "Epoch 23/60\n",
            "100/100 [==============================] - 10s 103ms/step - loss: 4.8061e-04 - accuracy: 1.0000 - val_loss: 2.6097 - val_accuracy: 0.7020\n",
            "Epoch 24/60\n",
            "100/100 [==============================] - 9s 95ms/step - loss: 3.3825e-04 - accuracy: 1.0000 - val_loss: 2.7131 - val_accuracy: 0.7060\n",
            "Epoch 25/60\n",
            "100/100 [==============================] - 6s 60ms/step - loss: 2.5777e-04 - accuracy: 1.0000 - val_loss: 2.8147 - val_accuracy: 0.7120\n",
            "Epoch 26/60\n",
            "100/100 [==============================] - 9s 90ms/step - loss: 2.0281e-04 - accuracy: 1.0000 - val_loss: 2.8780 - val_accuracy: 0.7140\n",
            "Epoch 27/60\n",
            "100/100 [==============================] - 7s 75ms/step - loss: 1.5935e-04 - accuracy: 1.0000 - val_loss: 2.9796 - val_accuracy: 0.7110\n",
            "Epoch 28/60\n",
            "100/100 [==============================] - 8s 80ms/step - loss: 1.3213e-04 - accuracy: 1.0000 - val_loss: 3.0109 - val_accuracy: 0.7120\n",
            "Epoch 29/60\n",
            "100/100 [==============================] - 6s 61ms/step - loss: 1.1003e-04 - accuracy: 1.0000 - val_loss: 3.0693 - val_accuracy: 0.7110\n",
            "Epoch 30/60\n",
            "100/100 [==============================] - 7s 73ms/step - loss: 9.2587e-05 - accuracy: 1.0000 - val_loss: 3.1443 - val_accuracy: 0.7110\n",
            "Epoch 31/60\n",
            "100/100 [==============================] - 8s 76ms/step - loss: 7.8577e-05 - accuracy: 1.0000 - val_loss: 3.1917 - val_accuracy: 0.7080\n",
            "Epoch 32/60\n",
            "100/100 [==============================] - 8s 76ms/step - loss: 6.7566e-05 - accuracy: 1.0000 - val_loss: 3.2620 - val_accuracy: 0.7090\n",
            "Epoch 33/60\n",
            "100/100 [==============================] - 7s 71ms/step - loss: 5.8321e-05 - accuracy: 1.0000 - val_loss: 3.2844 - val_accuracy: 0.7090\n",
            "Epoch 34/60\n",
            "100/100 [==============================] - 8s 80ms/step - loss: 5.1313e-05 - accuracy: 1.0000 - val_loss: 3.3383 - val_accuracy: 0.7110\n",
            "Epoch 35/60\n",
            "100/100 [==============================] - 6s 60ms/step - loss: 4.4316e-05 - accuracy: 1.0000 - val_loss: 3.3986 - val_accuracy: 0.7080\n",
            "Epoch 36/60\n",
            "100/100 [==============================] - 8s 82ms/step - loss: 3.9196e-05 - accuracy: 1.0000 - val_loss: 3.4227 - val_accuracy: 0.7110\n",
            "Epoch 37/60\n",
            "100/100 [==============================] - 7s 68ms/step - loss: 3.4267e-05 - accuracy: 1.0000 - val_loss: 3.4391 - val_accuracy: 0.7100\n",
            "Epoch 38/60\n",
            "100/100 [==============================] - 9s 88ms/step - loss: 3.0644e-05 - accuracy: 1.0000 - val_loss: 3.4952 - val_accuracy: 0.7070\n",
            "Epoch 39/60\n",
            "100/100 [==============================] - 7s 72ms/step - loss: 2.7020e-05 - accuracy: 1.0000 - val_loss: 3.5450 - val_accuracy: 0.7070\n",
            "Epoch 40/60\n",
            "100/100 [==============================] - 5s 51ms/step - loss: 2.4278e-05 - accuracy: 1.0000 - val_loss: 3.5628 - val_accuracy: 0.7050\n",
            "Epoch 41/60\n",
            "100/100 [==============================] - 6s 63ms/step - loss: 2.1688e-05 - accuracy: 1.0000 - val_loss: 3.5967 - val_accuracy: 0.7080\n",
            "Epoch 42/60\n",
            "100/100 [==============================] - 10s 102ms/step - loss: 1.9199e-05 - accuracy: 1.0000 - val_loss: 3.6204 - val_accuracy: 0.7050\n",
            "Epoch 43/60\n",
            "100/100 [==============================] - 7s 69ms/step - loss: 1.7244e-05 - accuracy: 1.0000 - val_loss: 3.6674 - val_accuracy: 0.7050\n",
            "Epoch 44/60\n",
            "100/100 [==============================] - 8s 80ms/step - loss: 1.5483e-05 - accuracy: 1.0000 - val_loss: 3.6849 - val_accuracy: 0.7080\n",
            "Epoch 45/60\n",
            "100/100 [==============================] - 13s 125ms/step - loss: 1.3952e-05 - accuracy: 1.0000 - val_loss: 3.7239 - val_accuracy: 0.7050\n",
            "Epoch 46/60\n",
            "100/100 [==============================] - 7s 70ms/step - loss: 1.2749e-05 - accuracy: 1.0000 - val_loss: 3.7358 - val_accuracy: 0.7090\n",
            "Epoch 47/60\n",
            "100/100 [==============================] - 5s 51ms/step - loss: 1.1492e-05 - accuracy: 1.0000 - val_loss: 3.7610 - val_accuracy: 0.7060\n",
            "Epoch 48/60\n",
            "100/100 [==============================] - 6s 63ms/step - loss: 1.0435e-05 - accuracy: 1.0000 - val_loss: 3.7888 - val_accuracy: 0.7060\n",
            "Epoch 49/60\n",
            "100/100 [==============================] - 5s 52ms/step - loss: 9.5372e-06 - accuracy: 1.0000 - val_loss: 3.8086 - val_accuracy: 0.7050\n",
            "Epoch 50/60\n",
            "100/100 [==============================] - 7s 67ms/step - loss: 8.7300e-06 - accuracy: 1.0000 - val_loss: 3.8442 - val_accuracy: 0.7050\n",
            "Epoch 51/60\n",
            "100/100 [==============================] - 5s 52ms/step - loss: 7.9772e-06 - accuracy: 1.0000 - val_loss: 3.8560 - val_accuracy: 0.7060\n",
            "Epoch 52/60\n",
            "100/100 [==============================] - 6s 57ms/step - loss: 7.3703e-06 - accuracy: 1.0000 - val_loss: 3.8817 - val_accuracy: 0.7050\n",
            "Epoch 53/60\n",
            "100/100 [==============================] - 6s 61ms/step - loss: 6.7074e-06 - accuracy: 1.0000 - val_loss: 3.9149 - val_accuracy: 0.7050\n",
            "Epoch 54/60\n",
            "100/100 [==============================] - 5s 52ms/step - loss: 6.1444e-06 - accuracy: 1.0000 - val_loss: 3.9158 - val_accuracy: 0.7060\n",
            "Epoch 55/60\n",
            "100/100 [==============================] - 7s 68ms/step - loss: 5.6466e-06 - accuracy: 1.0000 - val_loss: 3.9449 - val_accuracy: 0.7060\n",
            "Epoch 56/60\n",
            "100/100 [==============================] - 5s 51ms/step - loss: 5.1842e-06 - accuracy: 1.0000 - val_loss: 3.9720 - val_accuracy: 0.7060\n",
            "Epoch 57/60\n",
            "100/100 [==============================] - 6s 59ms/step - loss: 4.7849e-06 - accuracy: 1.0000 - val_loss: 3.9759 - val_accuracy: 0.7060\n",
            "Epoch 58/60\n",
            "100/100 [==============================] - 7s 67ms/step - loss: 4.4314e-06 - accuracy: 1.0000 - val_loss: 4.0120 - val_accuracy: 0.7070\n",
            "Epoch 59/60\n",
            "100/100 [==============================] - 6s 62ms/step - loss: 4.0973e-06 - accuracy: 1.0000 - val_loss: 4.0147 - val_accuracy: 0.7060\n",
            "Epoch 60/60\n",
            "100/100 [==============================] - 6s 63ms/step - loss: 3.7667e-06 - accuracy: 1.0000 - val_loss: 4.0360 - val_accuracy: 0.7060\n",
            "CPU times: user 7min 15s, sys: 17.3 s, total: 7min 33s\n",
            "Wall time: 9min 59s\n"
          ]
        }
      ]
    },
    {
      "cell_type": "code",
      "source": [
        "import matplotlib.pyplot as plt\n",
        "\n",
        "epochs = range(1, len(Hist_dandc.history['loss']) + 1)\n",
        "\n",
        "plt.figure(figsize = (15,5))\n",
        "\n",
        "plt.subplot(1,2,1)\n",
        "plt.plot(epochs, Hist_dandc.history['loss'], 'b-')\n",
        "plt.plot(epochs, Hist_dandc.history['val_loss'], 'r--')\n",
        "plt.title('Training & Validation Loss')\n",
        "plt.xlabel('Epochs')\n",
        "plt.ylabel('Loss')\n",
        "plt.legend(['Training Loss', 'Validation Loss'])\n",
        "plt.grid()\n",
        "\n",
        "plt.subplot(1,2,2)\n",
        "plt.plot(epochs, Hist_dandc.history['accuracy'], 'b-')\n",
        "plt.plot(epochs, Hist_dandc.history['val_accuracy'], 'r--')\n",
        "plt.title('Training & Validation Accuracy')\n",
        "plt.xlabel('Epochs')\n",
        "plt.ylabel('Accuracy')\n",
        "plt.legend(['Training Accuracy', 'Validation Accuracy'])\n",
        "plt.grid()\n",
        "\n",
        "plt.show()"
      ],
      "metadata": {
        "colab": {
          "base_uri": "https://localhost:8080/",
          "height": 278
        },
        "id": "9xMZ_rDHktWG",
        "outputId": "5693ebd9-94b6-4b1e-e036-794f249db7cf"
      },
      "execution_count": 31,
      "outputs": [
        {
          "output_type": "display_data",
          "data": {
            "text/plain": [
              "<Figure size 1500x500 with 2 Axes>"
            ],
            "image/png": "[encoded data removed]"
          },
          "metadata": {}
        }
      ]
    },
    {
      "cell_type": "code",
      "source": [
        "test_datagen = ImageDataGenerator(rescale = 1./255)\n",
        "\n",
        "test_generator = test_datagen.flow_from_directory(\n",
        "    test_dir,\n",
        "    target_size = (150, 150),\n",
        "    batch_size = 20,\n",
        "    class_mode = 'binary'\n",
        ")"
      ],
      "metadata": {
        "colab": {
          "base_uri": "https://localhost:8080/"
        },
        "id": "g1gKZMs9lUHd",
        "outputId": "3003d650-7117-453c-aaa0-3769aa23d60e"
      },
      "execution_count": 32,
      "outputs": [
        {
          "output_type": "stream",
          "name": "stdout",
          "text": [
            "Found 1000 images belonging to 2 classes.\n"
          ]
        }
      ]
    },
    {
      "cell_type": "code",
      "source": [
        "loss, accuracy = model.evaluate(test_generator,\n",
        "                                steps = 50,\n",
        "                                verbose = 0)\n",
        "\n",
        "print('Loss = {:.5f}'.format(loss))\n",
        "print('Accuracy = {:.5f}'.format(accuracy))"
      ],
      "metadata": {
        "colab": {
          "base_uri": "https://localhost:8080/"
        },
        "id": "2KSi0-7Fli3x",
        "outputId": "dec77273-28de-4ade-9932-a4b81cfe4ec1"
      },
      "execution_count": 33,
      "outputs": [
        {
          "output_type": "stream",
          "name": "stdout",
          "text": [
            "Loss = 4.59712\n",
            "Accuracy = 0.69000\n"
          ]
        }
      ]
    },
    {
      "cell_type": "markdown",
      "source": [
        "# Model Save & Load to Google Drive"
      ],
      "metadata": {
        "id": "4OSVx4RQlyVa"
      }
    },
    {
      "cell_type": "code",
      "source": [
        "from google.colab import drive\n",
        "\n",
        "drive.mount('/content/drive')"
      ],
      "metadata": {
        "colab": {
          "base_uri": "https://localhost:8080/"
        },
        "id": "WUXMdWJ-lws6",
        "outputId": "87caa970-7ac3-4c0b-f4ca-59f9972e8a5d"
      },
      "execution_count": 34,
      "outputs": [
        {
          "output_type": "stream",
          "name": "stdout",
          "text": [
            "Drive already mounted at /content/drive; to attempt to forcibly remount, call drive.mount(\"/content/drive\", force_remount=True).\n"
          ]
        }
      ]
    },
    {
      "cell_type": "code",
      "source": [
        "!mkdir -p '/content/drive/My Drive/Colab Notebooks/models'"
      ],
      "metadata": {
        "id": "8RrlmIFYl51h"
      },
      "execution_count": 35,
      "outputs": []
    },
    {
      "cell_type": "code",
      "source": [
        "model.save('/content/drive/My Drive/Colab Notebooks/models/002_dogs_and_cats_small.h5')"
      ],
      "metadata": {
        "id": "yy6PLyh9l-tY"
      },
      "execution_count": 36,
      "outputs": []
    },
    {
      "cell_type": "code",
      "source": [
        "!ls -l '/content/drive/My Drive/Colab Notebooks/models'"
      ],
      "metadata": {
        "colab": {
          "base_uri": "https://localhost:8080/"
        },
        "id": "A8SQ32eBmFnb",
        "outputId": "c63a3e9b-cee9-48c8-de11-0bf685e88b31"
      },
      "execution_count": 37,
      "outputs": [
        {
          "output_type": "stream",
          "name": "stdout",
          "text": [
            "total 40558\n",
            "-rw------- 1 root root    34240 Oct 10 04:27 001_Model_iris.h5\n",
            "-rw------- 1 root root 41496728 Oct 13 01:17 002_dogs_and_cats_small.h5\n"
          ]
        }
      ]
    },
    {
      "cell_type": "code",
      "source": [
        "from tensorflow.keras.models import load_model\n",
        "\n",
        "model_small = load_model('/content/drive/My Drive/Colab Notebooks/models/002_dogs_and_cats_small.h5')"
      ],
      "metadata": {
        "id": "Sfy4j3VVmJ2h"
      },
      "execution_count": 38,
      "outputs": []
    },
    {
      "cell_type": "code",
      "source": [
        "loss, accuracy = model_small.evaluate(test_generator,\n",
        "                                      steps = 50,\n",
        "                                      verbose = 0)\n",
        "\n",
        "print('Loss = {:.5f}'.format(loss))\n",
        "print('Accuracy = {:.5f}'.format(accuracy))"
      ],
      "metadata": {
        "colab": {
          "base_uri": "https://localhost:8080/"
        },
        "id": "h-cYS2SrmX6Z",
        "outputId": "347a3d62-f3d6-468e-9ffe-f0d280b6b1eb"
      },
      "execution_count": 39,
      "outputs": [
        {
          "output_type": "stream",
          "name": "stdout",
          "text": [
            "Loss = 4.59711\n",
            "Accuracy = 0.69000\n"
          ]
        }
      ]
    }
  ]
}