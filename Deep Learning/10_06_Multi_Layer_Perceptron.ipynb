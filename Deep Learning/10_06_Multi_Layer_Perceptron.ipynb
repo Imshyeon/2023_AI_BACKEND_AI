{
  "nbformat": 4,
  "nbformat_minor": 0,
  "metadata": {
    "colab": {
      "provenance": [],
      "authorship_tag": "ABX9TyOmm1R/lRFk3hiUIzq16vW0",
      "include_colab_link": true
    },
    "kernelspec": {
      "name": "python3",
      "display_name": "Python 3"
    },
    "language_info": {
      "name": "python"
    }
  },
  "cells": [
    {
      "cell_type": "markdown",
      "metadata": {
        "id": "view-in-github",
        "colab_type": "text"
      },
      "source": [
        "<a href=\"https://colab.research.google.com/github/Imshyeon/2023_AI_BACKEND_AI/blob/master/Deep%20Learning/10_06_Multi_Layer_Perceptron.ipynb\" target=\"_parent\"><img src=\"https://colab.research.google.com/assets/colab-badge.svg\" alt=\"Open In Colab\"/></a>"
      ]
    },
    {
      "cell_type": "markdown",
      "source": [
        "# 수치미분"
      ],
      "metadata": {
        "id": "NNVCk4z1JiBd"
      }
    },
    {
      "cell_type": "code",
      "source": [
        "import warnings\n",
        "warnings.filterwarnings('ignore')"
      ],
      "metadata": {
        "id": "hsU6qOTyJhph"
      },
      "execution_count": 1,
      "outputs": []
    },
    {
      "cell_type": "code",
      "execution_count": 2,
      "metadata": {
        "id": "xAs0M5flodvl"
      },
      "outputs": [],
      "source": [
        "import numpy as np"
      ]
    },
    {
      "cell_type": "code",
      "source": [
        "def gradient(machine, param):\n",
        "  if param.ndim == 1:\n",
        "    temp_param = param\n",
        "    delta = 0.00005\n",
        "    learned_param = np.zeros(param.shape)\n",
        "\n",
        "    for index in range(len(param)):\n",
        "      target_param = float(temp_param[index])\n",
        "      temp_param[index] = target_param + delta\n",
        "      param_plus_delta = machine(temp_param)\n",
        "      temp_param[index] = target_param - delta\n",
        "      param_minus_delta = machine(temp_param)\n",
        "      learned_param[index] = (param_plus_delta - param_minus_delta) / (2*delta)\n",
        "      temp_param[index] = target_param\n",
        "\n",
        "    return learned_param\n",
        "\n",
        "  elif param.ndim == 2:\n",
        "    temp_param = param\n",
        "    delta = 0.00005\n",
        "    learned_param = np.zeros(param.shape)\n",
        "\n",
        "    rows = param.shape[0]\n",
        "    columns = param.shape[1]\n",
        "\n",
        "    for row in range(rows):\n",
        "      for column in range(columns):\n",
        "        target_param = float(temp_param[row, column])\n",
        "        temp_param[row, column] = target_param + delta\n",
        "        param_plus_delta = machine(temp_param)\n",
        "        temp_param[row, column] = target_param - delta\n",
        "        param_minus_delta = machine(temp_param)\n",
        "        learned_param[row, column] = (param_plus_delta - param_minus_delta) / (2*delta)\n",
        "        temp_param[row, column] = target_param\n",
        "\n",
        "    return learned_param"
      ],
      "metadata": {
        "id": "PKIsfpY0Jo9i"
      },
      "execution_count": 3,
      "outputs": []
    },
    {
      "cell_type": "markdown",
      "source": [
        "# Logic Gate"
      ],
      "metadata": {
        "id": "cYteCAkyKxUt"
      }
    },
    {
      "cell_type": "code",
      "source": [
        "import numpy as np\n",
        "\n",
        "def sigmoid(x):\n",
        "  y_hat = 1/(1+np.exp(-x))\n",
        "  return y_hat"
      ],
      "metadata": {
        "id": "wMiueXvMKwaj"
      },
      "execution_count": 4,
      "outputs": []
    },
    {
      "cell_type": "code",
      "source": [
        "class LogicGate:\n",
        "  def __init__(self, gate_Type, X_input, y_output):\n",
        "    self.Type = gate_Type\n",
        "    self.X_input = X_input.reshape(4,2)\n",
        "    self.y_output = y_output.reshape(4,1)\n",
        "\n",
        "    self.W = np.random.rand(2,1)\n",
        "    self.b = np.random.rand(1)\n",
        "\n",
        "    self.learning_rate = 0.01\n",
        "\n",
        "  def cost_func(self):\n",
        "    z = np.dot(self.X_input, self.W) + self.b\n",
        "    y_hat = sigmoid(z)\n",
        "\n",
        "    return -np.sum(self.y_output * np.log(y_hat) + (1 - self.y_output) * np.log(1-y_hat))\n",
        "\n",
        "\n",
        "  def fit(self):\n",
        "    machine = lambda x : self.cost_func()\n",
        "    print('Initial Cost = ', self.cost_func())\n",
        "\n",
        "    for step in range(10001):\n",
        "      self.W = self.W - self.learning_rate * gradient(machine, self.W)\n",
        "      self.b = self.b - self.learning_rate * gradient(machine, self.b)\n",
        "\n",
        "      if (step % 1000 == 0):\n",
        "        print('Step = ', step, 'Cost = ', self.cost_func())\n",
        "\n",
        "\n",
        "  def predict(self, input_data):\n",
        "    z = np.dot(input_data, self.W) + self.b\n",
        "    y_prob = sigmoid(z)\n",
        "\n",
        "    if y_prob > 0.5:\n",
        "      result = 1\n",
        "    else :\n",
        "      result = 0\n",
        "\n",
        "    return y_prob, result"
      ],
      "metadata": {
        "id": "YVdHXwgmK7H1"
      },
      "execution_count": 8,
      "outputs": []
    },
    {
      "cell_type": "markdown",
      "source": [
        "## AND GATE"
      ],
      "metadata": {
        "id": "ERK934WTNdl4"
      }
    },
    {
      "cell_type": "code",
      "source": [
        "X_input = np.array([[0,0],[0,1],[1,0],[1,1]])\n",
        "y_output = np.array([0,0,0,1])"
      ],
      "metadata": {
        "id": "Gne_6QI5MiHr"
      },
      "execution_count": 6,
      "outputs": []
    },
    {
      "cell_type": "code",
      "source": [
        "AND_Gate = LogicGate('AND_Gate', X_input, y_output)\n",
        "AND_Gate.fit()"
      ],
      "metadata": {
        "colab": {
          "base_uri": "https://localhost:8080/"
        },
        "id": "0xagKIHcMwZi",
        "outputId": "571949e9-5ad2-49a6-bf32-b7d3f8e4df67"
      },
      "execution_count": 9,
      "outputs": [
        {
          "output_type": "stream",
          "name": "stdout",
          "text": [
            "Initial Cost =  3.030284561368746\n",
            "Step =  0 Cost =  3.0059439560786734\n",
            "Step =  1000 Cost =  1.0004376073921188\n",
            "Step =  2000 Cost =  0.6575075410712348\n",
            "Step =  3000 Cost =  0.4898701893879218\n",
            "Step =  4000 Cost =  0.3892860559205624\n",
            "Step =  5000 Cost =  0.3222223708391401\n",
            "Step =  6000 Cost =  0.27440342249693683\n",
            "Step =  7000 Cost =  0.2386511756211968\n",
            "Step =  8000 Cost =  0.21095267698161507\n",
            "Step =  9000 Cost =  0.1888891051850125\n",
            "Step =  10000 Cost =  0.17091705082602862\n"
          ]
        }
      ]
    },
    {
      "cell_type": "code",
      "source": [
        "print(AND_Gate.Type, '\\n')\n",
        "test_data = np.array([[0,0],[0,1],[1,0],[1,1]])\n",
        "\n",
        "for input_data in test_data:\n",
        "  (sigmoid_val, logical_val) = AND_Gate.predict(input_data)\n",
        "  print(input_data, ' = ', logical_val)"
      ],
      "metadata": {
        "colab": {
          "base_uri": "https://localhost:8080/"
        },
        "id": "omA2tMTDM6-I",
        "outputId": "21f086b6-0ba7-4933-89d4-0b91a07b5afc"
      },
      "execution_count": 10,
      "outputs": [
        {
          "output_type": "stream",
          "name": "stdout",
          "text": [
            "AND_Gate \n",
            "\n",
            "[0 0]  =  0\n",
            "[0 1]  =  0\n",
            "[1 0]  =  0\n",
            "[1 1]  =  1\n"
          ]
        }
      ]
    },
    {
      "cell_type": "markdown",
      "source": [
        "## OR GATE"
      ],
      "metadata": {
        "id": "NiulksCHNiyW"
      }
    },
    {
      "cell_type": "code",
      "source": [
        "X_input = np.array([[0,0],[0,1],[1,0],[1,1]])\n",
        "y_output = np.array([0,1,1,1])"
      ],
      "metadata": {
        "id": "hRC2Lwg6NbK0"
      },
      "execution_count": 11,
      "outputs": []
    },
    {
      "cell_type": "code",
      "source": [
        "OR_Gate = LogicGate('OR_Gate', X_input, y_output)\n",
        "OR_Gate.fit()"
      ],
      "metadata": {
        "colab": {
          "base_uri": "https://localhost:8080/"
        },
        "id": "TaVguCc0NkQi",
        "outputId": "139fed1f-eaf1-4d8d-e5ed-bf0d663572d5"
      },
      "execution_count": 12,
      "outputs": [
        {
          "output_type": "stream",
          "name": "stdout",
          "text": [
            "Initial Cost =  1.6587058701043473\n",
            "Step =  0 Cost =  1.6566379005576013\n",
            "Step =  1000 Cost =  0.6900375688644784\n",
            "Step =  2000 Cost =  0.42008635195991223\n",
            "Step =  3000 Cost =  0.2976975643629262\n",
            "Step =  4000 Cost =  0.22898652505302106\n",
            "Step =  5000 Cost =  0.1853814193722079\n",
            "Step =  6000 Cost =  0.1554016305397193\n",
            "Step =  7000 Cost =  0.13359266334325903\n",
            "Step =  8000 Cost =  0.11704887198823398\n",
            "Step =  9000 Cost =  0.10408726374913861\n",
            "Step =  10000 Cost =  0.09366855313493647\n"
          ]
        }
      ]
    },
    {
      "cell_type": "code",
      "source": [
        "print(OR_Gate.Type, '\\n')\n",
        "test_data = np.array([[0,0],[0,1],[1,0],[1,1]])\n",
        "\n",
        "for input_data in test_data:\n",
        "  (sigmoid_val, logical_val) = OR_Gate.predict(input_data)\n",
        "  print(input_data, ' = ', logical_val)"
      ],
      "metadata": {
        "colab": {
          "base_uri": "https://localhost:8080/"
        },
        "id": "kFB8FJF9Npvs",
        "outputId": "61a0f185-d5cf-4040-8779-ca1629c77171"
      },
      "execution_count": 13,
      "outputs": [
        {
          "output_type": "stream",
          "name": "stdout",
          "text": [
            "OR_Gate \n",
            "\n",
            "[0 0]  =  0\n",
            "[0 1]  =  1\n",
            "[1 0]  =  1\n",
            "[1 1]  =  1\n"
          ]
        }
      ]
    },
    {
      "cell_type": "markdown",
      "source": [
        "## NAND GATE"
      ],
      "metadata": {
        "id": "GE_ldOzBNxJl"
      }
    },
    {
      "cell_type": "code",
      "source": [
        "X_input = np.array([[0,0],[0,1],[1,0],[1,1]])\n",
        "y_output = np.array([1,1,1,0])\n",
        "\n",
        "NAND_Gate = LogicGate('NAND_Gate', X_input, y_output)\n",
        "NAND_Gate.fit()"
      ],
      "metadata": {
        "colab": {
          "base_uri": "https://localhost:8080/"
        },
        "id": "Iq5ckxAWNv5u",
        "outputId": "59e39422-1f71-4776-8e76-24a0888469df"
      },
      "execution_count": 14,
      "outputs": [
        {
          "output_type": "stream",
          "name": "stdout",
          "text": [
            "Initial Cost =  2.856347182568095\n",
            "Step =  0 Cost =  2.8470805093525087\n",
            "Step =  1000 Cost =  1.0392006957666282\n",
            "Step =  2000 Cost =  0.6735871158798334\n",
            "Step =  3000 Cost =  0.4988340337254711\n",
            "Step =  4000 Cost =  0.3950076980098601\n",
            "Step =  5000 Cost =  0.3261830483392858\n",
            "Step =  6000 Cost =  0.2773010816310936\n",
            "Step =  7000 Cost =  0.24085896327103445\n",
            "Step =  8000 Cost =  0.21268817070002993\n",
            "Step =  9000 Cost =  0.19028759309169163\n",
            "Step =  10000 Cost =  0.17206696524472956\n"
          ]
        }
      ]
    },
    {
      "cell_type": "code",
      "source": [
        "print(NAND_Gate.Type, '\\n')\n",
        "test_data = np.array([[0,0],[0,1],[1,0],[1,1]])\n",
        "\n",
        "for input_data in test_data:\n",
        "  (sigmoid_val, logical_val) = NAND_Gate.predict(input_data)\n",
        "  print(input_data, ' = ', logical_val)"
      ],
      "metadata": {
        "colab": {
          "base_uri": "https://localhost:8080/"
        },
        "id": "iB6UDG1bN5xZ",
        "outputId": "9aac8449-c22b-45d3-d0af-64e4636dfb4c"
      },
      "execution_count": 15,
      "outputs": [
        {
          "output_type": "stream",
          "name": "stdout",
          "text": [
            "NAND_Gate \n",
            "\n",
            "[0 0]  =  1\n",
            "[0 1]  =  1\n",
            "[1 0]  =  1\n",
            "[1 1]  =  0\n"
          ]
        }
      ]
    },
    {
      "cell_type": "markdown",
      "source": [
        "## XOR GATE"
      ],
      "metadata": {
        "id": "HTg-OnymPigC"
      }
    },
    {
      "cell_type": "code",
      "source": [
        "X_input = np.array([[0,0],[0,1],[1,0],[1,1]])\n",
        "y_output = np.array([0,1,1,0])\n",
        "\n",
        "XOR_Gate = LogicGate('XOR_Gate', X_input, y_output)\n",
        "XOR_Gate.fit()"
      ],
      "metadata": {
        "colab": {
          "base_uri": "https://localhost:8080/"
        },
        "id": "TpXSa-EKN-QE",
        "outputId": "eb410e37-79cf-4b77-a4a2-b5b18b2383ef"
      },
      "execution_count": 18,
      "outputs": [
        {
          "output_type": "stream",
          "name": "stdout",
          "text": [
            "Initial Cost =  4.005884822892085\n",
            "Step =  0 Cost =  3.979075346183158\n",
            "Step =  1000 Cost =  2.7729833892722544\n",
            "Step =  2000 Cost =  2.7726020845373553\n",
            "Step =  3000 Cost =  2.7725892701218795\n",
            "Step =  4000 Cost =  2.7725887455120093\n",
            "Step =  5000 Cost =  2.7725887232339526\n",
            "Step =  6000 Cost =  2.77258872228229\n",
            "Step =  7000 Cost =  2.7725887222415992\n",
            "Step =  8000 Cost =  2.772588722239859\n",
            "Step =  9000 Cost =  2.7725887222397847\n",
            "Step =  10000 Cost =  2.7725887222397816\n"
          ]
        }
      ]
    },
    {
      "cell_type": "code",
      "source": [
        "print(XOR_Gate.Type, '\\n')\n",
        "test_data = np.array([[0,0],[0,1],[1,0],[1,1]])\n",
        "\n",
        "for input_data in test_data:\n",
        "  (sigmoid_val, logical_val) = XOR_Gate.predict(input_data)\n",
        "  print(input_data, ' = ', logical_val)"
      ],
      "metadata": {
        "colab": {
          "base_uri": "https://localhost:8080/"
        },
        "id": "K6_ashVrOF01",
        "outputId": "5ad90107-040b-4a07-ff02-8ed33a853aa2"
      },
      "execution_count": 19,
      "outputs": [
        {
          "output_type": "stream",
          "name": "stdout",
          "text": [
            "XOR_Gate \n",
            "\n",
            "[0 0]  =  0\n",
            "[0 1]  =  0\n",
            "[1 0]  =  0\n",
            "[1 1]  =  1\n"
          ]
        }
      ]
    },
    {
      "cell_type": "code",
      "source": [
        "from inspect import formatannotationrelativeto\n",
        "input_data = np.array([[0,0],[0,1],[1,0],[1,1]])\n",
        "\n",
        "HL1_1 = [] # NAND\n",
        "HL1_2 = [] # OR\n",
        "\n",
        "new_input_data = [] # AND\n",
        "final_output = [] # AND(XOR)\n",
        "\n",
        "for index in range(len(input_data)):\n",
        "  HL1_1 = NAND_Gate.predict(input_data[index])\n",
        "  HL1_2 = OR_Gate.predict(input_data[index])\n",
        "\n",
        "  new_input_data.append(HL1_1[-1])\n",
        "  new_input_data.append(HL1_2[-1])\n",
        "\n",
        "  (sigmoid_val, logical_val) = AND_Gate.predict(np.array(new_input_data))\n",
        "\n",
        "  final_output.append(logical_val)\n",
        "  new_input_data = []\n"
      ],
      "metadata": {
        "id": "VvIVwzXROOtX"
      },
      "execution_count": 20,
      "outputs": []
    },
    {
      "cell_type": "code",
      "source": [
        "print(XOR_Gate.Type, '\\n')\n",
        "\n",
        "for index in range(len(input_data)):\n",
        "  print(input_data[index], ' = ', final_output[index])"
      ],
      "metadata": {
        "colab": {
          "base_uri": "https://localhost:8080/"
        },
        "id": "bwse0bM5PRqN",
        "outputId": "2b7211ad-ae21-4030-99f2-c993c523684f"
      },
      "execution_count": 21,
      "outputs": [
        {
          "output_type": "stream",
          "name": "stdout",
          "text": [
            "XOR_Gate \n",
            "\n",
            "[0 0]  =  0\n",
            "[0 1]  =  1\n",
            "[1 0]  =  1\n",
            "[1 1]  =  0\n"
          ]
        }
      ]
    },
    {
      "cell_type": "markdown",
      "source": [
        "## XOR GATE Learning"
      ],
      "metadata": {
        "id": "_dFMrPGKPlbz"
      }
    },
    {
      "cell_type": "code",
      "source": [
        "class XOR_Gate:\n",
        "  def __init__(self, gate_Type, X_input, y_output):\n",
        "    self.Type = gate_Type\n",
        "\n",
        "    self.X_input = X_input.reshape(4,2)\n",
        "    self.y_output = y_output.reshape(4,1)\n",
        "\n",
        "    self.W_1 = np.random.rand(2,2)\n",
        "    self.b_1 = np.random.rand(2)\n",
        "\n",
        "    self.W_2 = np.random.rand(2,1)\n",
        "    self.b_2 = np.random.rand(1)\n",
        "\n",
        "    self.learning_rate = 0.01\n",
        "\n",
        "  def cost_func(self):\n",
        "    z_1 = np.dot(self.X_input, self.W_1) + self.b_1\n",
        "    a_1 = sigmoid(z_1)\n",
        "\n",
        "    z_2 = np.dot(a_1, self.W_2) + self.b_2\n",
        "    y_hat = sigmoid(z_2)\n",
        "\n",
        "    return -np.sum(self.y_output * np.log(y_hat) + (1 - self.y_output) * np.log(1-y_hat))\n",
        "\n",
        "\n",
        "  def fit(self):\n",
        "    machine = lambda x : self.cost_func()\n",
        "    print('Initial Cost = ', self.cost_func())\n",
        "\n",
        "    for step in range(50001):\n",
        "      self.W_1 = self.W_1 - self.learning_rate * gradient(machine, self.W_1)\n",
        "      self.b_1 = self.b_1 - self.learning_rate * gradient(machine, self.b_1)\n",
        "\n",
        "      self.W_2 = self.W_2 - self.learning_rate * gradient(machine, self.W_2)\n",
        "      self.b_2 = self.b_2 - self.learning_rate * gradient(machine, self.b_2)\n",
        "\n",
        "      if (step % 1000 == 0):\n",
        "        print('Step = ', step, 'Cost = ', self.cost_func())\n",
        "\n",
        "\n",
        "  def predict(self, input_data):\n",
        "    z_1 = np.dot(input_data, self.W_1) + self.b_1\n",
        "    a_1 = sigmoid(z_1)\n",
        "\n",
        "    z_2 = np.dot(a_1, self.W_2) + self.b_2\n",
        "    y_prob = sigmoid(z_2)\n",
        "\n",
        "    if y_prob > 0.5:\n",
        "      result = 1\n",
        "    else :\n",
        "      result = 0\n",
        "\n",
        "    return y_prob, result"
      ],
      "metadata": {
        "id": "eeC_4syfPnuM"
      },
      "execution_count": 22,
      "outputs": []
    },
    {
      "cell_type": "code",
      "source": [
        "X_input = np.array([[0,0],[0,1],[1,0],[1,1]])\n",
        "y_output = np.array([0,1,1,0])\n",
        "\n",
        "XOR_Gate_2 = XOR_Gate('XOR_GATE', X_input, y_output)\n",
        "\n",
        "XOR_Gate_2.fit()"
      ],
      "metadata": {
        "colab": {
          "base_uri": "https://localhost:8080/"
        },
        "id": "xWxHtA8EQjN-",
        "outputId": "c1f72ba8-bba3-40c5-dc3b-888904b51446"
      },
      "execution_count": 23,
      "outputs": [
        {
          "output_type": "stream",
          "name": "stdout",
          "text": [
            "Initial Cost =  2.801108667881853\n",
            "Step =  0 Cost =  2.800013497059115\n",
            "Step =  1000 Cost =  2.766004718589967\n",
            "Step =  2000 Cost =  2.7555128188065794\n",
            "Step =  3000 Cost =  2.731682411124973\n",
            "Step =  4000 Cost =  2.676142044634763\n",
            "Step =  5000 Cost =  2.558934465697005\n",
            "Step =  6000 Cost =  2.369425993470952\n",
            "Step =  7000 Cost =  2.1568627398449225\n",
            "Step =  8000 Cost =  1.937255911504351\n",
            "Step =  9000 Cost =  1.587940618987746\n",
            "Step =  10000 Cost =  1.0784280472376873\n",
            "Step =  11000 Cost =  0.6830075736424699\n",
            "Step =  12000 Cost =  0.460579999790082\n",
            "Step =  13000 Cost =  0.33628112952355094\n",
            "Step =  14000 Cost =  0.26097056012136965\n",
            "Step =  15000 Cost =  0.2116103560007309\n",
            "Step =  16000 Cost =  0.17716910454525542\n",
            "Step =  17000 Cost =  0.15194377927685654\n",
            "Step =  18000 Cost =  0.13275459993729255\n",
            "Step =  19000 Cost =  0.11771021229014421\n",
            "Step =  20000 Cost =  0.10562350658286306\n",
            "Step =  21000 Cost =  0.09571538431630322\n",
            "Step =  22000 Cost =  0.08745506656047342\n",
            "Step =  23000 Cost =  0.08046935056184272\n",
            "Step =  24000 Cost =  0.07448865822745611\n",
            "Step =  25000 Cost =  0.06931368266813911\n",
            "Step =  26000 Cost =  0.06479405850216799\n",
            "Step =  27000 Cost =  0.06081431175437147\n",
            "Step =  28000 Cost =  0.0572843607614089\n",
            "Step =  29000 Cost =  0.054132944110654\n",
            "Step =  30000 Cost =  0.051302979242059205\n",
            "Step =  31000 Cost =  0.04874822358054677\n",
            "Step =  32000 Cost =  0.046430832445783075\n",
            "Step =  33000 Cost =  0.04431954581308923\n",
            "Step =  34000 Cost =  0.04238832345114803\n",
            "Step =  35000 Cost =  0.040615304647280685\n",
            "Step =  36000 Cost =  0.03898200619473055\n",
            "Step =  37000 Cost =  0.037472697521522894\n",
            "Step =  38000 Cost =  0.03607390907761927\n",
            "Step =  39000 Cost =  0.034774042064293964\n",
            "Step =  40000 Cost =  0.033563056014391086\n",
            "Step =  41000 Cost =  0.03243221674089215\n",
            "Step =  42000 Cost =  0.031373891507460214\n",
            "Step =  43000 Cost =  0.030381381440352084\n",
            "Step =  44000 Cost =  0.029448783535654704\n",
            "Step =  45000 Cost =  0.02857087635458134\n",
            "Step =  46000 Cost =  0.027743024807227082\n",
            "Step =  47000 Cost =  0.026961100415549073\n",
            "Step =  48000 Cost =  0.026221414204648616\n",
            "Step =  49000 Cost =  0.025520659954677984\n",
            "Step =  50000 Cost =  0.024855865998451236\n"
          ]
        }
      ]
    },
    {
      "cell_type": "code",
      "source": [
        "print(XOR_Gate_2.Type, '\\n')\n",
        "\n",
        "test_data = np.array([[0,0],[0,1],[1,0],[1,1]])\n",
        "\n",
        "for input_data in test_data:\n",
        "  (sigmoid_val, logical_val) = XOR_Gate_2.predict(input_data)\n",
        "  print(input_data, ' = ', logical_val)"
      ],
      "metadata": {
        "colab": {
          "base_uri": "https://localhost:8080/"
        },
        "id": "jc4rtcYUQxJf",
        "outputId": "c9c804c5-0519-4471-823c-204d66d677a9"
      },
      "execution_count": 24,
      "outputs": [
        {
          "output_type": "stream",
          "name": "stdout",
          "text": [
            "XOR_GATE \n",
            "\n",
            "[0 0]  =  0\n",
            "[0 1]  =  1\n",
            "[1 0]  =  1\n",
            "[1 1]  =  0\n"
          ]
        }
      ]
    }
  ]
}