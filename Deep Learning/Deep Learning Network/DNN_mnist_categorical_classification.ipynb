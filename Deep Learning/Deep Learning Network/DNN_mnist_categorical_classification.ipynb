{
  "nbformat": 4,
  "nbformat_minor": 0,
  "metadata": {
    "colab": {
      "provenance": [],
      "gpuType": "T4",
      "authorship_tag": "ABX9TyMbO5xq9fTn5/iLiMVFEv4z",
      "include_colab_link": true
    },
    "kernelspec": {
      "name": "python3",
      "display_name": "Python 3"
    },
    "language_info": {
      "name": "python"
    },
    "accelerator": "GPU"
  },
  "cells": [
    {
      "cell_type": "markdown",
      "metadata": {
        "id": "view-in-github",
        "colab_type": "text"
      },
      "source": [
        "<a href=\"https://colab.research.google.com/github/Imshyeon/2023_AI_BACKEND_AI/blob/master/Deep%20Learning/DNN_mnist_categorical_classification.ipynb\" target=\"_parent\"><img src=\"https://colab.research.google.com/assets/colab-badge.svg\" alt=\"Open In Colab\"/></a>"
      ]
    },
    {
      "cell_type": "markdown",
      "source": [
        "# MNIST - Categorical Classification"
      ],
      "metadata": {
        "id": "DJjQqnAd56oD"
      }
    },
    {
      "cell_type": "code",
      "execution_count": 1,
      "metadata": {
        "id": "Y4nGvoI_5pRO"
      },
      "outputs": [],
      "source": [
        "import warnings\n",
        "warnings.filterwarnings('ignore')"
      ]
    },
    {
      "cell_type": "code",
      "source": [
        "import tensorflow as tf\n",
        "tf.__version__"
      ],
      "metadata": {
        "colab": {
          "base_uri": "https://localhost:8080/",
          "height": 56
        },
        "id": "hnTxJq686BA6",
        "outputId": "b3fc594b-419f-4285-e095-a69750aeb893"
      },
      "execution_count": 2,
      "outputs": [
        {
          "output_type": "execute_result",
          "data": {
            "text/plain": [
              "'2.13.0'"
            ],
            "application/vnd.google.colaboratory.intrinsic+json": {
              "type": "string"
            }
          },
          "metadata": {},
          "execution_count": 2
        }
      ]
    },
    {
      "cell_type": "code",
      "source": [
        "tf.test.gpu_device_name()"
      ],
      "metadata": {
        "colab": {
          "base_uri": "https://localhost:8080/",
          "height": 56
        },
        "id": "bz-cnWos6EzS",
        "outputId": "28545290-30b6-4a89-9912-93e067d5b4a5"
      },
      "execution_count": 3,
      "outputs": [
        {
          "output_type": "execute_result",
          "data": {
            "text/plain": [
              "'/device:GPU:0'"
            ],
            "application/vnd.google.colaboratory.intrinsic+json": {
              "type": "string"
            }
          },
          "metadata": {},
          "execution_count": 3
        }
      ]
    },
    {
      "cell_type": "code",
      "source": [
        "!nvidia-smi"
      ],
      "metadata": {
        "colab": {
          "base_uri": "https://localhost:8080/"
        },
        "id": "KlZ8OUyI6GwP",
        "outputId": "da91bd6a-626f-4171-d29b-ce19341ce4d5"
      },
      "execution_count": 4,
      "outputs": [
        {
          "output_type": "stream",
          "name": "stdout",
          "text": [
            "Wed Oct 11 04:17:27 2023       \n",
            "+-----------------------------------------------------------------------------+\n",
            "| NVIDIA-SMI 525.105.17   Driver Version: 525.105.17   CUDA Version: 12.0     |\n",
            "|-------------------------------+----------------------+----------------------+\n",
            "| GPU  Name        Persistence-M| Bus-Id        Disp.A | Volatile Uncorr. ECC |\n",
            "| Fan  Temp  Perf  Pwr:Usage/Cap|         Memory-Usage | GPU-Util  Compute M. |\n",
            "|                               |                      |               MIG M. |\n",
            "|===============================+======================+======================|\n",
            "|   0  Tesla T4            Off  | 00000000:00:04.0 Off |                    0 |\n",
            "| N/A   38C    P0    26W /  70W |    359MiB / 15360MiB |      0%      Default |\n",
            "|                               |                      |                  N/A |\n",
            "+-------------------------------+----------------------+----------------------+\n",
            "                                                                               \n",
            "+-----------------------------------------------------------------------------+\n",
            "| Processes:                                                                  |\n",
            "|  GPU   GI   CI        PID   Type   Process name                  GPU Memory |\n",
            "|        ID   ID                                                   Usage      |\n",
            "|=============================================================================|\n",
            "+-----------------------------------------------------------------------------+\n"
          ]
        }
      ]
    },
    {
      "cell_type": "code",
      "source": [
        "from tensorflow.keras.datasets import mnist\n",
        "\n",
        "(X_train, y_train), (X_test, y_test) = mnist.load_data()"
      ],
      "metadata": {
        "id": "6r6i4EPu6J98",
        "colab": {
          "base_uri": "https://localhost:8080/"
        },
        "outputId": "af36c4f8-e817-4575-e5d2-0a24be5c1c69"
      },
      "execution_count": 5,
      "outputs": [
        {
          "output_type": "stream",
          "name": "stdout",
          "text": [
            "Downloading data from https://storage.googleapis.com/tensorflow/tf-keras-datasets/mnist.npz\n",
            "11490434/11490434 [==============================] - 0s 0us/step\n"
          ]
        }
      ]
    },
    {
      "cell_type": "code",
      "source": [
        "print(len(X_train))\n",
        "print(X_train.shape)\n",
        "print()\n",
        "print(len(y_train))\n",
        "print(y_train[0:5])"
      ],
      "metadata": {
        "colab": {
          "base_uri": "https://localhost:8080/"
        },
        "id": "WobR82z665s6",
        "outputId": "6d4a95ee-2917-40ff-b92d-bde5e26e3570"
      },
      "execution_count": 6,
      "outputs": [
        {
          "output_type": "stream",
          "name": "stdout",
          "text": [
            "60000\n",
            "(60000, 28, 28)\n",
            "\n",
            "60000\n",
            "[5 0 4 1 9]\n"
          ]
        }
      ]
    },
    {
      "cell_type": "code",
      "source": [
        "print(len(X_test))\n",
        "print(X_test.shape)\n",
        "print()\n",
        "print(len(y_test))\n",
        "print(y_test[0:5])"
      ],
      "metadata": {
        "id": "ReCks_z47C0V",
        "colab": {
          "base_uri": "https://localhost:8080/"
        },
        "outputId": "8e5a1fa5-37fd-44c5-854c-cad1d278febe"
      },
      "execution_count": 7,
      "outputs": [
        {
          "output_type": "stream",
          "name": "stdout",
          "text": [
            "10000\n",
            "(10000, 28, 28)\n",
            "\n",
            "10000\n",
            "[7 2 1 0 4]\n"
          ]
        }
      ]
    },
    {
      "cell_type": "code",
      "source": [
        "import matplotlib.pyplot as plt\n",
        "\n",
        "plt.figure(figsize=(20,4))\n",
        "for idx in range(5):\n",
        "  label = y_train[idx]\n",
        "  plt.subplot(1,5,idx + 1)\n",
        "  plt.xticks([])\n",
        "  plt.yticks([])\n",
        "  plt.imshow(X_train[idx], cmap = 'gray')\n",
        "  plt.title('Index - %d, Label - %d'%(idx,label), fontsize = 20)\n",
        "plt.show()"
      ],
      "metadata": {
        "colab": {
          "base_uri": "https://localhost:8080/",
          "height": 165
        },
        "id": "wh1KriZd7Wn0",
        "outputId": "c3bd7b5c-f774-420b-a256-269926341a24"
      },
      "execution_count": 8,
      "outputs": [
        {
          "output_type": "display_data",
          "data": {
            "text/plain": [
              "<Figure size 2000x400 with 5 Axes>"
            ],
            "image/png": "[encoded data removed]"
          },
          "metadata": {}
        }
      ]
    },
    {
      "cell_type": "code",
      "source": [
        "import numpy as np\n",
        "\n",
        "np.set_printoptions(linewidth = 150, precision = 2)\n",
        "\n",
        "print(X_train[4])"
      ],
      "metadata": {
        "colab": {
          "base_uri": "https://localhost:8080/"
        },
        "id": "9habywK79iy-",
        "outputId": "cde849b6-9ea3-4fc6-d8ab-4d50bdacc13f"
      },
      "execution_count": 10,
      "outputs": [
        {
          "output_type": "stream",
          "name": "stdout",
          "text": [
            "[[  0   0   0   0   0   0   0   0   0   0   0   0   0   0   0   0   0   0   0   0   0   0   0   0   0   0   0   0]\n",
            " [  0   0   0   0   0   0   0   0   0   0   0   0   0   0   0   0   0   0   0   0   0   0   0   0   0   0   0   0]\n",
            " [  0   0   0   0   0   0   0   0   0   0   0   0   0   0   0   0   0   0   0   0   0   0   0   0   0   0   0   0]\n",
            " [  0   0   0   0   0   0   0   0   0   0   0   0   0   0   0   0   0   0   0   0   0   0   0   0   0   0   0   0]\n",
            " [  0   0   0   0   0   0   0   0   0   0   0   0   0   0   0   0   0   0   0   0   0   0   0   0   0   0   0   0]\n",
            " [  0   0   0   0   0   0   0   0   0   0   0   0   0   0   0   0   0   0   0   0   0   0   0   0   0   0   0   0]\n",
            " [  0   0   0   0   0   0   0   0   0   0   0   0   0   0   0   0   0   0   0   0   0   0   0   0   0   0   0   0]\n",
            " [  0   0   0   0   0   0   0   0   0   0   0   0  55 148 210 253 253 113  87 148  55   0   0   0   0   0   0   0]\n",
            " [  0   0   0   0   0   0   0   0   0   0   0  87 232 252 253 189 210 252 252 253 168   0   0   0   0   0   0   0]\n",
            " [  0   0   0   0   0   0   0   0   0   4  57 242 252 190  65   5  12 182 252 253 116   0   0   0   0   0   0   0]\n",
            " [  0   0   0   0   0   0   0   0   0  96 252 252 183  14   0   0  92 252 252 225  21   0   0   0   0   0   0   0]\n",
            " [  0   0   0   0   0   0   0   0 132 253 252 146  14   0   0   0 215 252 252  79   0   0   0   0   0   0   0   0]\n",
            " [  0   0   0   0   0   0   0 126 253 247 176   9   0   0   8  78 245 253 129   0   0   0   0   0   0   0   0   0]\n",
            " [  0   0   0   0   0   0  16 232 252 176   0   0   0  36 201 252 252 169  11   0   0   0   0   0   0   0   0   0]\n",
            " [  0   0   0   0   0   0  22 252 252  30  22 119 197 241 253 252 251  77   0   0   0   0   0   0   0   0   0   0]\n",
            " [  0   0   0   0   0   0  16 231 252 253 252 252 252 226 227 252 231   0   0   0   0   0   0   0   0   0   0   0]\n",
            " [  0   0   0   0   0   0   0  55 235 253 217 138  42  24 192 252 143   0   0   0   0   0   0   0   0   0   0   0]\n",
            " [  0   0   0   0   0   0   0   0   0   0   0   0   0  62 255 253 109   0   0   0   0   0   0   0   0   0   0   0]\n",
            " [  0   0   0   0   0   0   0   0   0   0   0   0   0  71 253 252  21   0   0   0   0   0   0   0   0   0   0   0]\n",
            " [  0   0   0   0   0   0   0   0   0   0   0   0   0   0 253 252  21   0   0   0   0   0   0   0   0   0   0   0]\n",
            " [  0   0   0   0   0   0   0   0   0   0   0   0   0  71 253 252  21   0   0   0   0   0   0   0   0   0   0   0]\n",
            " [  0   0   0   0   0   0   0   0   0   0   0   0   0 106 253 252  21   0   0   0   0   0   0   0   0   0   0   0]\n",
            " [  0   0   0   0   0   0   0   0   0   0   0   0   0  45 255 253  21   0   0   0   0   0   0   0   0   0   0   0]\n",
            " [  0   0   0   0   0   0   0   0   0   0   0   0   0   0 218 252  56   0   0   0   0   0   0   0   0   0   0   0]\n",
            " [  0   0   0   0   0   0   0   0   0   0   0   0   0   0  96 252 189  42   0   0   0   0   0   0   0   0   0   0]\n",
            " [  0   0   0   0   0   0   0   0   0   0   0   0   0   0  14 184 252 170  11   0   0   0   0   0   0   0   0   0]\n",
            " [  0   0   0   0   0   0   0   0   0   0   0   0   0   0   0  14 147 252  42   0   0   0   0   0   0   0   0   0]\n",
            " [  0   0   0   0   0   0   0   0   0   0   0   0   0   0   0   0   0   0   0   0   0   0   0   0   0   0   0   0]]\n"
          ]
        }
      ]
    },
    {
      "cell_type": "markdown",
      "source": [
        " # Data Preprocessing"
      ],
      "metadata": {
        "id": "fHTt9Gje9snX"
      }
    },
    {
      "cell_type": "code",
      "source": [
        "X_train = X_train.astype(float)/255\n",
        "X_test = X_test.astype(float)/255"
      ],
      "metadata": {
        "id": "Vbj5gaY89qFT"
      },
      "execution_count": 11,
      "outputs": []
    },
    {
      "cell_type": "code",
      "source": [
        "print(X_train[4])"
      ],
      "metadata": {
        "colab": {
          "base_uri": "https://localhost:8080/"
        },
        "id": "7uDht-bR90Je",
        "outputId": "17d73305-2101-41e5-a837-8584dffeec9c"
      },
      "execution_count": 12,
      "outputs": [
        {
          "output_type": "stream",
          "name": "stdout",
          "text": [
            "[[0.   0.   0.   0.   0.   0.   0.   0.   0.   0.   0.   0.   0.   0.   0.   0.   0.   0.   0.   0.   0.   0.   0.   0.   0.   0.   0.   0.  ]\n",
            " [0.   0.   0.   0.   0.   0.   0.   0.   0.   0.   0.   0.   0.   0.   0.   0.   0.   0.   0.   0.   0.   0.   0.   0.   0.   0.   0.   0.  ]\n",
            " [0.   0.   0.   0.   0.   0.   0.   0.   0.   0.   0.   0.   0.   0.   0.   0.   0.   0.   0.   0.   0.   0.   0.   0.   0.   0.   0.   0.  ]\n",
            " [0.   0.   0.   0.   0.   0.   0.   0.   0.   0.   0.   0.   0.   0.   0.   0.   0.   0.   0.   0.   0.   0.   0.   0.   0.   0.   0.   0.  ]\n",
            " [0.   0.   0.   0.   0.   0.   0.   0.   0.   0.   0.   0.   0.   0.   0.   0.   0.   0.   0.   0.   0.   0.   0.   0.   0.   0.   0.   0.  ]\n",
            " [0.   0.   0.   0.   0.   0.   0.   0.   0.   0.   0.   0.   0.   0.   0.   0.   0.   0.   0.   0.   0.   0.   0.   0.   0.   0.   0.   0.  ]\n",
            " [0.   0.   0.   0.   0.   0.   0.   0.   0.   0.   0.   0.   0.   0.   0.   0.   0.   0.   0.   0.   0.   0.   0.   0.   0.   0.   0.   0.  ]\n",
            " [0.   0.   0.   0.   0.   0.   0.   0.   0.   0.   0.   0.   0.22 0.58 0.82 0.99 0.99 0.44 0.34 0.58 0.22 0.   0.   0.   0.   0.   0.   0.  ]\n",
            " [0.   0.   0.   0.   0.   0.   0.   0.   0.   0.   0.   0.34 0.91 0.99 0.99 0.74 0.82 0.99 0.99 0.99 0.66 0.   0.   0.   0.   0.   0.   0.  ]\n",
            " [0.   0.   0.   0.   0.   0.   0.   0.   0.   0.02 0.22 0.95 0.99 0.75 0.25 0.02 0.05 0.71 0.99 0.99 0.45 0.   0.   0.   0.   0.   0.   0.  ]\n",
            " [0.   0.   0.   0.   0.   0.   0.   0.   0.   0.38 0.99 0.99 0.72 0.05 0.   0.   0.36 0.99 0.99 0.88 0.08 0.   0.   0.   0.   0.   0.   0.  ]\n",
            " [0.   0.   0.   0.   0.   0.   0.   0.   0.52 0.99 0.99 0.57 0.05 0.   0.   0.   0.84 0.99 0.99 0.31 0.   0.   0.   0.   0.   0.   0.   0.  ]\n",
            " [0.   0.   0.   0.   0.   0.   0.   0.49 0.99 0.97 0.69 0.04 0.   0.   0.03 0.31 0.96 0.99 0.51 0.   0.   0.   0.   0.   0.   0.   0.   0.  ]\n",
            " [0.   0.   0.   0.   0.   0.   0.06 0.91 0.99 0.69 0.   0.   0.   0.14 0.79 0.99 0.99 0.66 0.04 0.   0.   0.   0.   0.   0.   0.   0.   0.  ]\n",
            " [0.   0.   0.   0.   0.   0.   0.09 0.99 0.99 0.12 0.09 0.47 0.77 0.95 0.99 0.99 0.98 0.3  0.   0.   0.   0.   0.   0.   0.   0.   0.   0.  ]\n",
            " [0.   0.   0.   0.   0.   0.   0.06 0.91 0.99 0.99 0.99 0.99 0.99 0.89 0.89 0.99 0.91 0.   0.   0.   0.   0.   0.   0.   0.   0.   0.   0.  ]\n",
            " [0.   0.   0.   0.   0.   0.   0.   0.22 0.92 0.99 0.85 0.54 0.16 0.09 0.75 0.99 0.56 0.   0.   0.   0.   0.   0.   0.   0.   0.   0.   0.  ]\n",
            " [0.   0.   0.   0.   0.   0.   0.   0.   0.   0.   0.   0.   0.   0.24 1.   0.99 0.43 0.   0.   0.   0.   0.   0.   0.   0.   0.   0.   0.  ]\n",
            " [0.   0.   0.   0.   0.   0.   0.   0.   0.   0.   0.   0.   0.   0.28 0.99 0.99 0.08 0.   0.   0.   0.   0.   0.   0.   0.   0.   0.   0.  ]\n",
            " [0.   0.   0.   0.   0.   0.   0.   0.   0.   0.   0.   0.   0.   0.   0.99 0.99 0.08 0.   0.   0.   0.   0.   0.   0.   0.   0.   0.   0.  ]\n",
            " [0.   0.   0.   0.   0.   0.   0.   0.   0.   0.   0.   0.   0.   0.28 0.99 0.99 0.08 0.   0.   0.   0.   0.   0.   0.   0.   0.   0.   0.  ]\n",
            " [0.   0.   0.   0.   0.   0.   0.   0.   0.   0.   0.   0.   0.   0.42 0.99 0.99 0.08 0.   0.   0.   0.   0.   0.   0.   0.   0.   0.   0.  ]\n",
            " [0.   0.   0.   0.   0.   0.   0.   0.   0.   0.   0.   0.   0.   0.18 1.   0.99 0.08 0.   0.   0.   0.   0.   0.   0.   0.   0.   0.   0.  ]\n",
            " [0.   0.   0.   0.   0.   0.   0.   0.   0.   0.   0.   0.   0.   0.   0.85 0.99 0.22 0.   0.   0.   0.   0.   0.   0.   0.   0.   0.   0.  ]\n",
            " [0.   0.   0.   0.   0.   0.   0.   0.   0.   0.   0.   0.   0.   0.   0.38 0.99 0.74 0.16 0.   0.   0.   0.   0.   0.   0.   0.   0.   0.  ]\n",
            " [0.   0.   0.   0.   0.   0.   0.   0.   0.   0.   0.   0.   0.   0.   0.05 0.72 0.99 0.67 0.04 0.   0.   0.   0.   0.   0.   0.   0.   0.  ]\n",
            " [0.   0.   0.   0.   0.   0.   0.   0.   0.   0.   0.   0.   0.   0.   0.   0.05 0.58 0.99 0.16 0.   0.   0.   0.   0.   0.   0.   0.   0.  ]\n",
            " [0.   0.   0.   0.   0.   0.   0.   0.   0.   0.   0.   0.   0.   0.   0.   0.   0.   0.   0.   0.   0.   0.   0.   0.   0.   0.   0.   0.  ]]\n"
          ]
        }
      ]
    },
    {
      "cell_type": "markdown",
      "source": [
        "## Reshape"
      ],
      "metadata": {
        "id": "daQ5U4MF93ag"
      }
    },
    {
      "cell_type": "code",
      "source": [
        "X_train = X_train.reshape((60000, 28*28))\n",
        "X_test = X_test.reshape((10000, 28*28))\n",
        "\n",
        "X_train.shape, X_test.shape"
      ],
      "metadata": {
        "colab": {
          "base_uri": "https://localhost:8080/"
        },
        "id": "eTi2FON8918-",
        "outputId": "e2ea02cb-13b5-4c6f-9f69-9d74d1daf86f"
      },
      "execution_count": 13,
      "outputs": [
        {
          "output_type": "execute_result",
          "data": {
            "text/plain": [
              "((60000, 784), (10000, 784))"
            ]
          },
          "metadata": {},
          "execution_count": 13
        }
      ]
    },
    {
      "cell_type": "code",
      "source": [
        "from tensorflow.keras.utils import to_categorical\n",
        "\n",
        "y_train = to_categorical(y_train)\n",
        "y_test = to_categorical(y_test)"
      ],
      "metadata": {
        "id": "5K-HB-dL-Bk1"
      },
      "execution_count": 14,
      "outputs": []
    },
    {
      "cell_type": "code",
      "source": [
        "print(y_train[:5])"
      ],
      "metadata": {
        "colab": {
          "base_uri": "https://localhost:8080/"
        },
        "id": "d4Q3OqBM-KpZ",
        "outputId": "b693bc9e-0b6c-42b1-ed58-2364500ff206"
      },
      "execution_count": 15,
      "outputs": [
        {
          "output_type": "stream",
          "name": "stdout",
          "text": [
            "[[0. 0. 0. 0. 0. 1. 0. 0. 0. 0.]\n",
            " [1. 0. 0. 0. 0. 0. 0. 0. 0. 0.]\n",
            " [0. 0. 0. 0. 1. 0. 0. 0. 0. 0.]\n",
            " [0. 1. 0. 0. 0. 0. 0. 0. 0. 0.]\n",
            " [0. 0. 0. 0. 0. 0. 0. 0. 0. 1.]]\n"
          ]
        }
      ]
    },
    {
      "cell_type": "code",
      "source": [
        "from sklearn.model_selection import train_test_split\n",
        "\n",
        "X_train, X_valid, y_train, y_valid = train_test_split(X_train, y_train,\n",
        "                                                      test_size = 0.2,\n",
        "                                                      random_state = 2045)\n",
        "X_train.shape, y_train.shape, X_valid.shape, y_valid.shape"
      ],
      "metadata": {
        "colab": {
          "base_uri": "https://localhost:8080/"
        },
        "id": "_14J1mxg-MPE",
        "outputId": "220cda0e-fb1e-4f57-8c07-014bed1a9e98"
      },
      "execution_count": 16,
      "outputs": [
        {
          "output_type": "execute_result",
          "data": {
            "text/plain": [
              "((48000, 784), (48000, 10), (12000, 784), (12000, 10))"
            ]
          },
          "metadata": {},
          "execution_count": 16
        }
      ]
    },
    {
      "cell_type": "markdown",
      "source": [
        "# MNIST Keras Modeling"
      ],
      "metadata": {
        "id": "vtL0JoVt-gXz"
      }
    },
    {
      "cell_type": "code",
      "source": [
        "from tensorflow.keras import models\n",
        "from tensorflow.keras import layers\n",
        "\n",
        "mnist = models.Sequential()\n",
        "mnist.add(layers.Dense(512, activation = 'relu', input_shape = (28 * 28, )))\n",
        "mnist.add(layers.Dense(256, activation = 'relu'))\n",
        "mnist.add(layers.Dense(10, activation = 'softmax'))"
      ],
      "metadata": {
        "id": "2qrgi7JE-fxX"
      },
      "execution_count": 17,
      "outputs": []
    },
    {
      "cell_type": "code",
      "source": [
        "mnist.summary()"
      ],
      "metadata": {
        "colab": {
          "base_uri": "https://localhost:8080/"
        },
        "id": "Td1anpyQ-5qk",
        "outputId": "99d85f0b-a7d0-4c7f-8fd9-9e43cb9456b3"
      },
      "execution_count": 18,
      "outputs": [
        {
          "output_type": "stream",
          "name": "stdout",
          "text": [
            "Model: \"sequential\"\n",
            "_________________________________________________________________\n",
            " Layer (type)                Output Shape              Param #   \n",
            "=================================================================\n",
            " dense (Dense)               (None, 512)               401920    \n",
            "                                                                 \n",
            " dense_1 (Dense)             (None, 256)               131328    \n",
            "                                                                 \n",
            " dense_2 (Dense)             (None, 10)                2570      \n",
            "                                                                 \n",
            "=================================================================\n",
            "Total params: 535818 (2.04 MB)\n",
            "Trainable params: 535818 (2.04 MB)\n",
            "Non-trainable params: 0 (0.00 Byte)\n",
            "_________________________________________________________________\n"
          ]
        }
      ]
    },
    {
      "cell_type": "code",
      "source": [
        "mnist.compile(loss='categorical_crossentropy',\n",
        "              optimizer = 'rmsprop',\n",
        "              metrics = ['accuracy'])"
      ],
      "metadata": {
        "id": "n_xLr759-6dI"
      },
      "execution_count": 19,
      "outputs": []
    },
    {
      "cell_type": "code",
      "source": [
        "%%time\n",
        "Hist_mnist = mnist.fit(X_train, y_train,\n",
        "                       epochs = 100,\n",
        "                       batch_size = 128,\n",
        "                       validation_data = (X_valid, y_valid))"
      ],
      "metadata": {
        "colab": {
          "base_uri": "https://localhost:8080/"
        },
        "id": "6jDBVVGi_DCb",
        "outputId": "38defc0f-3dbf-4364-8de5-47f7c6decd61"
      },
      "execution_count": 20,
      "outputs": [
        {
          "output_type": "stream",
          "name": "stdout",
          "text": [
            "Epoch 1/100\n",
            "375/375 [==============================] - 9s 10ms/step - loss: 0.2603 - accuracy: 0.9207 - val_loss: 0.1470 - val_accuracy: 0.9579\n",
            "Epoch 2/100\n",
            "375/375 [==============================] - 3s 7ms/step - loss: 0.0945 - accuracy: 0.9710 - val_loss: 0.1220 - val_accuracy: 0.9616\n",
            "Epoch 3/100\n",
            "375/375 [==============================] - 2s 5ms/step - loss: 0.0609 - accuracy: 0.9809 - val_loss: 0.0922 - val_accuracy: 0.9733\n",
            "Epoch 4/100\n",
            "375/375 [==============================] - 2s 5ms/step - loss: 0.0415 - accuracy: 0.9872 - val_loss: 0.0973 - val_accuracy: 0.9745\n",
            "Epoch 5/100\n",
            "375/375 [==============================] - 2s 4ms/step - loss: 0.0295 - accuracy: 0.9905 - val_loss: 0.0894 - val_accuracy: 0.9767\n",
            "Epoch 6/100\n",
            "375/375 [==============================] - 2s 5ms/step - loss: 0.0208 - accuracy: 0.9937 - val_loss: 0.0926 - val_accuracy: 0.9776\n",
            "Epoch 7/100\n",
            "375/375 [==============================] - 3s 7ms/step - loss: 0.0151 - accuracy: 0.9950 - val_loss: 0.0989 - val_accuracy: 0.9802\n",
            "Epoch 8/100\n",
            "375/375 [==============================] - 3s 8ms/step - loss: 0.0125 - accuracy: 0.9961 - val_loss: 0.1248 - val_accuracy: 0.9732\n",
            "Epoch 9/100\n",
            "375/375 [==============================] - 3s 8ms/step - loss: 0.0093 - accuracy: 0.9969 - val_loss: 0.1014 - val_accuracy: 0.9808\n",
            "Epoch 10/100\n",
            "375/375 [==============================] - 2s 5ms/step - loss: 0.0068 - accuracy: 0.9978 - val_loss: 0.1136 - val_accuracy: 0.9787\n",
            "Epoch 11/100\n",
            "375/375 [==============================] - 2s 6ms/step - loss: 0.0058 - accuracy: 0.9979 - val_loss: 0.1181 - val_accuracy: 0.9788\n",
            "Epoch 12/100\n",
            "375/375 [==============================] - 2s 7ms/step - loss: 0.0037 - accuracy: 0.9989 - val_loss: 0.1110 - val_accuracy: 0.9803\n",
            "Epoch 13/100\n",
            "375/375 [==============================] - 3s 7ms/step - loss: 0.0035 - accuracy: 0.9989 - val_loss: 0.1335 - val_accuracy: 0.9763\n",
            "Epoch 14/100\n",
            "375/375 [==============================] - 1s 4ms/step - loss: 0.0024 - accuracy: 0.9994 - val_loss: 0.1340 - val_accuracy: 0.9783\n",
            "Epoch 15/100\n",
            "375/375 [==============================] - 2s 5ms/step - loss: 0.0017 - accuracy: 0.9994 - val_loss: 0.1193 - val_accuracy: 0.9808\n",
            "Epoch 16/100\n",
            "375/375 [==============================] - 2s 5ms/step - loss: 0.0013 - accuracy: 0.9996 - val_loss: 0.1186 - val_accuracy: 0.9813\n",
            "Epoch 17/100\n",
            "375/375 [==============================] - 2s 6ms/step - loss: 3.3428e-04 - accuracy: 1.0000 - val_loss: 0.1160 - val_accuracy: 0.9827\n",
            "Epoch 18/100\n",
            "375/375 [==============================] - 3s 7ms/step - loss: 6.4361e-05 - accuracy: 1.0000 - val_loss: 0.1218 - val_accuracy: 0.9818\n",
            "Epoch 19/100\n",
            "375/375 [==============================] - 3s 7ms/step - loss: 7.9346e-05 - accuracy: 1.0000 - val_loss: 0.1173 - val_accuracy: 0.9828\n",
            "Epoch 20/100\n",
            "375/375 [==============================] - 2s 6ms/step - loss: 1.7369e-05 - accuracy: 1.0000 - val_loss: 0.1182 - val_accuracy: 0.9826\n",
            "Epoch 21/100\n",
            "375/375 [==============================] - 2s 6ms/step - loss: 1.4757e-05 - accuracy: 1.0000 - val_loss: 0.1189 - val_accuracy: 0.9827\n",
            "Epoch 22/100\n",
            "375/375 [==============================] - 3s 7ms/step - loss: 1.2988e-05 - accuracy: 1.0000 - val_loss: 0.1196 - val_accuracy: 0.9827\n",
            "Epoch 23/100\n",
            "375/375 [==============================] - 2s 6ms/step - loss: 1.1737e-05 - accuracy: 1.0000 - val_loss: 0.1202 - val_accuracy: 0.9826\n",
            "Epoch 24/100\n",
            "375/375 [==============================] - 3s 9ms/step - loss: 1.0782e-05 - accuracy: 1.0000 - val_loss: 0.1209 - val_accuracy: 0.9829\n",
            "Epoch 25/100\n",
            "375/375 [==============================] - 2s 6ms/step - loss: 9.9985e-06 - accuracy: 1.0000 - val_loss: 0.1214 - val_accuracy: 0.9828\n",
            "Epoch 26/100\n",
            "375/375 [==============================] - 2s 6ms/step - loss: 9.3329e-06 - accuracy: 1.0000 - val_loss: 0.1218 - val_accuracy: 0.9828\n",
            "Epoch 27/100\n",
            "375/375 [==============================] - 2s 5ms/step - loss: 8.7566e-06 - accuracy: 1.0000 - val_loss: 0.1223 - val_accuracy: 0.9828\n",
            "Epoch 28/100\n",
            "375/375 [==============================] - 2s 4ms/step - loss: 8.2936e-06 - accuracy: 1.0000 - val_loss: 0.1229 - val_accuracy: 0.9830\n",
            "Epoch 29/100\n",
            "375/375 [==============================] - 2s 4ms/step - loss: 7.8724e-06 - accuracy: 1.0000 - val_loss: 0.1233 - val_accuracy: 0.9828\n",
            "Epoch 30/100\n",
            "375/375 [==============================] - 2s 5ms/step - loss: 7.4948e-06 - accuracy: 1.0000 - val_loss: 0.1237 - val_accuracy: 0.9829\n",
            "Epoch 31/100\n",
            "375/375 [==============================] - 2s 5ms/step - loss: 7.1698e-06 - accuracy: 1.0000 - val_loss: 0.1241 - val_accuracy: 0.9830\n",
            "Epoch 32/100\n",
            "375/375 [==============================] - 2s 5ms/step - loss: 6.8698e-06 - accuracy: 1.0000 - val_loss: 0.1244 - val_accuracy: 0.9830\n",
            "Epoch 33/100\n",
            "375/375 [==============================] - 3s 7ms/step - loss: 6.5934e-06 - accuracy: 1.0000 - val_loss: 0.1248 - val_accuracy: 0.9830\n",
            "Epoch 34/100\n",
            "375/375 [==============================] - 2s 5ms/step - loss: 6.3364e-06 - accuracy: 1.0000 - val_loss: 0.1250 - val_accuracy: 0.9829\n",
            "Epoch 35/100\n",
            "375/375 [==============================] - 2s 6ms/step - loss: 6.1067e-06 - accuracy: 1.0000 - val_loss: 0.1253 - val_accuracy: 0.9829\n",
            "Epoch 36/100\n",
            "375/375 [==============================] - 3s 8ms/step - loss: 5.8873e-06 - accuracy: 1.0000 - val_loss: 0.1257 - val_accuracy: 0.9829\n",
            "Epoch 37/100\n",
            "375/375 [==============================] - 2s 5ms/step - loss: 5.6953e-06 - accuracy: 1.0000 - val_loss: 0.1260 - val_accuracy: 0.9828\n",
            "Epoch 38/100\n",
            "375/375 [==============================] - 2s 5ms/step - loss: 5.5025e-06 - accuracy: 1.0000 - val_loss: 0.1262 - val_accuracy: 0.9828\n",
            "Epoch 39/100\n",
            "375/375 [==============================] - 2s 5ms/step - loss: 5.3461e-06 - accuracy: 1.0000 - val_loss: 0.1265 - val_accuracy: 0.9827\n",
            "Epoch 40/100\n",
            "375/375 [==============================] - 2s 4ms/step - loss: 5.1827e-06 - accuracy: 1.0000 - val_loss: 0.1269 - val_accuracy: 0.9827\n",
            "Epoch 41/100\n",
            "375/375 [==============================] - 2s 4ms/step - loss: 5.0393e-06 - accuracy: 1.0000 - val_loss: 0.1271 - val_accuracy: 0.9827\n",
            "Epoch 42/100\n",
            "375/375 [==============================] - 2s 7ms/step - loss: 4.8986e-06 - accuracy: 1.0000 - val_loss: 0.1273 - val_accuracy: 0.9827\n",
            "Epoch 43/100\n",
            "375/375 [==============================] - 2s 6ms/step - loss: 4.7620e-06 - accuracy: 1.0000 - val_loss: 0.1276 - val_accuracy: 0.9827\n",
            "Epoch 44/100\n",
            "375/375 [==============================] - 2s 6ms/step - loss: 4.6436e-06 - accuracy: 1.0000 - val_loss: 0.1278 - val_accuracy: 0.9827\n",
            "Epoch 45/100\n",
            "375/375 [==============================] - 2s 5ms/step - loss: 4.5203e-06 - accuracy: 1.0000 - val_loss: 0.1281 - val_accuracy: 0.9827\n",
            "Epoch 46/100\n",
            "375/375 [==============================] - 2s 5ms/step - loss: 4.4150e-06 - accuracy: 1.0000 - val_loss: 0.1283 - val_accuracy: 0.9827\n",
            "Epoch 47/100\n",
            "375/375 [==============================] - 2s 6ms/step - loss: 4.3059e-06 - accuracy: 1.0000 - val_loss: 0.1284 - val_accuracy: 0.9827\n",
            "Epoch 48/100\n",
            "375/375 [==============================] - 3s 7ms/step - loss: 4.2086e-06 - accuracy: 1.0000 - val_loss: 0.1286 - val_accuracy: 0.9827\n",
            "Epoch 49/100\n",
            "375/375 [==============================] - 2s 6ms/step - loss: 4.1132e-06 - accuracy: 1.0000 - val_loss: 0.1289 - val_accuracy: 0.9826\n",
            "Epoch 50/100\n",
            "375/375 [==============================] - 2s 5ms/step - loss: 4.0222e-06 - accuracy: 1.0000 - val_loss: 0.1291 - val_accuracy: 0.9826\n",
            "Epoch 51/100\n",
            "375/375 [==============================] - 2s 5ms/step - loss: 3.9345e-06 - accuracy: 1.0000 - val_loss: 0.1293 - val_accuracy: 0.9826\n",
            "Epoch 52/100\n",
            "375/375 [==============================] - 2s 5ms/step - loss: 3.8558e-06 - accuracy: 1.0000 - val_loss: 0.1295 - val_accuracy: 0.9826\n",
            "Epoch 53/100\n",
            "375/375 [==============================] - 2s 5ms/step - loss: 3.7735e-06 - accuracy: 1.0000 - val_loss: 0.1297 - val_accuracy: 0.9826\n",
            "Epoch 54/100\n",
            "375/375 [==============================] - 2s 5ms/step - loss: 3.7005e-06 - accuracy: 1.0000 - val_loss: 0.1299 - val_accuracy: 0.9826\n",
            "Epoch 55/100\n",
            "375/375 [==============================] - 3s 7ms/step - loss: 3.6301e-06 - accuracy: 1.0000 - val_loss: 0.1300 - val_accuracy: 0.9826\n",
            "Epoch 56/100\n",
            "375/375 [==============================] - 2s 5ms/step - loss: 3.5601e-06 - accuracy: 1.0000 - val_loss: 0.1302 - val_accuracy: 0.9826\n",
            "Epoch 57/100\n",
            "375/375 [==============================] - 2s 5ms/step - loss: 3.4938e-06 - accuracy: 1.0000 - val_loss: 0.1304 - val_accuracy: 0.9826\n",
            "Epoch 58/100\n",
            "375/375 [==============================] - 1s 4ms/step - loss: 3.4308e-06 - accuracy: 1.0000 - val_loss: 0.1305 - val_accuracy: 0.9826\n",
            "Epoch 59/100\n",
            "375/375 [==============================] - 3s 7ms/step - loss: 3.3690e-06 - accuracy: 1.0000 - val_loss: 0.1307 - val_accuracy: 0.9826\n",
            "Epoch 60/100\n",
            "375/375 [==============================] - 4s 11ms/step - loss: 3.3126e-06 - accuracy: 1.0000 - val_loss: 0.1309 - val_accuracy: 0.9826\n",
            "Epoch 61/100\n",
            "375/375 [==============================] - 3s 7ms/step - loss: 3.2562e-06 - accuracy: 1.0000 - val_loss: 0.1310 - val_accuracy: 0.9826\n",
            "Epoch 62/100\n",
            "375/375 [==============================] - 2s 5ms/step - loss: 3.1991e-06 - accuracy: 1.0000 - val_loss: 0.1312 - val_accuracy: 0.9826\n",
            "Epoch 63/100\n",
            "375/375 [==============================] - 2s 6ms/step - loss: 3.1478e-06 - accuracy: 1.0000 - val_loss: 0.1313 - val_accuracy: 0.9826\n",
            "Epoch 64/100\n",
            "375/375 [==============================] - 2s 4ms/step - loss: 3.0959e-06 - accuracy: 1.0000 - val_loss: 0.1315 - val_accuracy: 0.9826\n",
            "Epoch 65/100\n",
            "375/375 [==============================] - 2s 6ms/step - loss: 3.0474e-06 - accuracy: 1.0000 - val_loss: 0.1316 - val_accuracy: 0.9826\n",
            "Epoch 66/100\n",
            "375/375 [==============================] - 3s 9ms/step - loss: 2.9996e-06 - accuracy: 1.0000 - val_loss: 0.1317 - val_accuracy: 0.9827\n",
            "Epoch 67/100\n",
            "375/375 [==============================] - 2s 6ms/step - loss: 2.9546e-06 - accuracy: 1.0000 - val_loss: 0.1319 - val_accuracy: 0.9827\n",
            "Epoch 68/100\n",
            "375/375 [==============================] - 2s 6ms/step - loss: 2.9091e-06 - accuracy: 1.0000 - val_loss: 0.1320 - val_accuracy: 0.9827\n",
            "Epoch 69/100\n",
            "375/375 [==============================] - 2s 5ms/step - loss: 2.8660e-06 - accuracy: 1.0000 - val_loss: 0.1322 - val_accuracy: 0.9827\n",
            "Epoch 70/100\n",
            "375/375 [==============================] - 2s 5ms/step - loss: 2.8247e-06 - accuracy: 1.0000 - val_loss: 0.1323 - val_accuracy: 0.9827\n",
            "Epoch 71/100\n",
            "375/375 [==============================] - 3s 8ms/step - loss: 2.7846e-06 - accuracy: 1.0000 - val_loss: 0.1324 - val_accuracy: 0.9827\n",
            "Epoch 72/100\n",
            "375/375 [==============================] - 2s 5ms/step - loss: 2.7454e-06 - accuracy: 1.0000 - val_loss: 0.1326 - val_accuracy: 0.9827\n",
            "Epoch 73/100\n",
            "375/375 [==============================] - 1s 4ms/step - loss: 2.7085e-06 - accuracy: 1.0000 - val_loss: 0.1327 - val_accuracy: 0.9827\n",
            "Epoch 74/100\n",
            "375/375 [==============================] - 1s 4ms/step - loss: 2.6710e-06 - accuracy: 1.0000 - val_loss: 0.1328 - val_accuracy: 0.9827\n",
            "Epoch 75/100\n",
            "375/375 [==============================] - 2s 5ms/step - loss: 2.6351e-06 - accuracy: 1.0000 - val_loss: 0.1330 - val_accuracy: 0.9827\n",
            "Epoch 76/100\n",
            "375/375 [==============================] - 1s 4ms/step - loss: 2.5997e-06 - accuracy: 1.0000 - val_loss: 0.1331 - val_accuracy: 0.9827\n",
            "Epoch 77/100\n",
            "375/375 [==============================] - 1s 4ms/step - loss: 2.5669e-06 - accuracy: 1.0000 - val_loss: 0.1332 - val_accuracy: 0.9827\n",
            "Epoch 78/100\n",
            "375/375 [==============================] - 3s 7ms/step - loss: 2.5323e-06 - accuracy: 1.0000 - val_loss: 0.1333 - val_accuracy: 0.9827\n",
            "Epoch 79/100\n",
            "375/375 [==============================] - 4s 9ms/step - loss: 2.5020e-06 - accuracy: 1.0000 - val_loss: 0.1335 - val_accuracy: 0.9827\n",
            "Epoch 80/100\n",
            "375/375 [==============================] - 2s 6ms/step - loss: 2.4707e-06 - accuracy: 1.0000 - val_loss: 0.1336 - val_accuracy: 0.9827\n",
            "Epoch 81/100\n",
            "375/375 [==============================] - 3s 7ms/step - loss: 2.4409e-06 - accuracy: 1.0000 - val_loss: 0.1337 - val_accuracy: 0.9827\n",
            "Epoch 82/100\n",
            "375/375 [==============================] - 2s 6ms/step - loss: 2.4103e-06 - accuracy: 1.0000 - val_loss: 0.1338 - val_accuracy: 0.9827\n",
            "Epoch 83/100\n",
            "375/375 [==============================] - 3s 8ms/step - loss: 2.3822e-06 - accuracy: 1.0000 - val_loss: 0.1339 - val_accuracy: 0.9827\n",
            "Epoch 84/100\n",
            "375/375 [==============================] - 2s 6ms/step - loss: 2.3543e-06 - accuracy: 1.0000 - val_loss: 0.1340 - val_accuracy: 0.9828\n",
            "Epoch 85/100\n",
            "375/375 [==============================] - 2s 4ms/step - loss: 2.3271e-06 - accuracy: 1.0000 - val_loss: 0.1341 - val_accuracy: 0.9827\n",
            "Epoch 86/100\n",
            "375/375 [==============================] - 1s 4ms/step - loss: 2.3000e-06 - accuracy: 1.0000 - val_loss: 0.1342 - val_accuracy: 0.9828\n",
            "Epoch 87/100\n",
            "375/375 [==============================] - 2s 4ms/step - loss: 2.2741e-06 - accuracy: 1.0000 - val_loss: 0.1343 - val_accuracy: 0.9828\n",
            "Epoch 88/100\n",
            "375/375 [==============================] - 2s 5ms/step - loss: 2.2484e-06 - accuracy: 1.0000 - val_loss: 0.1344 - val_accuracy: 0.9827\n",
            "Epoch 89/100\n",
            "375/375 [==============================] - 2s 5ms/step - loss: 2.2237e-06 - accuracy: 1.0000 - val_loss: 0.1346 - val_accuracy: 0.9827\n",
            "Epoch 90/100\n",
            "375/375 [==============================] - 3s 8ms/step - loss: 2.1995e-06 - accuracy: 1.0000 - val_loss: 0.1347 - val_accuracy: 0.9828\n",
            "Epoch 91/100\n",
            "375/375 [==============================] - 2s 5ms/step - loss: 2.1760e-06 - accuracy: 1.0000 - val_loss: 0.1348 - val_accuracy: 0.9828\n",
            "Epoch 92/100\n",
            "375/375 [==============================] - 2s 6ms/step - loss: 2.1527e-06 - accuracy: 1.0000 - val_loss: 0.1349 - val_accuracy: 0.9828\n",
            "Epoch 93/100\n",
            "375/375 [==============================] - 2s 6ms/step - loss: 2.1295e-06 - accuracy: 1.0000 - val_loss: 0.1350 - val_accuracy: 0.9828\n",
            "Epoch 94/100\n",
            "375/375 [==============================] - 2s 6ms/step - loss: 2.1075e-06 - accuracy: 1.0000 - val_loss: 0.1351 - val_accuracy: 0.9828\n",
            "Epoch 95/100\n",
            "375/375 [==============================] - 2s 5ms/step - loss: 2.0860e-06 - accuracy: 1.0000 - val_loss: 0.1351 - val_accuracy: 0.9828\n",
            "Epoch 96/100\n",
            "375/375 [==============================] - 3s 7ms/step - loss: 2.0638e-06 - accuracy: 1.0000 - val_loss: 0.1353 - val_accuracy: 0.9828\n",
            "Epoch 97/100\n",
            "375/375 [==============================] - 2s 6ms/step - loss: 2.0436e-06 - accuracy: 1.0000 - val_loss: 0.1354 - val_accuracy: 0.9828\n",
            "Epoch 98/100\n",
            "375/375 [==============================] - 2s 6ms/step - loss: 2.0235e-06 - accuracy: 1.0000 - val_loss: 0.1355 - val_accuracy: 0.9828\n",
            "Epoch 99/100\n",
            "375/375 [==============================] - 1s 4ms/step - loss: 2.0028e-06 - accuracy: 1.0000 - val_loss: 0.1355 - val_accuracy: 0.9828\n",
            "Epoch 100/100\n",
            "375/375 [==============================] - 2s 6ms/step - loss: 1.9838e-06 - accuracy: 1.0000 - val_loss: 0.1356 - val_accuracy: 0.9828\n",
            "CPU times: user 2min 51s, sys: 13.8 s, total: 3min 5s\n",
            "Wall time: 3min 45s\n"
          ]
        }
      ]
    },
    {
      "cell_type": "code",
      "source": [
        "import matplotlib.pyplot as plt\n",
        "epochs = range(1, len(Hist_mnist.history['loss'])+1)\n",
        "plt.figure(figsize = (15,5))\n",
        "\n",
        "plt.subplot(1,2,1)\n",
        "plt.plot(epochs, Hist_mnist.history['loss'],'b-')\n",
        "plt.plot(epochs, Hist_mnist.history['val_loss'],'r--')\n",
        "plt.title('Traing & Validation Loss')\n",
        "plt.xlabel('Epochs')\n",
        "plt.ylabel('Loss')\n",
        "plt.legend(['Training Loss','Validation Loss'])\n",
        "plt.grid()\n",
        "\n",
        "plt.subplot(1,2,2)\n",
        "plt.plot(epochs, Hist_mnist.history['accuracy'],'b-')\n",
        "plt.plot(epochs, Hist_mnist.history['val_accuracy'],'r--')\n",
        "plt.title('Traing & Validation Accuracy')\n",
        "plt.xlabel('Epochs')\n",
        "plt.ylabel('Accuracy')\n",
        "plt.legend(['Training Accuracy','Validation Accuracy'])\n",
        "plt.grid()\n",
        "\n",
        "plt.show()"
      ],
      "metadata": {
        "colab": {
          "base_uri": "https://localhost:8080/",
          "height": 276
        },
        "id": "oh_Klm80_MXm",
        "outputId": "c15ae6f6-d576-47e3-eddd-c9f1a06a73e3"
      },
      "execution_count": 21,
      "outputs": [
        {
          "output_type": "display_data",
          "data": {
            "text/plain": [
              "<Figure size 1500x500 with 2 Axes>"
            ],
            "image/png": "[encoded data removed]"
          },
          "metadata": {}
        }
      ]
    },
    {
      "cell_type": "code",
      "source": [
        "loss, accuracy = mnist.evaluate(X_test, y_test, verbose = 0)\n",
        "\n",
        "print('Loss = {:.5f}'.format(loss))\n",
        "print('Accuracy = {:.5f}'.format(accuracy))"
      ],
      "metadata": {
        "colab": {
          "base_uri": "https://localhost:8080/"
        },
        "id": "a7Ct3z6T_2AW",
        "outputId": "0cf8560c-69b7-48c3-f0e4-fc073efe0d77"
      },
      "execution_count": 22,
      "outputs": [
        {
          "output_type": "stream",
          "name": "stdout",
          "text": [
            "Loss = 0.10215\n",
            "Accuracy = 0.98410\n"
          ]
        }
      ]
    },
    {
      "cell_type": "code",
      "source": [
        "np.set_printoptions(suppress=True, precision = 9)\n",
        "print(mnist.predict(X_test[:1,:], verbose = 0))"
      ],
      "metadata": {
        "colab": {
          "base_uri": "https://localhost:8080/"
        },
        "id": "NPfvxGjQACHp",
        "outputId": "f0373d28-80a8-43d1-bc47-0aac7358549b"
      },
      "execution_count": 23,
      "outputs": [
        {
          "output_type": "stream",
          "name": "stdout",
          "text": [
            "[[0. 0. 0. 0. 0. 0. 0. 1. 0. 0.]]\n"
          ]
        }
      ]
    },
    {
      "cell_type": "code",
      "source": [
        "print(np.argmax(mnist.predict(X_test[:1,:], verbose = 0)))"
      ],
      "metadata": {
        "colab": {
          "base_uri": "https://localhost:8080/"
        },
        "id": "PJqP458LAJ0b",
        "outputId": "dcf2e3d5-92d3-4922-afba-6c7602ebee55"
      },
      "execution_count": 24,
      "outputs": [
        {
          "output_type": "stream",
          "name": "stdout",
          "text": [
            "7\n"
          ]
        }
      ]
    },
    {
      "cell_type": "code",
      "source": [
        "plt.imshow(X_test[0].reshape(28,28), cmap='gray')\n",
        "plt.title('Predicted Image', fontsize = 20)\n",
        "plt.show()"
      ],
      "metadata": {
        "colab": {
          "base_uri": "https://localhost:8080/",
          "height": 480
        },
        "id": "IFZ-SibqAOhN",
        "outputId": "8bd1a530-e2d8-4146-dbfa-6f05caa3d1bd"
      },
      "execution_count": 25,
      "outputs": [
        {
          "output_type": "display_data",
          "data": {
            "text/plain": [
              "<Figure size 640x480 with 1 Axes>"
            ],
            "image/png": "[encoded data removed]"
          },
          "metadata": {}
        }
      ]
    },
    {
      "cell_type": "code",
      "source": [
        "from sklearn.metrics import confusion_matrix\n",
        "import matplotlib.pyplot as plt\n",
        "import seaborn as sns\n",
        "\n",
        "CM = confusion_matrix(np.argmax(y_test, axis=1),\n",
        "                      np.argmax(mnist.predict(X_test, verbose = 0), axis= 1))\n",
        "\n",
        "plt.figure(figsize = (10,10))\n",
        "sns.heatmap(CM,\n",
        "            annot = True,\n",
        "            fmt = 'd',\n",
        "            cmap = 'Blues',\n",
        "            cbar = False)\n",
        "plt.xlabel('y_hat', fontsize=25)\n",
        "plt.ylabel('y', fontsize = 25)\n",
        "plt.show()"
      ],
      "metadata": {
        "colab": {
          "base_uri": "https://localhost:8080/",
          "height": 664
        },
        "id": "Wgm76i23AXnH",
        "outputId": "d61131df-d761-4308-8556-5de0ddb7285a"
      },
      "execution_count": 26,
      "outputs": [
        {
          "output_type": "display_data",
          "data": {
            "text/plain": [
              "<Figure size 1000x1000 with 1 Axes>"
            ],
            "image/png": "[encoded data removed]"
          },
          "metadata": {}
        }
      ]
    },
    {
      "cell_type": "code",
      "source": [
        "from sklearn.metrics import classification_report\n",
        "\n",
        "print('\\n',\n",
        "      classification_report(np.argmax(y_test, axis= 1),\n",
        "                            np.argmax(mnist.predict(X_test, verbose = 0), axis = 1)))"
      ],
      "metadata": {
        "colab": {
          "base_uri": "https://localhost:8080/"
        },
        "id": "PRPy8nhpA00y",
        "outputId": "27a2915a-d0b1-48c8-d664-cb208103bfe5"
      },
      "execution_count": 27,
      "outputs": [
        {
          "output_type": "stream",
          "name": "stdout",
          "text": [
            "\n",
            "               precision    recall  f1-score   support\n",
            "\n",
            "           0       0.99      0.99      0.99       980\n",
            "           1       0.99      0.99      0.99      1135\n",
            "           2       0.98      0.98      0.98      1032\n",
            "           3       0.98      0.99      0.98      1010\n",
            "           4       0.98      0.98      0.98       982\n",
            "           5       0.99      0.97      0.98       892\n",
            "           6       0.98      0.99      0.98       958\n",
            "           7       0.98      0.99      0.98      1028\n",
            "           8       0.98      0.98      0.98       974\n",
            "           9       0.98      0.98      0.98      1009\n",
            "\n",
            "    accuracy                           0.98     10000\n",
            "   macro avg       0.98      0.98      0.98     10000\n",
            "weighted avg       0.98      0.98      0.98     10000\n",
            "\n"
          ]
        }
      ]
    }
  ]
}
