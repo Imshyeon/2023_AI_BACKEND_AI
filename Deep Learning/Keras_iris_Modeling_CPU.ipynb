{
  "nbformat": 4,
  "nbformat_minor": 0,
  "metadata": {
    "colab": {
      "provenance": [],
      "authorship_tag": "ABX9TyNW3gBFqA4hwGi7q31cQ4nT",
      "include_colab_link": true
    },
    "kernelspec": {
      "name": "python3",
      "display_name": "Python 3"
    },
    "language_info": {
      "name": "python"
    }
  },
  "cells": [
    {
      "cell_type": "markdown",
      "metadata": {
        "id": "view-in-github",
        "colab_type": "text"
      },
      "source": [
        "<a href=\"https://colab.research.google.com/github/Imshyeon/2023_AI_BACKEND_AI/blob/master/Deep%20Learning/Keras_iris_Modeling_CPU.ipynb\" target=\"_parent\"><img src=\"https://colab.research.google.com/assets/colab-badge.svg\" alt=\"Open In Colab\"/></a>"
      ]
    },
    {
      "cell_type": "code",
      "execution_count": 1,
      "metadata": {
        "id": "2RSvDSOrv8iA"
      },
      "outputs": [],
      "source": [
        "import warnings\n",
        "warnings.filterwarnings('ignore')"
      ]
    },
    {
      "cell_type": "code",
      "source": [
        "import seaborn as sns\n",
        "iris = sns.load_dataset('iris')"
      ],
      "metadata": {
        "id": "Yg5RygEjwD63"
      },
      "execution_count": 2,
      "outputs": []
    },
    {
      "cell_type": "code",
      "source": [
        "iris.info()"
      ],
      "metadata": {
        "colab": {
          "base_uri": "https://localhost:8080/"
        },
        "id": "ZiDDOYe-wHRW",
        "outputId": "a90412c2-7d51-4ffc-b6aa-7b6e9ee3134d"
      },
      "execution_count": 3,
      "outputs": [
        {
          "output_type": "stream",
          "name": "stdout",
          "text": [
            "<class 'pandas.core.frame.DataFrame'>\n",
            "RangeIndex: 150 entries, 0 to 149\n",
            "Data columns (total 5 columns):\n",
            " #   Column        Non-Null Count  Dtype  \n",
            "---  ------        --------------  -----  \n",
            " 0   sepal_length  150 non-null    float64\n",
            " 1   sepal_width   150 non-null    float64\n",
            " 2   petal_length  150 non-null    float64\n",
            " 3   petal_width   150 non-null    float64\n",
            " 4   species       150 non-null    object \n",
            "dtypes: float64(4), object(1)\n",
            "memory usage: 6.0+ KB\n"
          ]
        }
      ]
    },
    {
      "cell_type": "code",
      "source": [
        "iris.head(3)"
      ],
      "metadata": {
        "colab": {
          "base_uri": "https://localhost:8080/",
          "height": 160
        },
        "id": "YMLYdlKDwIYK",
        "outputId": "4f12fa36-0ff4-4f2c-b29d-2af7b62ecc77"
      },
      "execution_count": 4,
      "outputs": [
        {
          "output_type": "execute_result",
          "data": {
            "text/plain": [
              "   sepal_length  sepal_width  petal_length  petal_width species\n",
              "0           5.1          3.5           1.4          0.2  setosa\n",
              "1           4.9          3.0           1.4          0.2  setosa\n",
              "2           4.7          3.2           1.3          0.2  setosa"
            ],
            "text/html": [
              "\n",
              "  <div id=\"df-49b964f9-28dc-457f-80a4-f8e65565a357\" class=\"colab-df-container\">\n",
              "    <div>\n",
              "<style scoped>\n",
              "    .dataframe tbody tr th:only-of-type {\n",
              "        vertical-align: middle;\n",
              "    }\n",
              "\n",
              "    .dataframe tbody tr th {\n",
              "        vertical-align: top;\n",
              "    }\n",
              "\n",
              "    .dataframe thead th {\n",
              "        text-align: right;\n",
              "    }\n",
              "</style>\n",
              "<table border=\"1\" class=\"dataframe\">\n",
              "  <thead>\n",
              "    <tr style=\"text-align: right;\">\n",
              "      <th></th>\n",
              "      <th>sepal_length</th>\n",
              "      <th>sepal_width</th>\n",
              "      <th>petal_length</th>\n",
              "      <th>petal_width</th>\n",
              "      <th>species</th>\n",
              "    </tr>\n",
              "  </thead>\n",
              "  <tbody>\n",
              "    <tr>\n",
              "      <th>0</th>\n",
              "      <td>5.1</td>\n",
              "      <td>3.5</td>\n",
              "      <td>1.4</td>\n",
              "      <td>0.2</td>\n",
              "      <td>setosa</td>\n",
              "    </tr>\n",
              "    <tr>\n",
              "      <th>1</th>\n",
              "      <td>4.9</td>\n",
              "      <td>3.0</td>\n",
              "      <td>1.4</td>\n",
              "      <td>0.2</td>\n",
              "      <td>setosa</td>\n",
              "    </tr>\n",
              "    <tr>\n",
              "      <th>2</th>\n",
              "      <td>4.7</td>\n",
              "      <td>3.2</td>\n",
              "      <td>1.3</td>\n",
              "      <td>0.2</td>\n",
              "      <td>setosa</td>\n",
              "    </tr>\n",
              "  </tbody>\n",
              "</table>\n",
              "</div>\n",
              "    <div class=\"colab-df-buttons\">\n",
              "\n",
              "  <div class=\"colab-df-container\">\n",
              "    <button class=\"colab-df-convert\" onclick=\"convertToInteractive('df-49b964f9-28dc-457f-80a4-f8e65565a357')\"\n",
              "            title=\"Convert this dataframe to an interactive table.\"\n",
              "            style=\"display:none;\">\n",
              "\n",
              "  <svg xmlns=\"http://www.w3.org/2000/svg\" height=\"24px\" viewBox=\"0 -960 960 960\">\n",
              "    <path d=\"M120-120v-720h720v720H120Zm60-500h600v-160H180v160Zm220 220h160v-160H400v160Zm0 220h160v-160H400v160ZM180-400h160v-160H180v160Zm440 0h160v-160H620v160ZM180-180h160v-160H180v160Zm440 0h160v-160H620v160Z\"/>\n",
              "  </svg>\n",
              "    </button>\n",
              "\n",
              "  <style>\n",
              "    .colab-df-container {\n",
              "      display:flex;\n",
              "      gap: 12px;\n",
              "    }\n",
              "\n",
              "    .colab-df-convert {\n",
              "      background-color: #E8F0FE;\n",
              "      border: none;\n",
              "      border-radius: 50%;\n",
              "      cursor: pointer;\n",
              "      display: none;\n",
              "      fill: #1967D2;\n",
              "      height: 32px;\n",
              "      padding: 0 0 0 0;\n",
              "      width: 32px;\n",
              "    }\n",
              "\n",
              "    .colab-df-convert:hover {\n",
              "      background-color: #E2EBFA;\n",
              "      box-shadow: 0px 1px 2px rgba(60, 64, 67, 0.3), 0px 1px 3px 1px rgba(60, 64, 67, 0.15);\n",
              "      fill: #174EA6;\n",
              "    }\n",
              "\n",
              "    .colab-df-buttons div {\n",
              "      margin-bottom: 4px;\n",
              "    }\n",
              "\n",
              "    [theme=dark] .colab-df-convert {\n",
              "      background-color: #3B4455;\n",
              "      fill: #D2E3FC;\n",
              "    }\n",
              "\n",
              "    [theme=dark] .colab-df-convert:hover {\n",
              "      background-color: #434B5C;\n",
              "      box-shadow: 0px 1px 3px 1px rgba(0, 0, 0, 0.15);\n",
              "      filter: drop-shadow(0px 1px 2px rgba(0, 0, 0, 0.3));\n",
              "      fill: #FFFFFF;\n",
              "    }\n",
              "  </style>\n",
              "\n",
              "    <script>\n",
              "      const buttonEl =\n",
              "        document.querySelector('#df-49b964f9-28dc-457f-80a4-f8e65565a357 button.colab-df-convert');\n",
              "      buttonEl.style.display =\n",
              "        google.colab.kernel.accessAllowed ? 'block' : 'none';\n",
              "\n",
              "      async function convertToInteractive(key) {\n",
              "        const element = document.querySelector('#df-49b964f9-28dc-457f-80a4-f8e65565a357');\n",
              "        const dataTable =\n",
              "          await google.colab.kernel.invokeFunction('convertToInteractive',\n",
              "                                                    [key], {});\n",
              "        if (!dataTable) return;\n",
              "\n",
              "        const docLinkHtml = 'Like what you see? Visit the ' +\n",
              "          '<a target=\"_blank\" href=https://colab.research.google.com/notebooks/data_table.ipynb>data table notebook</a>'\n",
              "          + ' to learn more about interactive tables.';\n",
              "        element.innerHTML = '';\n",
              "        dataTable['output_type'] = 'display_data';\n",
              "        await google.colab.output.renderOutput(dataTable, element);\n",
              "        const docLink = document.createElement('div');\n",
              "        docLink.innerHTML = docLinkHtml;\n",
              "        element.appendChild(docLink);\n",
              "      }\n",
              "    </script>\n",
              "  </div>\n",
              "\n",
              "\n",
              "<div id=\"df-645c00f5-3e71-4f48-96d7-dd45b5dbd718\">\n",
              "  <button class=\"colab-df-quickchart\" onclick=\"quickchart('df-645c00f5-3e71-4f48-96d7-dd45b5dbd718')\"\n",
              "            title=\"Suggest charts.\"\n",
              "            style=\"display:none;\">\n",
              "\n",
              "<svg xmlns=\"http://www.w3.org/2000/svg\" height=\"24px\"viewBox=\"0 0 24 24\"\n",
              "     width=\"24px\">\n",
              "    <g>\n",
              "        <path d=\"M19 3H5c-1.1 0-2 .9-2 2v14c0 1.1.9 2 2 2h14c1.1 0 2-.9 2-2V5c0-1.1-.9-2-2-2zM9 17H7v-7h2v7zm4 0h-2V7h2v10zm4 0h-2v-4h2v4z\"/>\n",
              "    </g>\n",
              "</svg>\n",
              "  </button>\n",
              "\n",
              "<style>\n",
              "  .colab-df-quickchart {\n",
              "      --bg-color: #E8F0FE;\n",
              "      --fill-color: #1967D2;\n",
              "      --hover-bg-color: #E2EBFA;\n",
              "      --hover-fill-color: #174EA6;\n",
              "      --disabled-fill-color: #AAA;\n",
              "      --disabled-bg-color: #DDD;\n",
              "  }\n",
              "\n",
              "  [theme=dark] .colab-df-quickchart {\n",
              "      --bg-color: #3B4455;\n",
              "      --fill-color: #D2E3FC;\n",
              "      --hover-bg-color: #434B5C;\n",
              "      --hover-fill-color: #FFFFFF;\n",
              "      --disabled-bg-color: #3B4455;\n",
              "      --disabled-fill-color: #666;\n",
              "  }\n",
              "\n",
              "  .colab-df-quickchart {\n",
              "    background-color: var(--bg-color);\n",
              "    border: none;\n",
              "    border-radius: 50%;\n",
              "    cursor: pointer;\n",
              "    display: none;\n",
              "    fill: var(--fill-color);\n",
              "    height: 32px;\n",
              "    padding: 0;\n",
              "    width: 32px;\n",
              "  }\n",
              "\n",
              "  .colab-df-quickchart:hover {\n",
              "    background-color: var(--hover-bg-color);\n",
              "    box-shadow: 0 1px 2px rgba(60, 64, 67, 0.3), 0 1px 3px 1px rgba(60, 64, 67, 0.15);\n",
              "    fill: var(--button-hover-fill-color);\n",
              "  }\n",
              "\n",
              "  .colab-df-quickchart-complete:disabled,\n",
              "  .colab-df-quickchart-complete:disabled:hover {\n",
              "    background-color: var(--disabled-bg-color);\n",
              "    fill: var(--disabled-fill-color);\n",
              "    box-shadow: none;\n",
              "  }\n",
              "\n",
              "  .colab-df-spinner {\n",
              "    border: 2px solid var(--fill-color);\n",
              "    border-color: transparent;\n",
              "    border-bottom-color: var(--fill-color);\n",
              "    animation:\n",
              "      spin 1s steps(1) infinite;\n",
              "  }\n",
              "\n",
              "  @keyframes spin {\n",
              "    0% {\n",
              "      border-color: transparent;\n",
              "      border-bottom-color: var(--fill-color);\n",
              "      border-left-color: var(--fill-color);\n",
              "    }\n",
              "    20% {\n",
              "      border-color: transparent;\n",
              "      border-left-color: var(--fill-color);\n",
              "      border-top-color: var(--fill-color);\n",
              "    }\n",
              "    30% {\n",
              "      border-color: transparent;\n",
              "      border-left-color: var(--fill-color);\n",
              "      border-top-color: var(--fill-color);\n",
              "      border-right-color: var(--fill-color);\n",
              "    }\n",
              "    40% {\n",
              "      border-color: transparent;\n",
              "      border-right-color: var(--fill-color);\n",
              "      border-top-color: var(--fill-color);\n",
              "    }\n",
              "    60% {\n",
              "      border-color: transparent;\n",
              "      border-right-color: var(--fill-color);\n",
              "    }\n",
              "    80% {\n",
              "      border-color: transparent;\n",
              "      border-right-color: var(--fill-color);\n",
              "      border-bottom-color: var(--fill-color);\n",
              "    }\n",
              "    90% {\n",
              "      border-color: transparent;\n",
              "      border-bottom-color: var(--fill-color);\n",
              "    }\n",
              "  }\n",
              "</style>\n",
              "\n",
              "  <script>\n",
              "    async function quickchart(key) {\n",
              "      const quickchartButtonEl =\n",
              "        document.querySelector('#' + key + ' button');\n",
              "      quickchartButtonEl.disabled = true;  // To prevent multiple clicks.\n",
              "      quickchartButtonEl.classList.add('colab-df-spinner');\n",
              "      try {\n",
              "        const charts = await google.colab.kernel.invokeFunction(\n",
              "            'suggestCharts', [key], {});\n",
              "      } catch (error) {\n",
              "        console.error('Error during call to suggestCharts:', error);\n",
              "      }\n",
              "      quickchartButtonEl.classList.remove('colab-df-spinner');\n",
              "      quickchartButtonEl.classList.add('colab-df-quickchart-complete');\n",
              "    }\n",
              "    (() => {\n",
              "      let quickchartButtonEl =\n",
              "        document.querySelector('#df-645c00f5-3e71-4f48-96d7-dd45b5dbd718 button');\n",
              "      quickchartButtonEl.style.display =\n",
              "        google.colab.kernel.accessAllowed ? 'block' : 'none';\n",
              "    })();\n",
              "  </script>\n",
              "</div>\n",
              "    </div>\n",
              "  </div>\n"
            ]
          },
          "metadata": {},
          "execution_count": 4
        }
      ]
    },
    {
      "cell_type": "code",
      "source": [
        "import tensorflow\n",
        "tensorflow.__version__"
      ],
      "metadata": {
        "colab": {
          "base_uri": "https://localhost:8080/",
          "height": 56
        },
        "id": "j5SD1eC9wJoX",
        "outputId": "1a8d8076-30aa-4619-c55d-d625f38a38f7"
      },
      "execution_count": 6,
      "outputs": [
        {
          "output_type": "execute_result",
          "data": {
            "text/plain": [
              "'2.13.0'"
            ],
            "application/vnd.google.colaboratory.intrinsic+json": {
              "type": "string"
            }
          },
          "metadata": {},
          "execution_count": 6
        }
      ]
    },
    {
      "cell_type": "code",
      "source": [
        "import keras\n",
        "keras.__version__"
      ],
      "metadata": {
        "colab": {
          "base_uri": "https://localhost:8080/",
          "height": 56
        },
        "id": "q3CG0G3nwOKt",
        "outputId": "ec4a3778-46f0-47d6-916c-b0df4f536010"
      },
      "execution_count": 7,
      "outputs": [
        {
          "output_type": "execute_result",
          "data": {
            "text/plain": [
              "'2.13.1'"
            ],
            "application/vnd.google.colaboratory.intrinsic+json": {
              "type": "string"
            }
          },
          "metadata": {},
          "execution_count": 7
        }
      ]
    },
    {
      "cell_type": "markdown",
      "source": [
        "# Data Processing"
      ],
      "metadata": {
        "id": "lNdLZiMqwTLz"
      }
    },
    {
      "cell_type": "code",
      "source": [
        "iris.species.value_counts()"
      ],
      "metadata": {
        "colab": {
          "base_uri": "https://localhost:8080/"
        },
        "id": "a-ENRvoEwSf9",
        "outputId": "4fe952c6-8f1a-443b-f06c-8d008ba0b878"
      },
      "execution_count": 9,
      "outputs": [
        {
          "output_type": "execute_result",
          "data": {
            "text/plain": [
              "setosa        50\n",
              "versicolor    50\n",
              "virginica     50\n",
              "Name: species, dtype: int64"
            ]
          },
          "metadata": {},
          "execution_count": 9
        }
      ]
    },
    {
      "cell_type": "code",
      "source": [
        "X = iris[['sepal_length','sepal_width','petal_length','petal_width']]\n",
        "y = iris['species']\n",
        "\n",
        "X.shape, y.shape"
      ],
      "metadata": {
        "colab": {
          "base_uri": "https://localhost:8080/"
        },
        "id": "WC-qDhyBwXeH",
        "outputId": "b23b8b62-66b9-44d4-8ce6-605aaba2b855"
      },
      "execution_count": 10,
      "outputs": [
        {
          "output_type": "execute_result",
          "data": {
            "text/plain": [
              "((150, 4), (150,))"
            ]
          },
          "metadata": {},
          "execution_count": 10
        }
      ]
    },
    {
      "cell_type": "code",
      "source": [
        "from sklearn.preprocessing import LabelEncoder\n",
        "\n",
        "encoder = LabelEncoder()\n",
        "LBE_y = encoder.fit_transform(y)"
      ],
      "metadata": {
        "id": "uumsoTFFwi19"
      },
      "execution_count": 11,
      "outputs": []
    },
    {
      "cell_type": "code",
      "source": [
        "LBE_y"
      ],
      "metadata": {
        "colab": {
          "base_uri": "https://localhost:8080/"
        },
        "id": "zRtpRF1SwrN4",
        "outputId": "d382a99a-d90c-488c-aa6e-9bfdce6818c9"
      },
      "execution_count": 12,
      "outputs": [
        {
          "output_type": "execute_result",
          "data": {
            "text/plain": [
              "array([0, 0, 0, 0, 0, 0, 0, 0, 0, 0, 0, 0, 0, 0, 0, 0, 0, 0, 0, 0, 0, 0,\n",
              "       0, 0, 0, 0, 0, 0, 0, 0, 0, 0, 0, 0, 0, 0, 0, 0, 0, 0, 0, 0, 0, 0,\n",
              "       0, 0, 0, 0, 0, 0, 1, 1, 1, 1, 1, 1, 1, 1, 1, 1, 1, 1, 1, 1, 1, 1,\n",
              "       1, 1, 1, 1, 1, 1, 1, 1, 1, 1, 1, 1, 1, 1, 1, 1, 1, 1, 1, 1, 1, 1,\n",
              "       1, 1, 1, 1, 1, 1, 1, 1, 1, 1, 1, 1, 2, 2, 2, 2, 2, 2, 2, 2, 2, 2,\n",
              "       2, 2, 2, 2, 2, 2, 2, 2, 2, 2, 2, 2, 2, 2, 2, 2, 2, 2, 2, 2, 2, 2,\n",
              "       2, 2, 2, 2, 2, 2, 2, 2, 2, 2, 2, 2, 2, 2, 2, 2, 2, 2])"
            ]
          },
          "metadata": {},
          "execution_count": 12
        }
      ]
    },
    {
      "cell_type": "code",
      "source": [
        "from tensorflow.keras.utils import to_categorical\n",
        "\n",
        "OHE_y = to_categorical(LBE_y)\n",
        "OHE_y"
      ],
      "metadata": {
        "colab": {
          "base_uri": "https://localhost:8080/"
        },
        "id": "ewydrsQLwsOS",
        "outputId": "b2eae05f-1420-4bee-96e0-f71640829ccc"
      },
      "execution_count": 13,
      "outputs": [
        {
          "output_type": "execute_result",
          "data": {
            "text/plain": [
              "array([[1., 0., 0.],\n",
              "       [1., 0., 0.],\n",
              "       [1., 0., 0.],\n",
              "       [1., 0., 0.],\n",
              "       [1., 0., 0.],\n",
              "       [1., 0., 0.],\n",
              "       [1., 0., 0.],\n",
              "       [1., 0., 0.],\n",
              "       [1., 0., 0.],\n",
              "       [1., 0., 0.],\n",
              "       [1., 0., 0.],\n",
              "       [1., 0., 0.],\n",
              "       [1., 0., 0.],\n",
              "       [1., 0., 0.],\n",
              "       [1., 0., 0.],\n",
              "       [1., 0., 0.],\n",
              "       [1., 0., 0.],\n",
              "       [1., 0., 0.],\n",
              "       [1., 0., 0.],\n",
              "       [1., 0., 0.],\n",
              "       [1., 0., 0.],\n",
              "       [1., 0., 0.],\n",
              "       [1., 0., 0.],\n",
              "       [1., 0., 0.],\n",
              "       [1., 0., 0.],\n",
              "       [1., 0., 0.],\n",
              "       [1., 0., 0.],\n",
              "       [1., 0., 0.],\n",
              "       [1., 0., 0.],\n",
              "       [1., 0., 0.],\n",
              "       [1., 0., 0.],\n",
              "       [1., 0., 0.],\n",
              "       [1., 0., 0.],\n",
              "       [1., 0., 0.],\n",
              "       [1., 0., 0.],\n",
              "       [1., 0., 0.],\n",
              "       [1., 0., 0.],\n",
              "       [1., 0., 0.],\n",
              "       [1., 0., 0.],\n",
              "       [1., 0., 0.],\n",
              "       [1., 0., 0.],\n",
              "       [1., 0., 0.],\n",
              "       [1., 0., 0.],\n",
              "       [1., 0., 0.],\n",
              "       [1., 0., 0.],\n",
              "       [1., 0., 0.],\n",
              "       [1., 0., 0.],\n",
              "       [1., 0., 0.],\n",
              "       [1., 0., 0.],\n",
              "       [1., 0., 0.],\n",
              "       [0., 1., 0.],\n",
              "       [0., 1., 0.],\n",
              "       [0., 1., 0.],\n",
              "       [0., 1., 0.],\n",
              "       [0., 1., 0.],\n",
              "       [0., 1., 0.],\n",
              "       [0., 1., 0.],\n",
              "       [0., 1., 0.],\n",
              "       [0., 1., 0.],\n",
              "       [0., 1., 0.],\n",
              "       [0., 1., 0.],\n",
              "       [0., 1., 0.],\n",
              "       [0., 1., 0.],\n",
              "       [0., 1., 0.],\n",
              "       [0., 1., 0.],\n",
              "       [0., 1., 0.],\n",
              "       [0., 1., 0.],\n",
              "       [0., 1., 0.],\n",
              "       [0., 1., 0.],\n",
              "       [0., 1., 0.],\n",
              "       [0., 1., 0.],\n",
              "       [0., 1., 0.],\n",
              "       [0., 1., 0.],\n",
              "       [0., 1., 0.],\n",
              "       [0., 1., 0.],\n",
              "       [0., 1., 0.],\n",
              "       [0., 1., 0.],\n",
              "       [0., 1., 0.],\n",
              "       [0., 1., 0.],\n",
              "       [0., 1., 0.],\n",
              "       [0., 1., 0.],\n",
              "       [0., 1., 0.],\n",
              "       [0., 1., 0.],\n",
              "       [0., 1., 0.],\n",
              "       [0., 1., 0.],\n",
              "       [0., 1., 0.],\n",
              "       [0., 1., 0.],\n",
              "       [0., 1., 0.],\n",
              "       [0., 1., 0.],\n",
              "       [0., 1., 0.],\n",
              "       [0., 1., 0.],\n",
              "       [0., 1., 0.],\n",
              "       [0., 1., 0.],\n",
              "       [0., 1., 0.],\n",
              "       [0., 1., 0.],\n",
              "       [0., 1., 0.],\n",
              "       [0., 1., 0.],\n",
              "       [0., 1., 0.],\n",
              "       [0., 1., 0.],\n",
              "       [0., 1., 0.],\n",
              "       [0., 0., 1.],\n",
              "       [0., 0., 1.],\n",
              "       [0., 0., 1.],\n",
              "       [0., 0., 1.],\n",
              "       [0., 0., 1.],\n",
              "       [0., 0., 1.],\n",
              "       [0., 0., 1.],\n",
              "       [0., 0., 1.],\n",
              "       [0., 0., 1.],\n",
              "       [0., 0., 1.],\n",
              "       [0., 0., 1.],\n",
              "       [0., 0., 1.],\n",
              "       [0., 0., 1.],\n",
              "       [0., 0., 1.],\n",
              "       [0., 0., 1.],\n",
              "       [0., 0., 1.],\n",
              "       [0., 0., 1.],\n",
              "       [0., 0., 1.],\n",
              "       [0., 0., 1.],\n",
              "       [0., 0., 1.],\n",
              "       [0., 0., 1.],\n",
              "       [0., 0., 1.],\n",
              "       [0., 0., 1.],\n",
              "       [0., 0., 1.],\n",
              "       [0., 0., 1.],\n",
              "       [0., 0., 1.],\n",
              "       [0., 0., 1.],\n",
              "       [0., 0., 1.],\n",
              "       [0., 0., 1.],\n",
              "       [0., 0., 1.],\n",
              "       [0., 0., 1.],\n",
              "       [0., 0., 1.],\n",
              "       [0., 0., 1.],\n",
              "       [0., 0., 1.],\n",
              "       [0., 0., 1.],\n",
              "       [0., 0., 1.],\n",
              "       [0., 0., 1.],\n",
              "       [0., 0., 1.],\n",
              "       [0., 0., 1.],\n",
              "       [0., 0., 1.],\n",
              "       [0., 0., 1.],\n",
              "       [0., 0., 1.],\n",
              "       [0., 0., 1.],\n",
              "       [0., 0., 1.],\n",
              "       [0., 0., 1.],\n",
              "       [0., 0., 1.],\n",
              "       [0., 0., 1.],\n",
              "       [0., 0., 1.],\n",
              "       [0., 0., 1.],\n",
              "       [0., 0., 1.]], dtype=float32)"
            ]
          },
          "metadata": {},
          "execution_count": 13
        }
      ]
    },
    {
      "cell_type": "code",
      "source": [
        "from sklearn.model_selection import train_test_split\n",
        "\n",
        "X_train,X_test,y_train,y_test = train_test_split(X, OHE_y,\n",
        "                                                 test_size = 0.3,\n",
        "                                                 random_state = 2045)\n",
        "\n",
        "X_train.shape, X_test.shape, y_train.shape, y_test.shape"
      ],
      "metadata": {
        "colab": {
          "base_uri": "https://localhost:8080/"
        },
        "id": "qnJSrB5uw0_w",
        "outputId": "4f3572a1-919a-4013-a760-04b6aabfd4b8"
      },
      "execution_count": 14,
      "outputs": [
        {
          "output_type": "execute_result",
          "data": {
            "text/plain": [
              "((105, 4), (45, 4), (105, 3), (45, 3))"
            ]
          },
          "metadata": {},
          "execution_count": 14
        }
      ]
    },
    {
      "cell_type": "markdown",
      "source": [
        "# Keras Modeling"
      ],
      "metadata": {
        "id": "672nZuqyxE1B"
      }
    },
    {
      "cell_type": "code",
      "source": [
        "from tensorflow.keras import models\n",
        "from tensorflow.keras import layers"
      ],
      "metadata": {
        "id": "bsAIKSq6xDaW"
      },
      "execution_count": 15,
      "outputs": []
    },
    {
      "cell_type": "code",
      "source": [
        "Model_iris = models.Sequential()\n",
        "\n",
        "Model_iris.add(layers.Dense(16, activation = 'relu', input_shape = (4,)))\n",
        "Model_iris.add(layers.Dense(8, activation = 'relu'))\n",
        "Model_iris.add(layers.Dense(3, activation = 'softmax'))"
      ],
      "metadata": {
        "id": "qpyzv5tKxLHF"
      },
      "execution_count": 17,
      "outputs": []
    },
    {
      "cell_type": "code",
      "source": [
        "Model_iris.summary()"
      ],
      "metadata": {
        "colab": {
          "base_uri": "https://localhost:8080/"
        },
        "id": "Fk95FnpQxNwu",
        "outputId": "e3cbce90-ad07-476f-c538-d4aeab0c7bdf"
      },
      "execution_count": 19,
      "outputs": [
        {
          "output_type": "stream",
          "name": "stdout",
          "text": [
            "Model: \"sequential_1\"\n",
            "_________________________________________________________________\n",
            " Layer (type)                Output Shape              Param #   \n",
            "=================================================================\n",
            " dense (Dense)               (None, 16)                80        \n",
            "                                                                 \n",
            " dense_1 (Dense)             (None, 8)                 136       \n",
            "                                                                 \n",
            " dense_2 (Dense)             (None, 3)                 27        \n",
            "                                                                 \n",
            "=================================================================\n",
            "Total params: 243 (972.00 Byte)\n",
            "Trainable params: 243 (972.00 Byte)\n",
            "Non-trainable params: 0 (0.00 Byte)\n",
            "_________________________________________________________________\n"
          ]
        }
      ]
    },
    {
      "cell_type": "code",
      "source": [
        "from tensorflow.keras import utils\n",
        "\n",
        "utils.plot_model(Model_iris,\n",
        "                 show_shapes = True,\n",
        "                 show_dtype = True)"
      ],
      "metadata": {
        "colab": {
          "base_uri": "https://localhost:8080/",
          "height": 566
        },
        "id": "1RAh-GAUxfVi",
        "outputId": "08e67bd3-7110-4e6d-c863-b0c97c55a688"
      },
      "execution_count": 20,
      "outputs": [
        {
          "output_type": "execute_result",
          "data": {
            "image/png": "[encoded data removed]",
            "text/plain": [
              "<IPython.core.display.Image object>"
            ]
          },
          "metadata": {},
          "execution_count": 20
        }
      ]
    },
    {
      "cell_type": "code",
      "source": [
        "Model_iris.compile(loss = 'categorical_crossentropy',\n",
        "                   optimizer = 'adam',\n",
        "                   metrics = ['accuracy'])"
      ],
      "metadata": {
        "id": "DoExlcmsxqiB"
      },
      "execution_count": 22,
      "outputs": []
    },
    {
      "cell_type": "code",
      "source": [
        "History_iris = Model_iris.fit(X_train, y_train,\n",
        "                              epochs = 250,\n",
        "                              batch_size = 7,\n",
        "                              validation_data = (X_test, y_test))"
      ],
      "metadata": {
        "colab": {
          "base_uri": "https://localhost:8080/"
        },
        "id": "qe5k45isx1CN",
        "outputId": "481028af-1e53-47a2-be6b-a5743b383720"
      },
      "execution_count": 23,
      "outputs": [
        {
          "output_type": "stream",
          "name": "stdout",
          "text": [
            "Epoch 1/250\n",
            "15/15 [==============================] - 1s 21ms/step - loss: 1.4645 - accuracy: 0.3429 - val_loss: 1.3364 - val_accuracy: 0.3111\n",
            "Epoch 2/250\n",
            "15/15 [==============================] - 0s 4ms/step - loss: 1.2331 - accuracy: 0.3429 - val_loss: 1.1830 - val_accuracy: 0.3111\n",
            "Epoch 3/250\n",
            "15/15 [==============================] - 0s 4ms/step - loss: 1.1095 - accuracy: 0.3429 - val_loss: 1.1032 - val_accuracy: 0.3111\n",
            "Epoch 4/250\n",
            "15/15 [==============================] - 0s 4ms/step - loss: 1.0700 - accuracy: 0.2952 - val_loss: 1.0772 - val_accuracy: 0.3111\n",
            "Epoch 5/250\n",
            "15/15 [==============================] - 0s 5ms/step - loss: 1.0485 - accuracy: 0.3333 - val_loss: 1.0625 - val_accuracy: 0.3111\n",
            "Epoch 6/250\n",
            "15/15 [==============================] - 0s 5ms/step - loss: 1.0335 - accuracy: 0.3238 - val_loss: 1.0482 - val_accuracy: 0.3111\n",
            "Epoch 7/250\n",
            "15/15 [==============================] - 0s 4ms/step - loss: 1.0179 - accuracy: 0.3619 - val_loss: 1.0310 - val_accuracy: 0.3333\n",
            "Epoch 8/250\n",
            "15/15 [==============================] - 0s 5ms/step - loss: 1.0017 - accuracy: 0.4000 - val_loss: 1.0147 - val_accuracy: 0.3556\n",
            "Epoch 9/250\n",
            "15/15 [==============================] - 0s 5ms/step - loss: 0.9905 - accuracy: 0.3619 - val_loss: 0.9935 - val_accuracy: 0.4667\n",
            "Epoch 10/250\n",
            "15/15 [==============================] - 0s 5ms/step - loss: 0.9612 - accuracy: 0.6286 - val_loss: 0.9581 - val_accuracy: 0.7111\n",
            "Epoch 11/250\n",
            "15/15 [==============================] - 0s 4ms/step - loss: 0.9258 - accuracy: 0.7714 - val_loss: 0.9000 - val_accuracy: 0.8222\n",
            "Epoch 12/250\n",
            "15/15 [==============================] - 0s 5ms/step - loss: 0.8718 - accuracy: 0.8190 - val_loss: 0.8375 - val_accuracy: 0.8667\n",
            "Epoch 13/250\n",
            "15/15 [==============================] - 0s 4ms/step - loss: 0.8229 - accuracy: 0.8571 - val_loss: 0.7977 - val_accuracy: 0.8667\n",
            "Epoch 14/250\n",
            "15/15 [==============================] - 0s 5ms/step - loss: 0.7857 - accuracy: 0.8286 - val_loss: 0.7576 - val_accuracy: 0.8667\n",
            "Epoch 15/250\n",
            "15/15 [==============================] - 0s 5ms/step - loss: 0.7507 - accuracy: 0.8476 - val_loss: 0.7184 - val_accuracy: 0.8889\n",
            "Epoch 16/250\n",
            "15/15 [==============================] - 0s 4ms/step - loss: 0.7193 - accuracy: 0.8857 - val_loss: 0.6856 - val_accuracy: 0.8889\n",
            "Epoch 17/250\n",
            "15/15 [==============================] - 0s 5ms/step - loss: 0.6847 - accuracy: 0.9143 - val_loss: 0.6532 - val_accuracy: 0.8889\n",
            "Epoch 18/250\n",
            "15/15 [==============================] - 0s 5ms/step - loss: 0.6580 - accuracy: 0.8762 - val_loss: 0.6236 - val_accuracy: 0.8889\n",
            "Epoch 19/250\n",
            "15/15 [==============================] - 0s 5ms/step - loss: 0.6322 - accuracy: 0.8476 - val_loss: 0.5955 - val_accuracy: 0.8889\n",
            "Epoch 20/250\n",
            "15/15 [==============================] - 0s 4ms/step - loss: 0.6049 - accuracy: 0.8762 - val_loss: 0.5696 - val_accuracy: 0.8889\n",
            "Epoch 21/250\n",
            "15/15 [==============================] - 0s 4ms/step - loss: 0.5833 - accuracy: 0.9238 - val_loss: 0.5477 - val_accuracy: 0.9333\n",
            "Epoch 22/250\n",
            "15/15 [==============================] - 0s 5ms/step - loss: 0.5606 - accuracy: 0.9238 - val_loss: 0.5259 - val_accuracy: 0.8889\n",
            "Epoch 23/250\n",
            "15/15 [==============================] - 0s 7ms/step - loss: 0.5395 - accuracy: 0.9333 - val_loss: 0.5058 - val_accuracy: 0.9333\n",
            "Epoch 24/250\n",
            "15/15 [==============================] - 0s 6ms/step - loss: 0.5232 - accuracy: 0.9333 - val_loss: 0.4882 - val_accuracy: 0.9556\n",
            "Epoch 25/250\n",
            "15/15 [==============================] - 0s 6ms/step - loss: 0.5028 - accuracy: 0.9333 - val_loss: 0.4701 - val_accuracy: 0.9333\n",
            "Epoch 26/250\n",
            "15/15 [==============================] - 0s 7ms/step - loss: 0.4924 - accuracy: 0.9333 - val_loss: 0.4529 - val_accuracy: 0.9778\n",
            "Epoch 27/250\n",
            "15/15 [==============================] - 0s 15ms/step - loss: 0.4712 - accuracy: 0.9143 - val_loss: 0.4421 - val_accuracy: 0.8889\n",
            "Epoch 28/250\n",
            "15/15 [==============================] - 0s 17ms/step - loss: 0.4576 - accuracy: 0.9333 - val_loss: 0.4222 - val_accuracy: 0.9333\n",
            "Epoch 29/250\n",
            "15/15 [==============================] - 0s 15ms/step - loss: 0.4477 - accuracy: 0.9333 - val_loss: 0.4100 - val_accuracy: 0.9778\n",
            "Epoch 30/250\n",
            "15/15 [==============================] - 0s 9ms/step - loss: 0.4321 - accuracy: 0.9429 - val_loss: 0.3973 - val_accuracy: 0.9333\n",
            "Epoch 31/250\n",
            "15/15 [==============================] - 0s 6ms/step - loss: 0.4160 - accuracy: 0.9333 - val_loss: 0.3814 - val_accuracy: 0.9778\n",
            "Epoch 32/250\n",
            "15/15 [==============================] - 0s 6ms/step - loss: 0.4049 - accuracy: 0.9333 - val_loss: 0.3693 - val_accuracy: 0.9778\n",
            "Epoch 33/250\n",
            "15/15 [==============================] - 0s 11ms/step - loss: 0.3922 - accuracy: 0.9333 - val_loss: 0.3574 - val_accuracy: 0.9778\n",
            "Epoch 34/250\n",
            "15/15 [==============================] - 0s 6ms/step - loss: 0.3831 - accuracy: 0.9333 - val_loss: 0.3506 - val_accuracy: 0.9333\n",
            "Epoch 35/250\n",
            "15/15 [==============================] - 0s 5ms/step - loss: 0.3691 - accuracy: 0.9238 - val_loss: 0.3328 - val_accuracy: 0.9778\n",
            "Epoch 36/250\n",
            "15/15 [==============================] - 0s 6ms/step - loss: 0.3631 - accuracy: 0.9333 - val_loss: 0.3248 - val_accuracy: 0.9778\n",
            "Epoch 37/250\n",
            "15/15 [==============================] - 0s 5ms/step - loss: 0.3484 - accuracy: 0.9333 - val_loss: 0.3114 - val_accuracy: 0.9778\n",
            "Epoch 38/250\n",
            "15/15 [==============================] - 0s 5ms/step - loss: 0.3390 - accuracy: 0.9524 - val_loss: 0.3031 - val_accuracy: 0.9778\n",
            "Epoch 39/250\n",
            "15/15 [==============================] - 0s 6ms/step - loss: 0.3281 - accuracy: 0.9333 - val_loss: 0.2921 - val_accuracy: 0.9778\n",
            "Epoch 40/250\n",
            "15/15 [==============================] - 0s 6ms/step - loss: 0.3183 - accuracy: 0.9429 - val_loss: 0.2822 - val_accuracy: 0.9778\n",
            "Epoch 41/250\n",
            "15/15 [==============================] - 0s 6ms/step - loss: 0.3143 - accuracy: 0.9429 - val_loss: 0.2717 - val_accuracy: 0.9778\n",
            "Epoch 42/250\n",
            "15/15 [==============================] - 0s 6ms/step - loss: 0.2983 - accuracy: 0.9524 - val_loss: 0.2719 - val_accuracy: 0.9778\n",
            "Epoch 43/250\n",
            "15/15 [==============================] - 0s 7ms/step - loss: 0.2960 - accuracy: 0.9429 - val_loss: 0.2545 - val_accuracy: 0.9778\n",
            "Epoch 44/250\n",
            "15/15 [==============================] - 0s 7ms/step - loss: 0.2829 - accuracy: 0.9619 - val_loss: 0.2459 - val_accuracy: 0.9778\n",
            "Epoch 45/250\n",
            "15/15 [==============================] - 0s 6ms/step - loss: 0.2799 - accuracy: 0.9429 - val_loss: 0.2387 - val_accuracy: 0.9778\n",
            "Epoch 46/250\n",
            "15/15 [==============================] - 0s 6ms/step - loss: 0.2771 - accuracy: 0.9429 - val_loss: 0.2362 - val_accuracy: 0.9778\n",
            "Epoch 47/250\n",
            "15/15 [==============================] - 0s 4ms/step - loss: 0.2679 - accuracy: 0.9333 - val_loss: 0.2240 - val_accuracy: 0.9778\n",
            "Epoch 48/250\n",
            "15/15 [==============================] - 0s 4ms/step - loss: 0.2551 - accuracy: 0.9524 - val_loss: 0.2227 - val_accuracy: 0.9778\n",
            "Epoch 49/250\n",
            "15/15 [==============================] - 0s 5ms/step - loss: 0.2524 - accuracy: 0.9619 - val_loss: 0.2099 - val_accuracy: 0.9778\n",
            "Epoch 50/250\n",
            "15/15 [==============================] - 0s 5ms/step - loss: 0.2443 - accuracy: 0.9429 - val_loss: 0.2055 - val_accuracy: 0.9778\n",
            "Epoch 51/250\n",
            "15/15 [==============================] - 0s 5ms/step - loss: 0.2410 - accuracy: 0.9524 - val_loss: 0.1976 - val_accuracy: 0.9778\n",
            "Epoch 52/250\n",
            "15/15 [==============================] - 0s 4ms/step - loss: 0.2309 - accuracy: 0.9619 - val_loss: 0.1911 - val_accuracy: 0.9778\n",
            "Epoch 53/250\n",
            "15/15 [==============================] - 0s 5ms/step - loss: 0.2256 - accuracy: 0.9619 - val_loss: 0.1852 - val_accuracy: 0.9778\n",
            "Epoch 54/250\n",
            "15/15 [==============================] - 0s 4ms/step - loss: 0.2202 - accuracy: 0.9619 - val_loss: 0.1805 - val_accuracy: 0.9778\n",
            "Epoch 55/250\n",
            "15/15 [==============================] - 0s 5ms/step - loss: 0.2183 - accuracy: 0.9619 - val_loss: 0.1747 - val_accuracy: 0.9778\n",
            "Epoch 56/250\n",
            "15/15 [==============================] - 0s 5ms/step - loss: 0.2119 - accuracy: 0.9524 - val_loss: 0.1691 - val_accuracy: 0.9778\n",
            "Epoch 57/250\n",
            "15/15 [==============================] - 0s 5ms/step - loss: 0.2070 - accuracy: 0.9429 - val_loss: 0.1694 - val_accuracy: 0.9778\n",
            "Epoch 58/250\n",
            "15/15 [==============================] - 0s 5ms/step - loss: 0.2084 - accuracy: 0.9619 - val_loss: 0.1600 - val_accuracy: 0.9778\n",
            "Epoch 59/250\n",
            "15/15 [==============================] - 0s 5ms/step - loss: 0.1978 - accuracy: 0.9619 - val_loss: 0.1589 - val_accuracy: 0.9778\n",
            "Epoch 60/250\n",
            "15/15 [==============================] - 0s 4ms/step - loss: 0.1974 - accuracy: 0.9619 - val_loss: 0.1511 - val_accuracy: 0.9778\n",
            "Epoch 61/250\n",
            "15/15 [==============================] - 0s 4ms/step - loss: 0.1927 - accuracy: 0.9714 - val_loss: 0.1481 - val_accuracy: 0.9778\n",
            "Epoch 62/250\n",
            "15/15 [==============================] - 0s 4ms/step - loss: 0.1875 - accuracy: 0.9619 - val_loss: 0.1441 - val_accuracy: 0.9778\n",
            "Epoch 63/250\n",
            "15/15 [==============================] - 0s 5ms/step - loss: 0.1875 - accuracy: 0.9524 - val_loss: 0.1398 - val_accuracy: 0.9778\n",
            "Epoch 64/250\n",
            "15/15 [==============================] - 0s 4ms/step - loss: 0.1899 - accuracy: 0.9524 - val_loss: 0.1419 - val_accuracy: 0.9778\n",
            "Epoch 65/250\n",
            "15/15 [==============================] - 0s 5ms/step - loss: 0.1916 - accuracy: 0.9429 - val_loss: 0.1328 - val_accuracy: 0.9778\n",
            "Epoch 66/250\n",
            "15/15 [==============================] - 0s 5ms/step - loss: 0.1727 - accuracy: 0.9714 - val_loss: 0.1365 - val_accuracy: 0.9778\n",
            "Epoch 67/250\n",
            "15/15 [==============================] - 0s 5ms/step - loss: 0.1767 - accuracy: 0.9714 - val_loss: 0.1269 - val_accuracy: 0.9778\n",
            "Epoch 68/250\n",
            "15/15 [==============================] - 0s 5ms/step - loss: 0.1822 - accuracy: 0.9524 - val_loss: 0.1343 - val_accuracy: 0.9778\n",
            "Epoch 69/250\n",
            "15/15 [==============================] - 0s 5ms/step - loss: 0.1740 - accuracy: 0.9619 - val_loss: 0.1208 - val_accuracy: 0.9778\n",
            "Epoch 70/250\n",
            "15/15 [==============================] - 0s 5ms/step - loss: 0.1632 - accuracy: 0.9619 - val_loss: 0.1188 - val_accuracy: 0.9778\n",
            "Epoch 71/250\n",
            "15/15 [==============================] - 0s 5ms/step - loss: 0.1640 - accuracy: 0.9714 - val_loss: 0.1162 - val_accuracy: 0.9778\n",
            "Epoch 72/250\n",
            "15/15 [==============================] - 0s 5ms/step - loss: 0.1680 - accuracy: 0.9524 - val_loss: 0.1135 - val_accuracy: 0.9778\n",
            "Epoch 73/250\n",
            "15/15 [==============================] - 0s 6ms/step - loss: 0.1559 - accuracy: 0.9714 - val_loss: 0.1142 - val_accuracy: 0.9778\n",
            "Epoch 74/250\n",
            "15/15 [==============================] - 0s 4ms/step - loss: 0.1561 - accuracy: 0.9714 - val_loss: 0.1090 - val_accuracy: 0.9778\n",
            "Epoch 75/250\n",
            "15/15 [==============================] - 0s 4ms/step - loss: 0.1572 - accuracy: 0.9619 - val_loss: 0.1066 - val_accuracy: 0.9778\n",
            "Epoch 76/250\n",
            "15/15 [==============================] - 0s 4ms/step - loss: 0.1625 - accuracy: 0.9429 - val_loss: 0.1053 - val_accuracy: 0.9778\n",
            "Epoch 77/250\n",
            "15/15 [==============================] - 0s 5ms/step - loss: 0.1570 - accuracy: 0.9619 - val_loss: 0.1069 - val_accuracy: 0.9778\n",
            "Epoch 78/250\n",
            "15/15 [==============================] - 0s 5ms/step - loss: 0.1542 - accuracy: 0.9619 - val_loss: 0.1008 - val_accuracy: 1.0000\n",
            "Epoch 79/250\n",
            "15/15 [==============================] - 0s 6ms/step - loss: 0.1447 - accuracy: 0.9714 - val_loss: 0.1005 - val_accuracy: 0.9778\n",
            "Epoch 80/250\n",
            "15/15 [==============================] - 0s 5ms/step - loss: 0.1528 - accuracy: 0.9429 - val_loss: 0.0973 - val_accuracy: 0.9778\n",
            "Epoch 81/250\n",
            "15/15 [==============================] - 0s 4ms/step - loss: 0.1476 - accuracy: 0.9714 - val_loss: 0.1019 - val_accuracy: 0.9778\n",
            "Epoch 82/250\n",
            "15/15 [==============================] - 0s 5ms/step - loss: 0.1421 - accuracy: 0.9810 - val_loss: 0.0929 - val_accuracy: 1.0000\n",
            "Epoch 83/250\n",
            "15/15 [==============================] - 0s 4ms/step - loss: 0.1393 - accuracy: 0.9714 - val_loss: 0.0928 - val_accuracy: 0.9778\n",
            "Epoch 84/250\n",
            "15/15 [==============================] - 0s 4ms/step - loss: 0.1384 - accuracy: 0.9714 - val_loss: 0.0923 - val_accuracy: 0.9778\n",
            "Epoch 85/250\n",
            "15/15 [==============================] - 0s 5ms/step - loss: 0.1442 - accuracy: 0.9619 - val_loss: 0.0884 - val_accuracy: 1.0000\n",
            "Epoch 86/250\n",
            "15/15 [==============================] - 0s 4ms/step - loss: 0.1341 - accuracy: 0.9714 - val_loss: 0.0874 - val_accuracy: 0.9778\n",
            "Epoch 87/250\n",
            "15/15 [==============================] - 0s 4ms/step - loss: 0.1344 - accuracy: 0.9619 - val_loss: 0.0856 - val_accuracy: 0.9778\n",
            "Epoch 88/250\n",
            "15/15 [==============================] - 0s 5ms/step - loss: 0.1372 - accuracy: 0.9714 - val_loss: 0.0845 - val_accuracy: 0.9778\n",
            "Epoch 89/250\n",
            "15/15 [==============================] - 0s 4ms/step - loss: 0.1330 - accuracy: 0.9714 - val_loss: 0.0849 - val_accuracy: 0.9778\n",
            "Epoch 90/250\n",
            "15/15 [==============================] - 0s 5ms/step - loss: 0.1364 - accuracy: 0.9619 - val_loss: 0.0815 - val_accuracy: 0.9778\n",
            "Epoch 91/250\n",
            "15/15 [==============================] - 0s 4ms/step - loss: 0.1282 - accuracy: 0.9714 - val_loss: 0.0805 - val_accuracy: 1.0000\n",
            "Epoch 92/250\n",
            "15/15 [==============================] - 0s 4ms/step - loss: 0.1282 - accuracy: 0.9714 - val_loss: 0.0789 - val_accuracy: 1.0000\n",
            "Epoch 93/250\n",
            "15/15 [==============================] - 0s 4ms/step - loss: 0.1256 - accuracy: 0.9714 - val_loss: 0.0779 - val_accuracy: 1.0000\n",
            "Epoch 94/250\n",
            "15/15 [==============================] - 0s 5ms/step - loss: 0.1228 - accuracy: 0.9714 - val_loss: 0.0782 - val_accuracy: 0.9778\n",
            "Epoch 95/250\n",
            "15/15 [==============================] - 0s 5ms/step - loss: 0.1250 - accuracy: 0.9714 - val_loss: 0.0757 - val_accuracy: 1.0000\n",
            "Epoch 96/250\n",
            "15/15 [==============================] - 0s 5ms/step - loss: 0.1304 - accuracy: 0.9714 - val_loss: 0.0760 - val_accuracy: 0.9778\n",
            "Epoch 97/250\n",
            "15/15 [==============================] - 0s 5ms/step - loss: 0.1237 - accuracy: 0.9619 - val_loss: 0.0740 - val_accuracy: 1.0000\n",
            "Epoch 98/250\n",
            "15/15 [==============================] - 0s 5ms/step - loss: 0.1237 - accuracy: 0.9714 - val_loss: 0.0758 - val_accuracy: 0.9778\n",
            "Epoch 99/250\n",
            "15/15 [==============================] - 0s 5ms/step - loss: 0.1190 - accuracy: 0.9714 - val_loss: 0.0715 - val_accuracy: 1.0000\n",
            "Epoch 100/250\n",
            "15/15 [==============================] - 0s 5ms/step - loss: 0.1209 - accuracy: 0.9714 - val_loss: 0.0705 - val_accuracy: 1.0000\n",
            "Epoch 101/250\n",
            "15/15 [==============================] - 0s 4ms/step - loss: 0.1173 - accuracy: 0.9714 - val_loss: 0.0698 - val_accuracy: 1.0000\n",
            "Epoch 102/250\n",
            "15/15 [==============================] - 0s 5ms/step - loss: 0.1179 - accuracy: 0.9714 - val_loss: 0.0685 - val_accuracy: 1.0000\n",
            "Epoch 103/250\n",
            "15/15 [==============================] - 0s 5ms/step - loss: 0.1160 - accuracy: 0.9810 - val_loss: 0.0678 - val_accuracy: 1.0000\n",
            "Epoch 104/250\n",
            "15/15 [==============================] - 0s 4ms/step - loss: 0.1200 - accuracy: 0.9714 - val_loss: 0.0675 - val_accuracy: 0.9778\n",
            "Epoch 105/250\n",
            "15/15 [==============================] - 0s 4ms/step - loss: 0.1187 - accuracy: 0.9810 - val_loss: 0.0662 - val_accuracy: 1.0000\n",
            "Epoch 106/250\n",
            "15/15 [==============================] - 0s 5ms/step - loss: 0.1156 - accuracy: 0.9714 - val_loss: 0.0699 - val_accuracy: 0.9778\n",
            "Epoch 107/250\n",
            "15/15 [==============================] - 0s 5ms/step - loss: 0.1119 - accuracy: 0.9714 - val_loss: 0.0641 - val_accuracy: 1.0000\n",
            "Epoch 108/250\n",
            "15/15 [==============================] - 0s 5ms/step - loss: 0.1124 - accuracy: 0.9810 - val_loss: 0.0635 - val_accuracy: 1.0000\n",
            "Epoch 109/250\n",
            "15/15 [==============================] - 0s 5ms/step - loss: 0.1113 - accuracy: 0.9714 - val_loss: 0.0627 - val_accuracy: 1.0000\n",
            "Epoch 110/250\n",
            "15/15 [==============================] - 0s 5ms/step - loss: 0.1149 - accuracy: 0.9714 - val_loss: 0.0651 - val_accuracy: 0.9778\n",
            "Epoch 111/250\n",
            "15/15 [==============================] - 0s 6ms/step - loss: 0.1147 - accuracy: 0.9714 - val_loss: 0.0618 - val_accuracy: 1.0000\n",
            "Epoch 112/250\n",
            "15/15 [==============================] - 0s 4ms/step - loss: 0.1182 - accuracy: 0.9714 - val_loss: 0.0617 - val_accuracy: 0.9778\n",
            "Epoch 113/250\n",
            "15/15 [==============================] - 0s 4ms/step - loss: 0.1101 - accuracy: 0.9810 - val_loss: 0.0604 - val_accuracy: 1.0000\n",
            "Epoch 114/250\n",
            "15/15 [==============================] - 0s 5ms/step - loss: 0.1069 - accuracy: 0.9714 - val_loss: 0.0597 - val_accuracy: 1.0000\n",
            "Epoch 115/250\n",
            "15/15 [==============================] - 0s 4ms/step - loss: 0.1190 - accuracy: 0.9714 - val_loss: 0.0586 - val_accuracy: 1.0000\n",
            "Epoch 116/250\n",
            "15/15 [==============================] - 0s 5ms/step - loss: 0.1055 - accuracy: 0.9810 - val_loss: 0.0583 - val_accuracy: 1.0000\n",
            "Epoch 117/250\n",
            "15/15 [==============================] - 0s 4ms/step - loss: 0.1066 - accuracy: 0.9810 - val_loss: 0.0571 - val_accuracy: 1.0000\n",
            "Epoch 118/250\n",
            "15/15 [==============================] - 0s 4ms/step - loss: 0.1052 - accuracy: 0.9810 - val_loss: 0.0565 - val_accuracy: 1.0000\n",
            "Epoch 119/250\n",
            "15/15 [==============================] - 0s 4ms/step - loss: 0.1065 - accuracy: 0.9810 - val_loss: 0.0559 - val_accuracy: 1.0000\n",
            "Epoch 120/250\n",
            "15/15 [==============================] - 0s 5ms/step - loss: 0.1101 - accuracy: 0.9714 - val_loss: 0.0569 - val_accuracy: 0.9778\n",
            "Epoch 121/250\n",
            "15/15 [==============================] - 0s 4ms/step - loss: 0.1083 - accuracy: 0.9714 - val_loss: 0.0552 - val_accuracy: 1.0000\n",
            "Epoch 122/250\n",
            "15/15 [==============================] - 0s 4ms/step - loss: 0.1029 - accuracy: 0.9714 - val_loss: 0.0548 - val_accuracy: 1.0000\n",
            "Epoch 123/250\n",
            "15/15 [==============================] - 0s 5ms/step - loss: 0.1043 - accuracy: 0.9714 - val_loss: 0.0551 - val_accuracy: 0.9778\n",
            "Epoch 124/250\n",
            "15/15 [==============================] - 0s 5ms/step - loss: 0.1001 - accuracy: 0.9714 - val_loss: 0.0530 - val_accuracy: 1.0000\n",
            "Epoch 125/250\n",
            "15/15 [==============================] - 0s 5ms/step - loss: 0.1031 - accuracy: 0.9810 - val_loss: 0.0528 - val_accuracy: 1.0000\n",
            "Epoch 126/250\n",
            "15/15 [==============================] - 0s 5ms/step - loss: 0.1079 - accuracy: 0.9714 - val_loss: 0.0552 - val_accuracy: 0.9778\n",
            "Epoch 127/250\n",
            "15/15 [==============================] - 0s 4ms/step - loss: 0.0996 - accuracy: 0.9810 - val_loss: 0.0517 - val_accuracy: 1.0000\n",
            "Epoch 128/250\n",
            "15/15 [==============================] - 0s 5ms/step - loss: 0.1144 - accuracy: 0.9524 - val_loss: 0.0512 - val_accuracy: 1.0000\n",
            "Epoch 129/250\n",
            "15/15 [==============================] - 0s 9ms/step - loss: 0.1047 - accuracy: 0.9714 - val_loss: 0.0543 - val_accuracy: 0.9778\n",
            "Epoch 130/250\n",
            "15/15 [==============================] - 0s 18ms/step - loss: 0.1011 - accuracy: 0.9714 - val_loss: 0.0511 - val_accuracy: 1.0000\n",
            "Epoch 131/250\n",
            "15/15 [==============================] - 0s 19ms/step - loss: 0.1032 - accuracy: 0.9810 - val_loss: 0.0502 - val_accuracy: 1.0000\n",
            "Epoch 132/250\n",
            "15/15 [==============================] - 0s 17ms/step - loss: 0.1048 - accuracy: 0.9714 - val_loss: 0.0505 - val_accuracy: 1.0000\n",
            "Epoch 133/250\n",
            "15/15 [==============================] - 0s 19ms/step - loss: 0.0994 - accuracy: 0.9810 - val_loss: 0.0499 - val_accuracy: 1.0000\n",
            "Epoch 134/250\n",
            "15/15 [==============================] - 0s 17ms/step - loss: 0.0992 - accuracy: 0.9619 - val_loss: 0.0492 - val_accuracy: 1.0000\n",
            "Epoch 135/250\n",
            "15/15 [==============================] - 0s 7ms/step - loss: 0.1006 - accuracy: 0.9714 - val_loss: 0.0482 - val_accuracy: 1.0000\n",
            "Epoch 136/250\n",
            "15/15 [==============================] - 0s 14ms/step - loss: 0.0974 - accuracy: 0.9714 - val_loss: 0.0481 - val_accuracy: 1.0000\n",
            "Epoch 137/250\n",
            "15/15 [==============================] - 0s 10ms/step - loss: 0.1025 - accuracy: 0.9714 - val_loss: 0.0483 - val_accuracy: 1.0000\n",
            "Epoch 138/250\n",
            "15/15 [==============================] - 0s 5ms/step - loss: 0.1037 - accuracy: 0.9714 - val_loss: 0.0471 - val_accuracy: 1.0000\n",
            "Epoch 139/250\n",
            "15/15 [==============================] - 0s 4ms/step - loss: 0.0947 - accuracy: 0.9810 - val_loss: 0.0470 - val_accuracy: 1.0000\n",
            "Epoch 140/250\n",
            "15/15 [==============================] - 0s 5ms/step - loss: 0.0961 - accuracy: 0.9714 - val_loss: 0.0462 - val_accuracy: 1.0000\n",
            "Epoch 141/250\n",
            "15/15 [==============================] - 0s 5ms/step - loss: 0.0960 - accuracy: 0.9714 - val_loss: 0.0461 - val_accuracy: 1.0000\n",
            "Epoch 142/250\n",
            "15/15 [==============================] - 0s 4ms/step - loss: 0.0959 - accuracy: 0.9810 - val_loss: 0.0457 - val_accuracy: 1.0000\n",
            "Epoch 143/250\n",
            "15/15 [==============================] - 0s 5ms/step - loss: 0.0954 - accuracy: 0.9810 - val_loss: 0.0452 - val_accuracy: 1.0000\n",
            "Epoch 144/250\n",
            "15/15 [==============================] - 0s 5ms/step - loss: 0.0961 - accuracy: 0.9714 - val_loss: 0.0455 - val_accuracy: 1.0000\n",
            "Epoch 145/250\n",
            "15/15 [==============================] - 0s 5ms/step - loss: 0.0945 - accuracy: 0.9714 - val_loss: 0.0454 - val_accuracy: 1.0000\n",
            "Epoch 146/250\n",
            "15/15 [==============================] - 0s 5ms/step - loss: 0.0952 - accuracy: 0.9714 - val_loss: 0.0443 - val_accuracy: 1.0000\n",
            "Epoch 147/250\n",
            "15/15 [==============================] - 0s 5ms/step - loss: 0.0959 - accuracy: 0.9714 - val_loss: 0.0439 - val_accuracy: 1.0000\n",
            "Epoch 148/250\n",
            "15/15 [==============================] - 0s 4ms/step - loss: 0.0931 - accuracy: 0.9714 - val_loss: 0.0435 - val_accuracy: 1.0000\n",
            "Epoch 149/250\n",
            "15/15 [==============================] - 0s 5ms/step - loss: 0.0932 - accuracy: 0.9810 - val_loss: 0.0431 - val_accuracy: 1.0000\n",
            "Epoch 150/250\n",
            "15/15 [==============================] - 0s 5ms/step - loss: 0.0914 - accuracy: 0.9810 - val_loss: 0.0427 - val_accuracy: 1.0000\n",
            "Epoch 151/250\n",
            "15/15 [==============================] - 0s 4ms/step - loss: 0.0922 - accuracy: 0.9810 - val_loss: 0.0426 - val_accuracy: 1.0000\n",
            "Epoch 152/250\n",
            "15/15 [==============================] - 0s 5ms/step - loss: 0.0914 - accuracy: 0.9714 - val_loss: 0.0425 - val_accuracy: 1.0000\n",
            "Epoch 153/250\n",
            "15/15 [==============================] - 0s 5ms/step - loss: 0.0927 - accuracy: 0.9714 - val_loss: 0.0424 - val_accuracy: 1.0000\n",
            "Epoch 154/250\n",
            "15/15 [==============================] - 0s 5ms/step - loss: 0.0924 - accuracy: 0.9905 - val_loss: 0.0418 - val_accuracy: 1.0000\n",
            "Epoch 155/250\n",
            "15/15 [==============================] - 0s 4ms/step - loss: 0.0975 - accuracy: 0.9714 - val_loss: 0.0425 - val_accuracy: 1.0000\n",
            "Epoch 156/250\n",
            "15/15 [==============================] - 0s 4ms/step - loss: 0.0909 - accuracy: 0.9810 - val_loss: 0.0419 - val_accuracy: 1.0000\n",
            "Epoch 157/250\n",
            "15/15 [==============================] - 0s 4ms/step - loss: 0.0919 - accuracy: 0.9714 - val_loss: 0.0414 - val_accuracy: 1.0000\n",
            "Epoch 158/250\n",
            "15/15 [==============================] - 0s 4ms/step - loss: 0.0930 - accuracy: 0.9810 - val_loss: 0.0415 - val_accuracy: 1.0000\n",
            "Epoch 159/250\n",
            "15/15 [==============================] - 0s 8ms/step - loss: 0.0894 - accuracy: 0.9810 - val_loss: 0.0408 - val_accuracy: 1.0000\n",
            "Epoch 160/250\n",
            "15/15 [==============================] - 0s 10ms/step - loss: 0.0910 - accuracy: 0.9810 - val_loss: 0.0403 - val_accuracy: 1.0000\n",
            "Epoch 161/250\n",
            "15/15 [==============================] - 0s 8ms/step - loss: 0.0895 - accuracy: 0.9810 - val_loss: 0.0398 - val_accuracy: 1.0000\n",
            "Epoch 162/250\n",
            "15/15 [==============================] - 0s 6ms/step - loss: 0.0910 - accuracy: 0.9810 - val_loss: 0.0396 - val_accuracy: 1.0000\n",
            "Epoch 163/250\n",
            "15/15 [==============================] - 0s 6ms/step - loss: 0.0948 - accuracy: 0.9810 - val_loss: 0.0395 - val_accuracy: 1.0000\n",
            "Epoch 164/250\n",
            "15/15 [==============================] - 0s 8ms/step - loss: 0.1008 - accuracy: 0.9714 - val_loss: 0.0393 - val_accuracy: 1.0000\n",
            "Epoch 165/250\n",
            "15/15 [==============================] - 0s 6ms/step - loss: 0.0907 - accuracy: 0.9810 - val_loss: 0.0394 - val_accuracy: 1.0000\n",
            "Epoch 166/250\n",
            "15/15 [==============================] - 0s 6ms/step - loss: 0.0897 - accuracy: 0.9810 - val_loss: 0.0394 - val_accuracy: 1.0000\n",
            "Epoch 167/250\n",
            "15/15 [==============================] - 0s 6ms/step - loss: 0.0907 - accuracy: 0.9810 - val_loss: 0.0388 - val_accuracy: 1.0000\n",
            "Epoch 168/250\n",
            "15/15 [==============================] - 0s 7ms/step - loss: 0.0909 - accuracy: 0.9714 - val_loss: 0.0385 - val_accuracy: 1.0000\n",
            "Epoch 169/250\n",
            "15/15 [==============================] - 0s 6ms/step - loss: 0.1019 - accuracy: 0.9524 - val_loss: 0.0384 - val_accuracy: 1.0000\n",
            "Epoch 170/250\n",
            "15/15 [==============================] - 0s 6ms/step - loss: 0.0900 - accuracy: 0.9714 - val_loss: 0.0384 - val_accuracy: 1.0000\n",
            "Epoch 171/250\n",
            "15/15 [==============================] - 0s 6ms/step - loss: 0.0880 - accuracy: 0.9810 - val_loss: 0.0378 - val_accuracy: 1.0000\n",
            "Epoch 172/250\n",
            "15/15 [==============================] - 0s 7ms/step - loss: 0.0874 - accuracy: 0.9810 - val_loss: 0.0375 - val_accuracy: 1.0000\n",
            "Epoch 173/250\n",
            "15/15 [==============================] - 0s 6ms/step - loss: 0.0910 - accuracy: 0.9905 - val_loss: 0.0374 - val_accuracy: 1.0000\n",
            "Epoch 174/250\n",
            "15/15 [==============================] - 0s 6ms/step - loss: 0.0847 - accuracy: 0.9810 - val_loss: 0.0371 - val_accuracy: 1.0000\n",
            "Epoch 175/250\n",
            "15/15 [==============================] - 0s 7ms/step - loss: 0.0856 - accuracy: 0.9810 - val_loss: 0.0369 - val_accuracy: 1.0000\n",
            "Epoch 176/250\n",
            "15/15 [==============================] - 0s 6ms/step - loss: 0.0903 - accuracy: 0.9810 - val_loss: 0.0371 - val_accuracy: 1.0000\n",
            "Epoch 177/250\n",
            "15/15 [==============================] - 0s 6ms/step - loss: 0.0900 - accuracy: 0.9714 - val_loss: 0.0370 - val_accuracy: 1.0000\n",
            "Epoch 178/250\n",
            "15/15 [==============================] - 0s 6ms/step - loss: 0.0850 - accuracy: 0.9810 - val_loss: 0.0367 - val_accuracy: 1.0000\n",
            "Epoch 179/250\n",
            "15/15 [==============================] - 0s 7ms/step - loss: 0.0855 - accuracy: 0.9810 - val_loss: 0.0371 - val_accuracy: 1.0000\n",
            "Epoch 180/250\n",
            "15/15 [==============================] - 0s 6ms/step - loss: 0.0897 - accuracy: 0.9714 - val_loss: 0.0366 - val_accuracy: 1.0000\n",
            "Epoch 181/250\n",
            "15/15 [==============================] - 0s 6ms/step - loss: 0.0903 - accuracy: 0.9810 - val_loss: 0.0371 - val_accuracy: 1.0000\n",
            "Epoch 182/250\n",
            "15/15 [==============================] - 0s 7ms/step - loss: 0.0858 - accuracy: 0.9714 - val_loss: 0.0356 - val_accuracy: 1.0000\n",
            "Epoch 183/250\n",
            "15/15 [==============================] - 0s 6ms/step - loss: 0.0889 - accuracy: 0.9810 - val_loss: 0.0355 - val_accuracy: 1.0000\n",
            "Epoch 184/250\n",
            "15/15 [==============================] - 0s 6ms/step - loss: 0.0846 - accuracy: 0.9810 - val_loss: 0.0350 - val_accuracy: 1.0000\n",
            "Epoch 185/250\n",
            "15/15 [==============================] - 0s 15ms/step - loss: 0.0851 - accuracy: 0.9810 - val_loss: 0.0353 - val_accuracy: 1.0000\n",
            "Epoch 186/250\n",
            "15/15 [==============================] - 0s 24ms/step - loss: 0.0929 - accuracy: 0.9714 - val_loss: 0.0360 - val_accuracy: 1.0000\n",
            "Epoch 187/250\n",
            "15/15 [==============================] - 0s 11ms/step - loss: 0.0885 - accuracy: 0.9810 - val_loss: 0.0371 - val_accuracy: 1.0000\n",
            "Epoch 188/250\n",
            "15/15 [==============================] - 0s 10ms/step - loss: 0.0843 - accuracy: 0.9810 - val_loss: 0.0353 - val_accuracy: 1.0000\n",
            "Epoch 189/250\n",
            "15/15 [==============================] - 0s 10ms/step - loss: 0.0869 - accuracy: 0.9810 - val_loss: 0.0353 - val_accuracy: 1.0000\n",
            "Epoch 190/250\n",
            "15/15 [==============================] - 0s 10ms/step - loss: 0.0859 - accuracy: 0.9905 - val_loss: 0.0347 - val_accuracy: 1.0000\n",
            "Epoch 191/250\n",
            "15/15 [==============================] - 0s 9ms/step - loss: 0.0844 - accuracy: 0.9714 - val_loss: 0.0341 - val_accuracy: 1.0000\n",
            "Epoch 192/250\n",
            "15/15 [==============================] - 0s 10ms/step - loss: 0.0829 - accuracy: 0.9810 - val_loss: 0.0341 - val_accuracy: 1.0000\n",
            "Epoch 193/250\n",
            "15/15 [==============================] - 0s 7ms/step - loss: 0.0826 - accuracy: 0.9810 - val_loss: 0.0347 - val_accuracy: 1.0000\n",
            "Epoch 194/250\n",
            "15/15 [==============================] - 0s 7ms/step - loss: 0.0824 - accuracy: 0.9810 - val_loss: 0.0338 - val_accuracy: 1.0000\n",
            "Epoch 195/250\n",
            "15/15 [==============================] - 0s 12ms/step - loss: 0.0851 - accuracy: 0.9810 - val_loss: 0.0342 - val_accuracy: 1.0000\n",
            "Epoch 196/250\n",
            "15/15 [==============================] - 0s 8ms/step - loss: 0.0793 - accuracy: 0.9714 - val_loss: 0.0346 - val_accuracy: 1.0000\n",
            "Epoch 197/250\n",
            "15/15 [==============================] - 0s 12ms/step - loss: 0.0845 - accuracy: 0.9810 - val_loss: 0.0334 - val_accuracy: 1.0000\n",
            "Epoch 198/250\n",
            "15/15 [==============================] - 0s 7ms/step - loss: 0.0814 - accuracy: 0.9810 - val_loss: 0.0333 - val_accuracy: 1.0000\n",
            "Epoch 199/250\n",
            "15/15 [==============================] - 0s 5ms/step - loss: 0.0865 - accuracy: 0.9810 - val_loss: 0.0331 - val_accuracy: 1.0000\n",
            "Epoch 200/250\n",
            "15/15 [==============================] - 0s 4ms/step - loss: 0.0910 - accuracy: 0.9714 - val_loss: 0.0330 - val_accuracy: 1.0000\n",
            "Epoch 201/250\n",
            "15/15 [==============================] - 0s 5ms/step - loss: 0.0786 - accuracy: 0.9810 - val_loss: 0.0366 - val_accuracy: 0.9778\n",
            "Epoch 202/250\n",
            "15/15 [==============================] - 0s 7ms/step - loss: 0.0843 - accuracy: 0.9810 - val_loss: 0.0329 - val_accuracy: 1.0000\n",
            "Epoch 203/250\n",
            "15/15 [==============================] - 0s 12ms/step - loss: 0.0886 - accuracy: 0.9714 - val_loss: 0.0326 - val_accuracy: 1.0000\n",
            "Epoch 204/250\n",
            "15/15 [==============================] - 0s 5ms/step - loss: 0.0806 - accuracy: 0.9810 - val_loss: 0.0346 - val_accuracy: 1.0000\n",
            "Epoch 205/250\n",
            "15/15 [==============================] - 0s 5ms/step - loss: 0.0870 - accuracy: 0.9714 - val_loss: 0.0321 - val_accuracy: 1.0000\n",
            "Epoch 206/250\n",
            "15/15 [==============================] - 0s 4ms/step - loss: 0.0807 - accuracy: 0.9810 - val_loss: 0.0333 - val_accuracy: 1.0000\n",
            "Epoch 207/250\n",
            "15/15 [==============================] - 0s 5ms/step - loss: 0.0804 - accuracy: 0.9810 - val_loss: 0.0325 - val_accuracy: 1.0000\n",
            "Epoch 208/250\n",
            "15/15 [==============================] - 0s 6ms/step - loss: 0.0833 - accuracy: 0.9714 - val_loss: 0.0317 - val_accuracy: 1.0000\n",
            "Epoch 209/250\n",
            "15/15 [==============================] - 0s 6ms/step - loss: 0.0801 - accuracy: 0.9810 - val_loss: 0.0325 - val_accuracy: 1.0000\n",
            "Epoch 210/250\n",
            "15/15 [==============================] - 0s 5ms/step - loss: 0.0817 - accuracy: 0.9810 - val_loss: 0.0315 - val_accuracy: 1.0000\n",
            "Epoch 211/250\n",
            "15/15 [==============================] - 0s 6ms/step - loss: 0.0823 - accuracy: 0.9714 - val_loss: 0.0313 - val_accuracy: 1.0000\n",
            "Epoch 212/250\n",
            "15/15 [==============================] - 0s 8ms/step - loss: 0.0805 - accuracy: 0.9810 - val_loss: 0.0318 - val_accuracy: 1.0000\n",
            "Epoch 213/250\n",
            "15/15 [==============================] - 0s 5ms/step - loss: 0.0876 - accuracy: 0.9810 - val_loss: 0.0312 - val_accuracy: 1.0000\n",
            "Epoch 214/250\n",
            "15/15 [==============================] - 0s 5ms/step - loss: 0.0815 - accuracy: 0.9714 - val_loss: 0.0310 - val_accuracy: 1.0000\n",
            "Epoch 215/250\n",
            "15/15 [==============================] - 0s 5ms/step - loss: 0.0812 - accuracy: 0.9714 - val_loss: 0.0314 - val_accuracy: 1.0000\n",
            "Epoch 216/250\n",
            "15/15 [==============================] - 0s 9ms/step - loss: 0.0819 - accuracy: 0.9810 - val_loss: 0.0307 - val_accuracy: 1.0000\n",
            "Epoch 217/250\n",
            "15/15 [==============================] - 0s 4ms/step - loss: 0.0873 - accuracy: 0.9810 - val_loss: 0.0307 - val_accuracy: 1.0000\n",
            "Epoch 218/250\n",
            "15/15 [==============================] - 0s 4ms/step - loss: 0.0874 - accuracy: 0.9810 - val_loss: 0.0319 - val_accuracy: 1.0000\n",
            "Epoch 219/250\n",
            "15/15 [==============================] - 0s 7ms/step - loss: 0.0913 - accuracy: 0.9714 - val_loss: 0.0306 - val_accuracy: 1.0000\n",
            "Epoch 220/250\n",
            "15/15 [==============================] - 0s 15ms/step - loss: 0.0776 - accuracy: 0.9810 - val_loss: 0.0314 - val_accuracy: 1.0000\n",
            "Epoch 221/250\n",
            "15/15 [==============================] - 0s 12ms/step - loss: 0.0795 - accuracy: 0.9810 - val_loss: 0.0312 - val_accuracy: 1.0000\n",
            "Epoch 222/250\n",
            "15/15 [==============================] - 0s 5ms/step - loss: 0.0852 - accuracy: 0.9905 - val_loss: 0.0307 - val_accuracy: 1.0000\n",
            "Epoch 223/250\n",
            "15/15 [==============================] - 0s 5ms/step - loss: 0.0786 - accuracy: 0.9810 - val_loss: 0.0304 - val_accuracy: 1.0000\n",
            "Epoch 224/250\n",
            "15/15 [==============================] - 0s 5ms/step - loss: 0.0819 - accuracy: 0.9714 - val_loss: 0.0300 - val_accuracy: 1.0000\n",
            "Epoch 225/250\n",
            "15/15 [==============================] - 0s 6ms/step - loss: 0.0784 - accuracy: 0.9810 - val_loss: 0.0318 - val_accuracy: 1.0000\n",
            "Epoch 226/250\n",
            "15/15 [==============================] - 0s 9ms/step - loss: 0.0774 - accuracy: 0.9810 - val_loss: 0.0302 - val_accuracy: 1.0000\n",
            "Epoch 227/250\n",
            "15/15 [==============================] - 0s 8ms/step - loss: 0.0811 - accuracy: 0.9810 - val_loss: 0.0303 - val_accuracy: 1.0000\n",
            "Epoch 228/250\n",
            "15/15 [==============================] - 0s 5ms/step - loss: 0.0853 - accuracy: 0.9714 - val_loss: 0.0297 - val_accuracy: 1.0000\n",
            "Epoch 229/250\n",
            "15/15 [==============================] - 0s 8ms/step - loss: 0.0861 - accuracy: 0.9714 - val_loss: 0.0297 - val_accuracy: 1.0000\n",
            "Epoch 230/250\n",
            "15/15 [==============================] - 0s 7ms/step - loss: 0.1057 - accuracy: 0.9429 - val_loss: 0.0364 - val_accuracy: 0.9778\n",
            "Epoch 231/250\n",
            "15/15 [==============================] - 0s 7ms/step - loss: 0.0760 - accuracy: 0.9810 - val_loss: 0.0295 - val_accuracy: 1.0000\n",
            "Epoch 232/250\n",
            "15/15 [==============================] - 0s 7ms/step - loss: 0.0834 - accuracy: 0.9714 - val_loss: 0.0297 - val_accuracy: 1.0000\n",
            "Epoch 233/250\n",
            "15/15 [==============================] - 0s 14ms/step - loss: 0.0789 - accuracy: 0.9810 - val_loss: 0.0291 - val_accuracy: 1.0000\n",
            "Epoch 234/250\n",
            "15/15 [==============================] - 0s 7ms/step - loss: 0.0795 - accuracy: 0.9810 - val_loss: 0.0305 - val_accuracy: 1.0000\n",
            "Epoch 235/250\n",
            "15/15 [==============================] - 0s 6ms/step - loss: 0.0772 - accuracy: 0.9810 - val_loss: 0.0294 - val_accuracy: 1.0000\n",
            "Epoch 236/250\n",
            "15/15 [==============================] - 0s 5ms/step - loss: 0.0791 - accuracy: 0.9810 - val_loss: 0.0294 - val_accuracy: 1.0000\n",
            "Epoch 237/250\n",
            "15/15 [==============================] - 0s 5ms/step - loss: 0.0765 - accuracy: 0.9810 - val_loss: 0.0289 - val_accuracy: 1.0000\n",
            "Epoch 238/250\n",
            "15/15 [==============================] - 0s 10ms/step - loss: 0.0773 - accuracy: 0.9810 - val_loss: 0.0302 - val_accuracy: 1.0000\n",
            "Epoch 239/250\n",
            "15/15 [==============================] - 0s 7ms/step - loss: 0.0764 - accuracy: 0.9810 - val_loss: 0.0289 - val_accuracy: 1.0000\n",
            "Epoch 240/250\n",
            "15/15 [==============================] - 0s 4ms/step - loss: 0.0781 - accuracy: 0.9810 - val_loss: 0.0295 - val_accuracy: 1.0000\n",
            "Epoch 241/250\n",
            "15/15 [==============================] - 0s 5ms/step - loss: 0.0878 - accuracy: 0.9619 - val_loss: 0.0289 - val_accuracy: 1.0000\n",
            "Epoch 242/250\n",
            "15/15 [==============================] - 0s 5ms/step - loss: 0.0772 - accuracy: 0.9810 - val_loss: 0.0287 - val_accuracy: 1.0000\n",
            "Epoch 243/250\n",
            "15/15 [==============================] - 0s 7ms/step - loss: 0.0789 - accuracy: 0.9810 - val_loss: 0.0296 - val_accuracy: 1.0000\n",
            "Epoch 244/250\n",
            "15/15 [==============================] - 0s 4ms/step - loss: 0.0806 - accuracy: 0.9714 - val_loss: 0.0284 - val_accuracy: 1.0000\n",
            "Epoch 245/250\n",
            "15/15 [==============================] - 0s 5ms/step - loss: 0.0770 - accuracy: 0.9810 - val_loss: 0.0283 - val_accuracy: 1.0000\n",
            "Epoch 246/250\n",
            "15/15 [==============================] - 0s 5ms/step - loss: 0.0764 - accuracy: 0.9810 - val_loss: 0.0282 - val_accuracy: 1.0000\n",
            "Epoch 247/250\n",
            "15/15 [==============================] - 0s 12ms/step - loss: 0.0778 - accuracy: 0.9810 - val_loss: 0.0287 - val_accuracy: 1.0000\n",
            "Epoch 248/250\n",
            "15/15 [==============================] - 0s 12ms/step - loss: 0.0759 - accuracy: 0.9810 - val_loss: 0.0284 - val_accuracy: 1.0000\n",
            "Epoch 249/250\n",
            "15/15 [==============================] - 0s 10ms/step - loss: 0.0851 - accuracy: 0.9810 - val_loss: 0.0284 - val_accuracy: 1.0000\n",
            "Epoch 250/250\n",
            "15/15 [==============================] - 0s 7ms/step - loss: 0.0758 - accuracy: 0.9810 - val_loss: 0.0282 - val_accuracy: 1.0000\n"
          ]
        }
      ]
    },
    {
      "cell_type": "code",
      "source": [
        "import matplotlib.pyplot as plt\n",
        "\n",
        "plt.figure(figsize = (9,6))\n",
        "plt.ylim(0, 1.1)\n",
        "plt.plot(History_iris.history['loss'])\n",
        "plt.plot(History_iris.history['val_loss'])\n",
        "plt.plot(History_iris.history['accuracy'])\n",
        "plt.plot(History_iris.history['val_accuracy'])\n",
        "plt.legend(['loss','val_loss','accuracy','val_accuracy'])\n",
        "plt.grid()\n",
        "plt.show()"
      ],
      "metadata": {
        "colab": {
          "base_uri": "https://localhost:8080/",
          "height": 462
        },
        "id": "Ep87s-mVx_vp",
        "outputId": "1f7441b8-96ba-4eb0-8841-cc40bbaf2c18"
      },
      "execution_count": 25,
      "outputs": [
        {
          "output_type": "display_data",
          "data": {
            "text/plain": [
              "<Figure size 900x600 with 1 Axes>"
            ],
            "image/png": "[encoded data removed]"
          },
          "metadata": {}
        }
      ]
    },
    {
      "cell_type": "code",
      "source": [
        "loss, accuracy = Model_iris.evaluate(X_test, y_test, verbose = 0)\n",
        "print('Loss = {:.5f}'.format(loss))\n",
        "print('Accuracy = {:.5f}'.format(accuracy))"
      ],
      "metadata": {
        "colab": {
          "base_uri": "https://localhost:8080/"
        },
        "id": "v5MKzVxZyZAh",
        "outputId": "e9364a9d-942e-45a3-eb8b-214225b13edf"
      },
      "execution_count": 26,
      "outputs": [
        {
          "output_type": "stream",
          "name": "stdout",
          "text": [
            "Loss = 0.02818\n",
            "Accuracy = 1.00000\n"
          ]
        }
      ]
    },
    {
      "cell_type": "code",
      "source": [
        "import numpy as np\n",
        "np.set_printoptions(suppress = True, precision = 5)\n",
        "\n",
        "Model_iris.predict(X_test, verbose = 0)"
      ],
      "metadata": {
        "colab": {
          "base_uri": "https://localhost:8080/"
        },
        "id": "NixCdkgdyneE",
        "outputId": "3da32829-282f-4191-d292-22e05780a26a"
      },
      "execution_count": 27,
      "outputs": [
        {
          "output_type": "execute_result",
          "data": {
            "text/plain": [
              "array([[0.99735, 0.00265, 0.     ],\n",
              "       [0.99091, 0.00909, 0.     ],\n",
              "       [0.03267, 0.96732, 0.00001],\n",
              "       [0.     , 0.00275, 0.99725],\n",
              "       [0.99888, 0.00112, 0.     ],\n",
              "       [0.00477, 0.99508, 0.00015],\n",
              "       [0.     , 0.00617, 0.99383],\n",
              "       [0.99956, 0.00044, 0.     ],\n",
              "       [0.     , 0.00365, 0.99635],\n",
              "       [0.99691, 0.00309, 0.     ],\n",
              "       [0.00011, 0.59456, 0.40533],\n",
              "       [0.     , 0.00398, 0.99602],\n",
              "       [0.00034, 0.96789, 0.03178],\n",
              "       [0.9998 , 0.0002 , 0.     ],\n",
              "       [0.99881, 0.00119, 0.     ],\n",
              "       [0.00068, 0.97748, 0.02184],\n",
              "       [0.00019, 0.92195, 0.07786],\n",
              "       [0.99799, 0.00201, 0.     ],\n",
              "       [0.00055, 0.99842, 0.00103],\n",
              "       [0.99929, 0.00071, 0.     ],\n",
              "       [0.99716, 0.00284, 0.     ],\n",
              "       [0.99736, 0.00264, 0.     ],\n",
              "       [0.     , 0.00299, 0.99701],\n",
              "       [0.9982 , 0.0018 , 0.     ],\n",
              "       [0.     , 0.01971, 0.98029],\n",
              "       [0.     , 0.01048, 0.98952],\n",
              "       [0.99907, 0.00093, 0.     ],\n",
              "       [0.00019, 0.99391, 0.00589],\n",
              "       [0.00019, 0.99544, 0.00437],\n",
              "       [0.     , 0.0178 , 0.9822 ],\n",
              "       [0.99946, 0.00054, 0.     ],\n",
              "       [0.00032, 0.99602, 0.00366],\n",
              "       [0.99929, 0.00071, 0.     ],\n",
              "       [0.00001, 0.29766, 0.70233],\n",
              "       [0.00033, 0.97572, 0.02396],\n",
              "       [0.00301, 0.99662, 0.00037],\n",
              "       [0.     , 0.00181, 0.99819],\n",
              "       [0.00238, 0.99686, 0.00076],\n",
              "       [0.99823, 0.00177, 0.     ],\n",
              "       [0.00071, 0.99385, 0.00544],\n",
              "       [0.     , 0.00342, 0.99658],\n",
              "       [0.99494, 0.00506, 0.     ],\n",
              "       [0.     , 0.00673, 0.99327],\n",
              "       [0.     , 0.00724, 0.99276],\n",
              "       [0.     , 0.04157, 0.95843]], dtype=float32)"
            ]
          },
          "metadata": {},
          "execution_count": 27
        }
      ]
    },
    {
      "cell_type": "code",
      "source": [
        "y_hat = np.argmax(Model_iris.predict(X_test, verbose = 0), axis = 1)\n",
        "y_hat"
      ],
      "metadata": {
        "colab": {
          "base_uri": "https://localhost:8080/"
        },
        "id": "QsBD8YpGyvt3",
        "outputId": "d5091138-6bff-41fb-c3c1-59fe40fdc452"
      },
      "execution_count": 28,
      "outputs": [
        {
          "output_type": "execute_result",
          "data": {
            "text/plain": [
              "array([0, 0, 1, 2, 0, 1, 2, 0, 2, 0, 1, 2, 1, 0, 0, 1, 1, 0, 1, 0, 0, 0,\n",
              "       2, 0, 2, 2, 0, 1, 1, 2, 0, 1, 0, 2, 1, 1, 2, 1, 0, 1, 2, 0, 2, 2,\n",
              "       2])"
            ]
          },
          "metadata": {},
          "execution_count": 28
        }
      ]
    },
    {
      "cell_type": "code",
      "source": [
        "y = np.argmax(y_test, axis = 1)\n",
        "y"
      ],
      "metadata": {
        "colab": {
          "base_uri": "https://localhost:8080/"
        },
        "id": "SlaIxAa6y5Za",
        "outputId": "0d77a618-8586-4899-9d26-795b2cce259c"
      },
      "execution_count": 29,
      "outputs": [
        {
          "output_type": "execute_result",
          "data": {
            "text/plain": [
              "array([0, 0, 1, 2, 0, 1, 2, 0, 2, 0, 1, 2, 1, 0, 0, 1, 1, 0, 1, 0, 0, 0,\n",
              "       2, 0, 2, 2, 0, 1, 1, 2, 0, 1, 0, 2, 1, 1, 2, 1, 0, 1, 2, 0, 2, 2,\n",
              "       2])"
            ]
          },
          "metadata": {},
          "execution_count": 29
        }
      ]
    },
    {
      "cell_type": "code",
      "source": [
        "from sklearn.metrics import confusion_matrix, classification_report\n",
        "\n",
        "confusion_matrix(y, y_hat)"
      ],
      "metadata": {
        "colab": {
          "base_uri": "https://localhost:8080/"
        },
        "id": "Cm8-bRgJy86Q",
        "outputId": "abb251be-3202-4082-e7a8-bb1d6496226a"
      },
      "execution_count": 30,
      "outputs": [
        {
          "output_type": "execute_result",
          "data": {
            "text/plain": [
              "array([[17,  0,  0],\n",
              "       [ 0, 14,  0],\n",
              "       [ 0,  0, 14]])"
            ]
          },
          "metadata": {},
          "execution_count": 30
        }
      ]
    },
    {
      "cell_type": "code",
      "source": [
        "print(classification_report(y,y_hat,\n",
        "                            target_names = ['setosa','versicolor','virginica']))"
      ],
      "metadata": {
        "colab": {
          "base_uri": "https://localhost:8080/"
        },
        "id": "B55UbqWZzGKt",
        "outputId": "d8b3851d-b1cf-4f1b-f713-6c1032f671ea"
      },
      "execution_count": 31,
      "outputs": [
        {
          "output_type": "stream",
          "name": "stdout",
          "text": [
            "              precision    recall  f1-score   support\n",
            "\n",
            "      setosa       1.00      1.00      1.00        17\n",
            "  versicolor       1.00      1.00      1.00        14\n",
            "   virginica       1.00      1.00      1.00        14\n",
            "\n",
            "    accuracy                           1.00        45\n",
            "   macro avg       1.00      1.00      1.00        45\n",
            "weighted avg       1.00      1.00      1.00        45\n",
            "\n"
          ]
        }
      ]
    },
    {
      "cell_type": "markdown",
      "source": [
        "# Model Save & Load"
      ],
      "metadata": {
        "id": "-cxa5_PVzOfA"
      }
    },
    {
      "cell_type": "markdown",
      "source": [
        "## File System"
      ],
      "metadata": {
        "id": "zxGGXQgezptM"
      }
    },
    {
      "cell_type": "code",
      "source": [
        "!ls -l"
      ],
      "metadata": {
        "colab": {
          "base_uri": "https://localhost:8080/"
        },
        "id": "9c-e_PhFzNAE",
        "outputId": "1e8a910a-ddef-43b3-9e13-bd36a5ef80ef"
      },
      "execution_count": 32,
      "outputs": [
        {
          "output_type": "stream",
          "name": "stdout",
          "text": [
            "total 32\n",
            "-rw-r--r-- 1 root root 27143 Oct 10 04:09 model.png\n",
            "drwxr-xr-x 1 root root  4096 Oct  6 13:25 sample_data\n"
          ]
        }
      ]
    },
    {
      "cell_type": "code",
      "source": [
        "Model_iris.save('/content/Model_iris.h5')\n",
        "\n",
        "!ls -l"
      ],
      "metadata": {
        "colab": {
          "base_uri": "https://localhost:8080/"
        },
        "id": "VXHABAxOzRnG",
        "outputId": "6a883b91-bbdb-4942-e1a7-7c33c88ea6a9"
      },
      "execution_count": 33,
      "outputs": [
        {
          "output_type": "stream",
          "name": "stdout",
          "text": [
            "total 68\n",
            "-rw-r--r-- 1 root root 34240 Oct 10 04:16 Model_iris.h5\n",
            "-rw-r--r-- 1 root root 27143 Oct 10 04:09 model.png\n",
            "drwxr-xr-x 1 root root  4096 Oct  6 13:25 sample_data\n"
          ]
        }
      ]
    },
    {
      "cell_type": "code",
      "source": [
        "from google.colab import files\n",
        "files.download('/content/Model_iris.h5')"
      ],
      "metadata": {
        "colab": {
          "base_uri": "https://localhost:8080/",
          "height": 38
        },
        "id": "fbtzV7bMzWLm",
        "outputId": "4b5327a2-a96a-4e19-d0f7-aa5c785b8aa4"
      },
      "execution_count": 34,
      "outputs": [
        {
          "output_type": "display_data",
          "data": {
            "text/plain": [
              "<IPython.core.display.Javascript object>"
            ],
            "application/javascript": [
              "\n",
              "    async function download(id, filename, size) {\n",
              "      if (!google.colab.kernel.accessAllowed) {\n",
              "        return;\n",
              "      }\n",
              "      const div = document.createElement('div');\n",
              "      const label = document.createElement('label');\n",
              "      label.textContent = `Downloading \"${filename}\": `;\n",
              "      div.appendChild(label);\n",
              "      const progress = document.createElement('progress');\n",
              "      progress.max = size;\n",
              "      div.appendChild(progress);\n",
              "      document.body.appendChild(div);\n",
              "\n",
              "      const buffers = [];\n",
              "      let downloaded = 0;\n",
              "\n",
              "      const channel = await google.colab.kernel.comms.open(id);\n",
              "      // Send a message to notify the kernel that we're ready.\n",
              "      channel.send({})\n",
              "\n",
              "      for await (const message of channel.messages) {\n",
              "        // Send a message to notify the kernel that we're ready.\n",
              "        channel.send({})\n",
              "        if (message.buffers) {\n",
              "          for (const buffer of message.buffers) {\n",
              "            buffers.push(buffer);\n",
              "            downloaded += buffer.byteLength;\n",
              "            progress.value = downloaded;\n",
              "          }\n",
              "        }\n",
              "      }\n",
              "      const blob = new Blob(buffers, {type: 'application/binary'});\n",
              "      const a = document.createElement('a');\n",
              "      a.href = window.URL.createObjectURL(blob);\n",
              "      a.download = filename;\n",
              "      div.appendChild(a);\n",
              "      a.click();\n",
              "      div.remove();\n",
              "    }\n",
              "  "
            ]
          },
          "metadata": {}
        },
        {
          "output_type": "display_data",
          "data": {
            "text/plain": [
              "<IPython.core.display.Javascript object>"
            ],
            "application/javascript": [
              "download(\"download_efec4532-b665-4de0-803a-d496316f399c\", \"Model_iris.h5\", 34240)"
            ]
          },
          "metadata": {}
        }
      ]
    },
    {
      "cell_type": "code",
      "source": [
        "from tensorflow.keras.models import load_model\n",
        "\n",
        "Model_local = load_model('/content/Model_iris.h5')"
      ],
      "metadata": {
        "id": "fpDRT-j6zcHN"
      },
      "execution_count": 35,
      "outputs": []
    },
    {
      "cell_type": "code",
      "source": [
        "np.argmax(Model_local.predict(X_test, verbose = 0), axis = 1)"
      ],
      "metadata": {
        "colab": {
          "base_uri": "https://localhost:8080/"
        },
        "id": "yWfx0P6Mzjjt",
        "outputId": "c6c9aae7-e336-4529-cfb7-ee80bb6ba2ea"
      },
      "execution_count": 36,
      "outputs": [
        {
          "output_type": "execute_result",
          "data": {
            "text/plain": [
              "array([0, 0, 1, 2, 0, 1, 2, 0, 2, 0, 1, 2, 1, 0, 0, 1, 1, 0, 1, 0, 0, 0,\n",
              "       2, 0, 2, 2, 0, 1, 1, 2, 0, 1, 0, 2, 1, 1, 2, 1, 0, 1, 2, 0, 2, 2,\n",
              "       2])"
            ]
          },
          "metadata": {},
          "execution_count": 36
        }
      ]
    },
    {
      "cell_type": "markdown",
      "source": [
        "## Google Drive"
      ],
      "metadata": {
        "id": "JEfF_snUztJB"
      }
    },
    {
      "cell_type": "code",
      "source": [
        "from google.colab import drive\n",
        "drive.mount('/content/drive', force_remount = True)"
      ],
      "metadata": {
        "colab": {
          "base_uri": "https://localhost:8080/"
        },
        "id": "LFshUgRbzoSU",
        "outputId": "5d2eafe1-3841-4cd6-82c3-3bcde9fbbc68"
      },
      "execution_count": 57,
      "outputs": [
        {
          "output_type": "stream",
          "name": "stdout",
          "text": [
            "Mounted at /content/drive\n"
          ]
        }
      ]
    },
    {
      "cell_type": "code",
      "source": [
        "!mkdir -p '/content/drive/My Drive/Colab Notebooks/models'"
      ],
      "metadata": {
        "id": "mD0BUqMyzzQI"
      },
      "execution_count": 58,
      "outputs": []
    },
    {
      "cell_type": "code",
      "source": [
        "!ls -l '/content/drive/My Drive/Colab Notebooks/models'"
      ],
      "metadata": {
        "colab": {
          "base_uri": "https://localhost:8080/"
        },
        "id": "JdSGFuXoz834",
        "outputId": "87f01678-f8fe-4da3-a346-e3e6c09ef482"
      },
      "execution_count": 59,
      "outputs": [
        {
          "output_type": "stream",
          "name": "stdout",
          "text": [
            "total 0\n"
          ]
        }
      ]
    },
    {
      "cell_type": "code",
      "source": [
        "Model_iris.save('/content/drive/My Drive/Colab Notebooks/models/001_Model_iris.h5')"
      ],
      "metadata": {
        "id": "lI9BPsib0BnR"
      },
      "execution_count": 60,
      "outputs": []
    },
    {
      "cell_type": "code",
      "source": [
        "!ls -l '/content/drive/My Drive/Colab Notebooks/models'"
      ],
      "metadata": {
        "colab": {
          "base_uri": "https://localhost:8080/"
        },
        "id": "kImk7NhW0TCW",
        "outputId": "5396dc75-d7b4-4ef2-88fa-68131042abff"
      },
      "execution_count": 61,
      "outputs": [
        {
          "output_type": "stream",
          "name": "stdout",
          "text": [
            "total 34\n",
            "-rw------- 1 root root 34240 Oct 10 04:27 001_Model_iris.h5\n"
          ]
        }
      ]
    },
    {
      "cell_type": "code",
      "source": [
        "from tensorflow.keras.models import load_model\n",
        "Model_google = load_model('/content/drive/My Drive/Colab Notebooks/models/001_Model_iris.h5')"
      ],
      "metadata": {
        "id": "lnAIw3380WuR"
      },
      "execution_count": 64,
      "outputs": []
    },
    {
      "cell_type": "code",
      "source": [
        "np.argmax(Model_google.predict(X_test,verbose=0), axis=1)"
      ],
      "metadata": {
        "colab": {
          "base_uri": "https://localhost:8080/"
        },
        "id": "1YXUTpvE0wlJ",
        "outputId": "3ec3dfdf-276e-4964-9355-d925b751d906"
      },
      "execution_count": 65,
      "outputs": [
        {
          "output_type": "execute_result",
          "data": {
            "text/plain": [
              "array([0, 0, 1, 2, 0, 1, 2, 0, 2, 0, 1, 2, 1, 0, 0, 1, 1, 0, 1, 0, 0, 0,\n",
              "       2, 0, 2, 2, 0, 1, 1, 2, 0, 1, 0, 2, 1, 1, 2, 1, 0, 1, 2, 0, 2, 2,\n",
              "       2])"
            ]
          },
          "metadata": {},
          "execution_count": 65
        }
      ]
    }
  ]
}