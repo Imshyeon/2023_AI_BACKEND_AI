{
  "nbformat": 4,
  "nbformat_minor": 0,
  "metadata": {
    "colab": {
      "provenance": [],
      "gpuType": "T4",
      "authorship_tag": "ABX9TyMtccCZMtCpzdnE0qIjas/e",
      "include_colab_link": true
    },
    "kernelspec": {
      "name": "python3",
      "display_name": "Python 3"
    },
    "language_info": {
      "name": "python"
    },
    "accelerator": "GPU"
  },
  "cells": [
    {
      "cell_type": "markdown",
      "metadata": {
        "id": "view-in-github",
        "colab_type": "text"
      },
      "source": [
        "<a href=\"https://colab.research.google.com/github/Imshyeon/2023_AI_BACKEND_AI/blob/master/Deep%20Learning/CNN_mnist_Modeling_GPU.ipynb\" target=\"_parent\"><img src=\"https://colab.research.google.com/assets/colab-badge.svg\" alt=\"Open In Colab\"/></a>"
      ]
    },
    {
      "cell_type": "code",
      "execution_count": 1,
      "metadata": {
        "id": "W_glgqh8xKVI"
      },
      "outputs": [],
      "source": [
        "import warnings\n",
        "warnings.filterwarnings('ignore')"
      ]
    },
    {
      "cell_type": "code",
      "source": [
        "import tensorflow\n",
        "\n",
        "tensorflow.__version__"
      ],
      "metadata": {
        "colab": {
          "base_uri": "https://localhost:8080/",
          "height": 56
        },
        "id": "39w3Rg6SxVv1",
        "outputId": "77b40ac8-6fa7-496d-f143-d299e513c124"
      },
      "execution_count": 2,
      "outputs": [
        {
          "output_type": "execute_result",
          "data": {
            "text/plain": [
              "'2.13.0'"
            ],
            "application/vnd.google.colaboratory.intrinsic+json": {
              "type": "string"
            }
          },
          "metadata": {},
          "execution_count": 2
        }
      ]
    },
    {
      "cell_type": "markdown",
      "source": [
        "# MNIST Data_Set Load"
      ],
      "metadata": {
        "id": "2GSiD2VlxZ8W"
      }
    },
    {
      "cell_type": "code",
      "source": [
        "from tensorflow.keras.datasets import mnist\n",
        "\n",
        "(X_train, y_train), (X_test, y_test) = mnist.load_data()\n",
        "\n",
        "X_train.shape, y_train.shape, X_test.shape, y_test.shape"
      ],
      "metadata": {
        "colab": {
          "base_uri": "https://localhost:8080/"
        },
        "id": "qT6uxJqbxY3G",
        "outputId": "7bee926d-b2b0-4a3c-bedf-6980b9dd663b"
      },
      "execution_count": 5,
      "outputs": [
        {
          "output_type": "stream",
          "name": "stdout",
          "text": [
            "Downloading data from https://storage.googleapis.com/tensorflow/tf-keras-datasets/mnist.npz\n",
            "11490434/11490434 [==============================] - 0s 0us/step\n"
          ]
        },
        {
          "output_type": "execute_result",
          "data": {
            "text/plain": [
              "((60000, 28, 28), (60000,), (10000, 28, 28), (10000,))"
            ]
          },
          "metadata": {},
          "execution_count": 5
        }
      ]
    },
    {
      "cell_type": "markdown",
      "source": [
        "# Data Preprocessing"
      ],
      "metadata": {
        "id": "eUFvYerpx55_"
      }
    },
    {
      "cell_type": "code",
      "source": [
        "X_train = X_train.astype(float) / 255\n",
        "X_test = X_test.astype(float) / 255"
      ],
      "metadata": {
        "id": "Paif-54nxqnx"
      },
      "execution_count": 6,
      "outputs": []
    },
    {
      "cell_type": "code",
      "source": [
        "X_train = X_train.reshape((60000, 28,28,1))\n",
        "X_test = X_test.reshape((10000, 28,28,1))"
      ],
      "metadata": {
        "id": "xZfbnpmYyBqx"
      },
      "execution_count": 8,
      "outputs": []
    },
    {
      "cell_type": "code",
      "source": [
        "from tensorflow.keras.utils import to_categorical\n",
        "\n",
        "y_train = to_categorical(y_train)\n",
        "y_test = to_categorical(y_test)"
      ],
      "metadata": {
        "id": "huoBdn-oyHnv"
      },
      "execution_count": 9,
      "outputs": []
    },
    {
      "cell_type": "code",
      "source": [
        "from sklearn.model_selection import train_test_split\n",
        "\n",
        "X_train, X_valid, y_train, y_valid = train_test_split(X_train, y_train,\n",
        "                                                      test_size = 0.2,\n",
        "                                                      random_state = 2045)\n",
        "\n",
        "X_train.shape, y_train.shape, X_valid.shape, y_valid.shape"
      ],
      "metadata": {
        "colab": {
          "base_uri": "https://localhost:8080/"
        },
        "id": "JFD7VpMYyRD2",
        "outputId": "91314822-5fa2-4c1b-cb0f-a393f5d5337a"
      },
      "execution_count": 10,
      "outputs": [
        {
          "output_type": "execute_result",
          "data": {
            "text/plain": [
              "((48000, 28, 28, 1), (48000, 10), (12000, 28, 28, 1), (12000, 10))"
            ]
          },
          "metadata": {},
          "execution_count": 10
        }
      ]
    },
    {
      "cell_type": "markdown",
      "source": [
        "# MNIST Keras Modeling"
      ],
      "metadata": {
        "id": "x2uf3hrUyiIl"
      }
    },
    {
      "cell_type": "code",
      "source": [
        "from tensorflow.keras import models\n",
        "from tensorflow.keras import layers\n",
        "\n",
        "model = models.Sequential()\n",
        "model.add(layers.Conv2D(filters = 8, kernel_size = (3,3),\n",
        "                        strides = (1,1), padding = 'valid',\n",
        "                        activation = 'relu', input_shape = (28, 28, 1)))\n",
        "model.add(layers.MaxPool2D(pool_size = (2,2)))\n",
        "model.add(layers.Conv2D(filters = 16, kernel_size = (3,3),\n",
        "                        strides = (1,1), padding = 'valid',\n",
        "                        activation = 'relu'))\n",
        "model.add(layers.MaxPool2D(pool_size = (2,2)))\n",
        "model.add(layers.Conv2D(filters = 32, kernel_size = (3,3),\n",
        "                        strides = (1,1), padding = 'valid',\n",
        "                        activation = 'relu'))"
      ],
      "metadata": {
        "id": "AYSxivA-yhSt"
      },
      "execution_count": 11,
      "outputs": []
    },
    {
      "cell_type": "code",
      "source": [
        "model.summary()"
      ],
      "metadata": {
        "colab": {
          "base_uri": "https://localhost:8080/"
        },
        "id": "I-wD8ucPzFKx",
        "outputId": "ea6a729b-0416-41e6-e50e-848d08576834"
      },
      "execution_count": 12,
      "outputs": [
        {
          "output_type": "stream",
          "name": "stdout",
          "text": [
            "Model: \"sequential\"\n",
            "_________________________________________________________________\n",
            " Layer (type)                Output Shape              Param #   \n",
            "=================================================================\n",
            " conv2d (Conv2D)             (None, 26, 26, 8)         80        \n",
            "                                                                 \n",
            " max_pooling2d (MaxPooling2  (None, 13, 13, 8)         0         \n",
            " D)                                                              \n",
            "                                                                 \n",
            " conv2d_1 (Conv2D)           (None, 11, 11, 16)        1168      \n",
            "                                                                 \n",
            " max_pooling2d_1 (MaxPoolin  (None, 5, 5, 16)          0         \n",
            " g2D)                                                            \n",
            "                                                                 \n",
            " conv2d_2 (Conv2D)           (None, 3, 3, 32)          4640      \n",
            "                                                                 \n",
            "=================================================================\n",
            "Total params: 5888 (23.00 KB)\n",
            "Trainable params: 5888 (23.00 KB)\n",
            "Non-trainable params: 0 (0.00 Byte)\n",
            "_________________________________________________________________\n"
          ]
        }
      ]
    },
    {
      "cell_type": "code",
      "source": [
        "model.add(layers.Flatten())\n",
        "model.add(layers.Dropout(0.5))\n",
        "model.add(layers.Dense(units = 64, activation = 'relu'))\n",
        "model.add(layers.Dense(units = 10, activation = 'softmax'))"
      ],
      "metadata": {
        "id": "DbMenEmAzF_q"
      },
      "execution_count": 13,
      "outputs": []
    },
    {
      "cell_type": "code",
      "source": [
        "model.summary()"
      ],
      "metadata": {
        "colab": {
          "base_uri": "https://localhost:8080/"
        },
        "id": "uk1R1GtSzRk6",
        "outputId": "3840b01b-ef23-46b0-fd41-9dea532f7bd2"
      },
      "execution_count": 14,
      "outputs": [
        {
          "output_type": "stream",
          "name": "stdout",
          "text": [
            "Model: \"sequential\"\n",
            "_________________________________________________________________\n",
            " Layer (type)                Output Shape              Param #   \n",
            "=================================================================\n",
            " conv2d (Conv2D)             (None, 26, 26, 8)         80        \n",
            "                                                                 \n",
            " max_pooling2d (MaxPooling2  (None, 13, 13, 8)         0         \n",
            " D)                                                              \n",
            "                                                                 \n",
            " conv2d_1 (Conv2D)           (None, 11, 11, 16)        1168      \n",
            "                                                                 \n",
            " max_pooling2d_1 (MaxPoolin  (None, 5, 5, 16)          0         \n",
            " g2D)                                                            \n",
            "                                                                 \n",
            " conv2d_2 (Conv2D)           (None, 3, 3, 32)          4640      \n",
            "                                                                 \n",
            " flatten (Flatten)           (None, 288)               0         \n",
            "                                                                 \n",
            " dropout (Dropout)           (None, 288)               0         \n",
            "                                                                 \n",
            " dense (Dense)               (None, 64)                18496     \n",
            "                                                                 \n",
            " dense_1 (Dense)             (None, 10)                650       \n",
            "                                                                 \n",
            "=================================================================\n",
            "Total params: 25034 (97.79 KB)\n",
            "Trainable params: 25034 (97.79 KB)\n",
            "Non-trainable params: 0 (0.00 Byte)\n",
            "_________________________________________________________________\n"
          ]
        }
      ]
    },
    {
      "cell_type": "code",
      "source": [
        "model.compile(loss='categorical_crossentropy',\n",
        "              optimizer = 'rmsprop',\n",
        "              metrics = ['accuracy'])"
      ],
      "metadata": {
        "id": "-s6Z5RLkzSQz"
      },
      "execution_count": 15,
      "outputs": []
    },
    {
      "cell_type": "code",
      "source": [
        "%%time\n",
        "\n",
        "Hist_mnist = model.fit(X_train, y_train,\n",
        "                       epochs = 100,\n",
        "                       batch_size = 128,\n",
        "                       validation_data = (X_valid, y_valid))"
      ],
      "metadata": {
        "colab": {
          "base_uri": "https://localhost:8080/"
        },
        "id": "OIl0y19AzZdt",
        "outputId": "9f392318-9f2f-4bc4-d16b-944d6ed4c504"
      },
      "execution_count": 16,
      "outputs": [
        {
          "output_type": "stream",
          "name": "stdout",
          "text": [
            "Epoch 1/100\n",
            "375/375 [==============================] - 15s 9ms/step - loss: 0.5387 - accuracy: 0.8323 - val_loss: 0.1534 - val_accuracy: 0.9531\n",
            "Epoch 2/100\n",
            "375/375 [==============================] - 3s 8ms/step - loss: 0.1728 - accuracy: 0.9452 - val_loss: 0.1014 - val_accuracy: 0.9703\n",
            "Epoch 3/100\n",
            "375/375 [==============================] - 3s 7ms/step - loss: 0.1261 - accuracy: 0.9597 - val_loss: 0.0830 - val_accuracy: 0.9753\n",
            "Epoch 4/100\n",
            "375/375 [==============================] - 2s 6ms/step - loss: 0.1035 - accuracy: 0.9672 - val_loss: 0.0711 - val_accuracy: 0.9788\n",
            "Epoch 5/100\n",
            "375/375 [==============================] - 2s 5ms/step - loss: 0.0942 - accuracy: 0.9705 - val_loss: 0.0650 - val_accuracy: 0.9803\n",
            "Epoch 6/100\n",
            "375/375 [==============================] - 4s 11ms/step - loss: 0.0837 - accuracy: 0.9736 - val_loss: 0.0565 - val_accuracy: 0.9827\n",
            "Epoch 7/100\n",
            "375/375 [==============================] - 3s 9ms/step - loss: 0.0773 - accuracy: 0.9759 - val_loss: 0.0563 - val_accuracy: 0.9825\n",
            "Epoch 8/100\n",
            "375/375 [==============================] - 3s 7ms/step - loss: 0.0737 - accuracy: 0.9770 - val_loss: 0.0508 - val_accuracy: 0.9849\n",
            "Epoch 9/100\n",
            "375/375 [==============================] - 3s 7ms/step - loss: 0.0690 - accuracy: 0.9780 - val_loss: 0.0528 - val_accuracy: 0.9840\n",
            "Epoch 10/100\n",
            "375/375 [==============================] - 4s 11ms/step - loss: 0.0649 - accuracy: 0.9799 - val_loss: 0.0501 - val_accuracy: 0.9839\n",
            "Epoch 11/100\n",
            "375/375 [==============================] - 3s 8ms/step - loss: 0.0617 - accuracy: 0.9801 - val_loss: 0.0491 - val_accuracy: 0.9865\n",
            "Epoch 12/100\n",
            "375/375 [==============================] - 4s 10ms/step - loss: 0.0585 - accuracy: 0.9821 - val_loss: 0.0448 - val_accuracy: 0.9863\n",
            "Epoch 13/100\n",
            "375/375 [==============================] - 3s 9ms/step - loss: 0.0553 - accuracy: 0.9830 - val_loss: 0.0503 - val_accuracy: 0.9860\n",
            "Epoch 14/100\n",
            "375/375 [==============================] - 3s 9ms/step - loss: 0.0557 - accuracy: 0.9818 - val_loss: 0.0430 - val_accuracy: 0.9866\n",
            "Epoch 15/100\n",
            "375/375 [==============================] - 3s 7ms/step - loss: 0.0516 - accuracy: 0.9833 - val_loss: 0.0470 - val_accuracy: 0.9869\n",
            "Epoch 16/100\n",
            "375/375 [==============================] - 3s 8ms/step - loss: 0.0499 - accuracy: 0.9843 - val_loss: 0.0423 - val_accuracy: 0.9882\n",
            "Epoch 17/100\n",
            "375/375 [==============================] - 3s 8ms/step - loss: 0.0504 - accuracy: 0.9835 - val_loss: 0.0406 - val_accuracy: 0.9883\n",
            "Epoch 18/100\n",
            "375/375 [==============================] - 4s 10ms/step - loss: 0.0479 - accuracy: 0.9845 - val_loss: 0.0466 - val_accuracy: 0.9873\n",
            "Epoch 19/100\n",
            "375/375 [==============================] - 2s 6ms/step - loss: 0.0474 - accuracy: 0.9850 - val_loss: 0.0442 - val_accuracy: 0.9884\n",
            "Epoch 20/100\n",
            "375/375 [==============================] - 2s 6ms/step - loss: 0.0456 - accuracy: 0.9854 - val_loss: 0.0464 - val_accuracy: 0.9878\n",
            "Epoch 21/100\n",
            "375/375 [==============================] - 2s 6ms/step - loss: 0.0432 - accuracy: 0.9858 - val_loss: 0.0437 - val_accuracy: 0.9883\n",
            "Epoch 22/100\n",
            "375/375 [==============================] - 3s 7ms/step - loss: 0.0447 - accuracy: 0.9859 - val_loss: 0.0399 - val_accuracy: 0.9896\n",
            "Epoch 23/100\n",
            "375/375 [==============================] - 3s 9ms/step - loss: 0.0431 - accuracy: 0.9860 - val_loss: 0.0407 - val_accuracy: 0.9892\n",
            "Epoch 24/100\n",
            "375/375 [==============================] - 2s 6ms/step - loss: 0.0421 - accuracy: 0.9859 - val_loss: 0.0425 - val_accuracy: 0.9882\n",
            "Epoch 25/100\n",
            "375/375 [==============================] - 3s 7ms/step - loss: 0.0406 - accuracy: 0.9862 - val_loss: 0.0411 - val_accuracy: 0.9893\n",
            "Epoch 26/100\n",
            "375/375 [==============================] - 3s 7ms/step - loss: 0.0410 - accuracy: 0.9868 - val_loss: 0.0398 - val_accuracy: 0.9887\n",
            "Epoch 27/100\n",
            "375/375 [==============================] - 3s 9ms/step - loss: 0.0381 - accuracy: 0.9877 - val_loss: 0.0394 - val_accuracy: 0.9891\n",
            "Epoch 28/100\n",
            "375/375 [==============================] - 3s 8ms/step - loss: 0.0381 - accuracy: 0.9876 - val_loss: 0.0397 - val_accuracy: 0.9886\n",
            "Epoch 29/100\n",
            "375/375 [==============================] - 2s 7ms/step - loss: 0.0364 - accuracy: 0.9879 - val_loss: 0.0404 - val_accuracy: 0.9887\n",
            "Epoch 30/100\n",
            "375/375 [==============================] - 2s 6ms/step - loss: 0.0376 - accuracy: 0.9875 - val_loss: 0.0426 - val_accuracy: 0.9891\n",
            "Epoch 31/100\n",
            "375/375 [==============================] - 3s 8ms/step - loss: 0.0366 - accuracy: 0.9884 - val_loss: 0.0366 - val_accuracy: 0.9900\n",
            "Epoch 32/100\n",
            "375/375 [==============================] - 3s 7ms/step - loss: 0.0346 - accuracy: 0.9892 - val_loss: 0.0378 - val_accuracy: 0.9903\n",
            "Epoch 33/100\n",
            "375/375 [==============================] - 2s 6ms/step - loss: 0.0360 - accuracy: 0.9884 - val_loss: 0.0452 - val_accuracy: 0.9883\n",
            "Epoch 34/100\n",
            "375/375 [==============================] - 2s 6ms/step - loss: 0.0372 - accuracy: 0.9885 - val_loss: 0.0378 - val_accuracy: 0.9892\n",
            "Epoch 35/100\n",
            "375/375 [==============================] - 2s 6ms/step - loss: 0.0344 - accuracy: 0.9888 - val_loss: 0.0443 - val_accuracy: 0.9891\n",
            "Epoch 36/100\n",
            "375/375 [==============================] - 2s 5ms/step - loss: 0.0340 - accuracy: 0.9891 - val_loss: 0.0409 - val_accuracy: 0.9890\n",
            "Epoch 37/100\n",
            "375/375 [==============================] - 3s 8ms/step - loss: 0.0329 - accuracy: 0.9893 - val_loss: 0.0454 - val_accuracy: 0.9872\n",
            "Epoch 38/100\n",
            "375/375 [==============================] - 2s 6ms/step - loss: 0.0329 - accuracy: 0.9893 - val_loss: 0.0423 - val_accuracy: 0.9887\n",
            "Epoch 39/100\n",
            "375/375 [==============================] - 2s 6ms/step - loss: 0.0319 - accuracy: 0.9900 - val_loss: 0.0444 - val_accuracy: 0.9890\n",
            "Epoch 40/100\n",
            "375/375 [==============================] - 2s 5ms/step - loss: 0.0306 - accuracy: 0.9907 - val_loss: 0.0431 - val_accuracy: 0.9887\n",
            "Epoch 41/100\n",
            "375/375 [==============================] - 2s 7ms/step - loss: 0.0322 - accuracy: 0.9898 - val_loss: 0.0444 - val_accuracy: 0.9892\n",
            "Epoch 42/100\n",
            "375/375 [==============================] - 2s 6ms/step - loss: 0.0303 - accuracy: 0.9901 - val_loss: 0.0441 - val_accuracy: 0.9890\n",
            "Epoch 43/100\n",
            "375/375 [==============================] - 3s 7ms/step - loss: 0.0309 - accuracy: 0.9900 - val_loss: 0.0389 - val_accuracy: 0.9900\n",
            "Epoch 44/100\n",
            "375/375 [==============================] - 3s 7ms/step - loss: 0.0313 - accuracy: 0.9900 - val_loss: 0.0397 - val_accuracy: 0.9897\n",
            "Epoch 45/100\n",
            "375/375 [==============================] - 2s 5ms/step - loss: 0.0315 - accuracy: 0.9898 - val_loss: 0.0457 - val_accuracy: 0.9883\n",
            "Epoch 46/100\n",
            "375/375 [==============================] - 2s 6ms/step - loss: 0.0312 - accuracy: 0.9897 - val_loss: 0.0428 - val_accuracy: 0.9892\n",
            "Epoch 47/100\n",
            "375/375 [==============================] - 3s 9ms/step - loss: 0.0294 - accuracy: 0.9905 - val_loss: 0.0408 - val_accuracy: 0.9892\n",
            "Epoch 48/100\n",
            "375/375 [==============================] - 3s 8ms/step - loss: 0.0300 - accuracy: 0.9904 - val_loss: 0.0421 - val_accuracy: 0.9900\n",
            "Epoch 49/100\n",
            "375/375 [==============================] - 2s 6ms/step - loss: 0.0282 - accuracy: 0.9911 - val_loss: 0.0424 - val_accuracy: 0.9899\n",
            "Epoch 50/100\n",
            "375/375 [==============================] - 2s 5ms/step - loss: 0.0282 - accuracy: 0.9913 - val_loss: 0.0423 - val_accuracy: 0.9896\n",
            "Epoch 51/100\n",
            "375/375 [==============================] - 2s 6ms/step - loss: 0.0297 - accuracy: 0.9903 - val_loss: 0.0427 - val_accuracy: 0.9904\n",
            "Epoch 52/100\n",
            "375/375 [==============================] - 4s 11ms/step - loss: 0.0263 - accuracy: 0.9918 - val_loss: 0.0451 - val_accuracy: 0.9889\n",
            "Epoch 53/100\n",
            "375/375 [==============================] - 4s 10ms/step - loss: 0.0292 - accuracy: 0.9905 - val_loss: 0.0364 - val_accuracy: 0.9905\n",
            "Epoch 54/100\n",
            "375/375 [==============================] - 4s 10ms/step - loss: 0.0280 - accuracy: 0.9904 - val_loss: 0.0397 - val_accuracy: 0.9902\n",
            "Epoch 55/100\n",
            "375/375 [==============================] - 3s 8ms/step - loss: 0.0298 - accuracy: 0.9904 - val_loss: 0.0379 - val_accuracy: 0.9909\n",
            "Epoch 56/100\n",
            "375/375 [==============================] - 3s 9ms/step - loss: 0.0257 - accuracy: 0.9909 - val_loss: 0.0413 - val_accuracy: 0.9899\n",
            "Epoch 57/100\n",
            "375/375 [==============================] - 3s 7ms/step - loss: 0.0270 - accuracy: 0.9912 - val_loss: 0.0441 - val_accuracy: 0.9901\n",
            "Epoch 58/100\n",
            "375/375 [==============================] - 3s 8ms/step - loss: 0.0263 - accuracy: 0.9918 - val_loss: 0.0386 - val_accuracy: 0.9904\n",
            "Epoch 59/100\n",
            "375/375 [==============================] - 3s 8ms/step - loss: 0.0279 - accuracy: 0.9911 - val_loss: 0.0381 - val_accuracy: 0.9902\n",
            "Epoch 60/100\n",
            "375/375 [==============================] - 3s 8ms/step - loss: 0.0282 - accuracy: 0.9904 - val_loss: 0.0379 - val_accuracy: 0.9897\n",
            "Epoch 61/100\n",
            "375/375 [==============================] - 2s 6ms/step - loss: 0.0267 - accuracy: 0.9908 - val_loss: 0.0385 - val_accuracy: 0.9902\n",
            "Epoch 62/100\n",
            "375/375 [==============================] - 3s 7ms/step - loss: 0.0264 - accuracy: 0.9913 - val_loss: 0.0436 - val_accuracy: 0.9898\n",
            "Epoch 63/100\n",
            "375/375 [==============================] - 3s 7ms/step - loss: 0.0261 - accuracy: 0.9915 - val_loss: 0.0469 - val_accuracy: 0.9889\n",
            "Epoch 64/100\n",
            "375/375 [==============================] - 2s 6ms/step - loss: 0.0271 - accuracy: 0.9909 - val_loss: 0.0421 - val_accuracy: 0.9897\n",
            "Epoch 65/100\n",
            "375/375 [==============================] - 2s 6ms/step - loss: 0.0259 - accuracy: 0.9914 - val_loss: 0.0420 - val_accuracy: 0.9906\n",
            "Epoch 66/100\n",
            "375/375 [==============================] - 2s 5ms/step - loss: 0.0255 - accuracy: 0.9915 - val_loss: 0.0410 - val_accuracy: 0.9907\n",
            "Epoch 67/100\n",
            "375/375 [==============================] - 2s 5ms/step - loss: 0.0253 - accuracy: 0.9919 - val_loss: 0.0384 - val_accuracy: 0.9899\n",
            "Epoch 68/100\n",
            "375/375 [==============================] - 2s 5ms/step - loss: 0.0262 - accuracy: 0.9916 - val_loss: 0.0453 - val_accuracy: 0.9894\n",
            "Epoch 69/100\n",
            "375/375 [==============================] - 2s 5ms/step - loss: 0.0251 - accuracy: 0.9919 - val_loss: 0.0436 - val_accuracy: 0.9884\n",
            "Epoch 70/100\n",
            "375/375 [==============================] - 2s 5ms/step - loss: 0.0234 - accuracy: 0.9925 - val_loss: 0.0421 - val_accuracy: 0.9910\n",
            "Epoch 71/100\n",
            "375/375 [==============================] - 2s 6ms/step - loss: 0.0252 - accuracy: 0.9917 - val_loss: 0.0457 - val_accuracy: 0.9902\n",
            "Epoch 72/100\n",
            "375/375 [==============================] - 2s 6ms/step - loss: 0.0249 - accuracy: 0.9918 - val_loss: 0.0402 - val_accuracy: 0.9908\n",
            "Epoch 73/100\n",
            "375/375 [==============================] - 2s 5ms/step - loss: 0.0245 - accuracy: 0.9921 - val_loss: 0.0401 - val_accuracy: 0.9908\n",
            "Epoch 74/100\n",
            "375/375 [==============================] - 2s 5ms/step - loss: 0.0255 - accuracy: 0.9919 - val_loss: 0.0477 - val_accuracy: 0.9898\n",
            "Epoch 75/100\n",
            "375/375 [==============================] - 2s 5ms/step - loss: 0.0249 - accuracy: 0.9923 - val_loss: 0.0425 - val_accuracy: 0.9904\n",
            "Epoch 76/100\n",
            "375/375 [==============================] - 2s 5ms/step - loss: 0.0255 - accuracy: 0.9915 - val_loss: 0.0453 - val_accuracy: 0.9902\n",
            "Epoch 77/100\n",
            "375/375 [==============================] - 2s 5ms/step - loss: 0.0244 - accuracy: 0.9919 - val_loss: 0.0440 - val_accuracy: 0.9898\n",
            "Epoch 78/100\n",
            "375/375 [==============================] - 2s 6ms/step - loss: 0.0248 - accuracy: 0.9924 - val_loss: 0.0407 - val_accuracy: 0.9900\n",
            "Epoch 79/100\n",
            "375/375 [==============================] - 2s 5ms/step - loss: 0.0242 - accuracy: 0.9921 - val_loss: 0.0471 - val_accuracy: 0.9898\n",
            "Epoch 80/100\n",
            "375/375 [==============================] - 2s 5ms/step - loss: 0.0246 - accuracy: 0.9916 - val_loss: 0.0415 - val_accuracy: 0.9909\n",
            "Epoch 81/100\n",
            "375/375 [==============================] - 2s 5ms/step - loss: 0.0233 - accuracy: 0.9924 - val_loss: 0.0379 - val_accuracy: 0.9906\n",
            "Epoch 82/100\n",
            "375/375 [==============================] - 2s 5ms/step - loss: 0.0230 - accuracy: 0.9921 - val_loss: 0.0454 - val_accuracy: 0.9902\n",
            "Epoch 83/100\n",
            "375/375 [==============================] - 2s 5ms/step - loss: 0.0222 - accuracy: 0.9927 - val_loss: 0.0437 - val_accuracy: 0.9904\n",
            "Epoch 84/100\n",
            "375/375 [==============================] - 2s 6ms/step - loss: 0.0229 - accuracy: 0.9924 - val_loss: 0.0397 - val_accuracy: 0.9902\n",
            "Epoch 85/100\n",
            "375/375 [==============================] - 2s 5ms/step - loss: 0.0238 - accuracy: 0.9920 - val_loss: 0.0513 - val_accuracy: 0.9897\n",
            "Epoch 86/100\n",
            "375/375 [==============================] - 2s 5ms/step - loss: 0.0240 - accuracy: 0.9923 - val_loss: 0.0418 - val_accuracy: 0.9906\n",
            "Epoch 87/100\n",
            "375/375 [==============================] - 2s 5ms/step - loss: 0.0224 - accuracy: 0.9928 - val_loss: 0.0497 - val_accuracy: 0.9905\n",
            "Epoch 88/100\n",
            "375/375 [==============================] - 2s 5ms/step - loss: 0.0233 - accuracy: 0.9923 - val_loss: 0.0407 - val_accuracy: 0.9896\n",
            "Epoch 89/100\n",
            "375/375 [==============================] - 2s 5ms/step - loss: 0.0236 - accuracy: 0.9918 - val_loss: 0.0435 - val_accuracy: 0.9901\n",
            "Epoch 90/100\n",
            "375/375 [==============================] - 2s 5ms/step - loss: 0.0208 - accuracy: 0.9932 - val_loss: 0.0441 - val_accuracy: 0.9901\n",
            "Epoch 91/100\n",
            "375/375 [==============================] - 3s 7ms/step - loss: 0.0228 - accuracy: 0.9921 - val_loss: 0.0387 - val_accuracy: 0.9914\n",
            "Epoch 92/100\n",
            "375/375 [==============================] - 2s 5ms/step - loss: 0.0215 - accuracy: 0.9929 - val_loss: 0.0414 - val_accuracy: 0.9902\n",
            "Epoch 93/100\n",
            "375/375 [==============================] - 2s 5ms/step - loss: 0.0210 - accuracy: 0.9936 - val_loss: 0.0444 - val_accuracy: 0.9911\n",
            "Epoch 94/100\n",
            "375/375 [==============================] - 2s 5ms/step - loss: 0.0218 - accuracy: 0.9926 - val_loss: 0.0402 - val_accuracy: 0.9898\n",
            "Epoch 95/100\n",
            "375/375 [==============================] - 2s 5ms/step - loss: 0.0214 - accuracy: 0.9930 - val_loss: 0.0438 - val_accuracy: 0.9908\n",
            "Epoch 96/100\n",
            "375/375 [==============================] - 2s 5ms/step - loss: 0.0224 - accuracy: 0.9925 - val_loss: 0.0418 - val_accuracy: 0.9907\n",
            "Epoch 97/100\n",
            "375/375 [==============================] - 2s 6ms/step - loss: 0.0215 - accuracy: 0.9928 - val_loss: 0.0466 - val_accuracy: 0.9906\n",
            "Epoch 98/100\n",
            "375/375 [==============================] - 2s 5ms/step - loss: 0.0217 - accuracy: 0.9924 - val_loss: 0.0442 - val_accuracy: 0.9890\n",
            "Epoch 99/100\n",
            "375/375 [==============================] - 2s 5ms/step - loss: 0.0228 - accuracy: 0.9923 - val_loss: 0.0455 - val_accuracy: 0.9902\n",
            "Epoch 100/100\n",
            "375/375 [==============================] - 2s 5ms/step - loss: 0.0219 - accuracy: 0.9931 - val_loss: 0.0447 - val_accuracy: 0.9909\n",
            "CPU times: user 3min 29s, sys: 15.9 s, total: 3min 45s\n",
            "Wall time: 4min 23s\n"
          ]
        }
      ]
    },
    {
      "cell_type": "code",
      "source": [
        "import matplotlib.pyplot as plt\n",
        "\n",
        "epochs = range(1, len(Hist_mnist.history['loss']) + 1)\n",
        "\n",
        "plt.figure(figsize = (15,5))\n",
        "\n",
        "plt.subplot(1,2,1)\n",
        "plt.plot(epochs, Hist_mnist.history['loss'], 'b-')\n",
        "plt.plot(epochs, Hist_mnist.history['val_loss'], 'r--')\n",
        "plt.title('Training & Validation Loss')\n",
        "plt.xlabel('Epochs')\n",
        "plt.ylabel('Loss')\n",
        "plt.legend(['Training Loss', 'Validation Loss'])\n",
        "plt.grid()\n",
        "\n",
        "plt.subplot(1,2,2)\n",
        "plt.plot(epochs, Hist_mnist.history['accuracy'], 'b-')\n",
        "plt.plot(epochs, Hist_mnist.history['val_accuracy'], 'r--')\n",
        "plt.title('Training & Validation Accuracy')\n",
        "plt.xlabel('Epochs')\n",
        "plt.ylabel('Accuracy')\n",
        "plt.legend(['Training Accuracy', 'Validation Accuracy'])\n",
        "plt.grid()\n",
        "\n",
        "plt.show()"
      ],
      "metadata": {
        "colab": {
          "base_uri": "https://localhost:8080/",
          "height": 278
        },
        "id": "gjOu83hzzgng",
        "outputId": "f4aa84ba-3aa4-43aa-9405-6d21b1af759e"
      },
      "execution_count": 17,
      "outputs": [
        {
          "output_type": "display_data",
          "data": {
            "text/plain": [
              "<Figure size 1500x500 with 2 Axes>"
            ],
            "image/png": "[encoded data removed]"
          },
          "metadata": {}
        }
      ]
    },
    {
      "cell_type": "code",
      "source": [
        "loss, accuracy = model.evaluate(X_test, y_test, verbose = 0)\n",
        "\n",
        "print('Loss = {:.5f}'.format(loss))\n",
        "print('Accuracy = {:.5f}'.format(accuracy))"
      ],
      "metadata": {
        "colab": {
          "base_uri": "https://localhost:8080/"
        },
        "id": "n3evfR7n0D2s",
        "outputId": "c84c39fa-8629-446b-bc8b-b8351e18cdfd"
      },
      "execution_count": 18,
      "outputs": [
        {
          "output_type": "stream",
          "name": "stdout",
          "text": [
            "Loss = 0.03096\n",
            "Accuracy = 0.99210\n"
          ]
        }
      ]
    }
  ]
}
